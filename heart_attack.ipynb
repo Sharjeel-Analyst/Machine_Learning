{
 "cells": [
  {
   "cell_type": "code",
   "execution_count": 138,
   "metadata": {},
   "outputs": [],
   "source": [
    "# importiing necessary libraries\n",
    "\n",
    "import pandas as pd\n",
    "import numpy as np\n",
    "import matplotlib.pyplot as plt\n",
    "import seaborn as sns\n",
    "%matplotlib inline\n",
    "\n",
    "from imblearn.over_sampling import SMOTE\n",
    "from sklearn.model_selection import train_test_split\n",
    "\n",
    "from sklearn.preprocessing import LabelEncoder\n",
    "from sklearn.model_selection import train_test_split\n",
    "from sklearn.model_selection import RandomizedSearchCV\n",
    "from statsmodels.stats.outliers_influence import variance_inflation_factor\n",
    "from sklearn.ensemble import RandomForestClassifier\n",
    "from sklearn.metrics import accuracy_score, confusion_matrix, classification_report\n"
   ]
  },
  {
   "cell_type": "code",
   "execution_count": 139,
   "metadata": {},
   "outputs": [],
   "source": [
    "# to hide any runtime warnings\n",
    "import warnings\n",
    "warnings.filterwarnings('ignore')"
   ]
  },
  {
   "cell_type": "code",
   "execution_count": 140,
   "metadata": {},
   "outputs": [
    {
     "data": {
      "application/vnd.microsoft.datawrangler.viewer.v0+json": {
       "columns": [
        {
         "name": "index",
         "rawType": "int64",
         "type": "integer"
        },
        {
         "name": "Patient ID",
         "rawType": "object",
         "type": "string"
        },
        {
         "name": "Age",
         "rawType": "int64",
         "type": "integer"
        },
        {
         "name": "Sex",
         "rawType": "object",
         "type": "string"
        },
        {
         "name": "Cholesterol",
         "rawType": "int64",
         "type": "integer"
        },
        {
         "name": "Blood Pressure",
         "rawType": "object",
         "type": "string"
        },
        {
         "name": "Heart Rate",
         "rawType": "int64",
         "type": "integer"
        },
        {
         "name": "Diabetes",
         "rawType": "int64",
         "type": "integer"
        },
        {
         "name": "Family History",
         "rawType": "int64",
         "type": "integer"
        },
        {
         "name": "Smoking",
         "rawType": "int64",
         "type": "integer"
        },
        {
         "name": "Obesity",
         "rawType": "int64",
         "type": "integer"
        },
        {
         "name": "Alcohol Consumption",
         "rawType": "int64",
         "type": "integer"
        },
        {
         "name": "Exercise Hours Per Week",
         "rawType": "float64",
         "type": "float"
        },
        {
         "name": "Diet",
         "rawType": "object",
         "type": "string"
        },
        {
         "name": "Previous Heart Problems",
         "rawType": "int64",
         "type": "integer"
        },
        {
         "name": "Medication Use",
         "rawType": "int64",
         "type": "integer"
        },
        {
         "name": "Stress Level",
         "rawType": "int64",
         "type": "integer"
        },
        {
         "name": "Sedentary Hours Per Day",
         "rawType": "float64",
         "type": "float"
        },
        {
         "name": "Income",
         "rawType": "int64",
         "type": "integer"
        },
        {
         "name": "BMI",
         "rawType": "float64",
         "type": "float"
        },
        {
         "name": "Triglycerides",
         "rawType": "int64",
         "type": "integer"
        },
        {
         "name": "Physical Activity Days Per Week",
         "rawType": "int64",
         "type": "integer"
        },
        {
         "name": "Sleep Hours Per Day",
         "rawType": "int64",
         "type": "integer"
        },
        {
         "name": "Country",
         "rawType": "object",
         "type": "string"
        },
        {
         "name": "Continent",
         "rawType": "object",
         "type": "string"
        },
        {
         "name": "Hemisphere",
         "rawType": "object",
         "type": "string"
        },
        {
         "name": "Heart Attack Risk",
         "rawType": "int64",
         "type": "integer"
        }
       ],
       "conversionMethod": "pd.DataFrame",
       "ref": "3d9ca2e4-2e5f-45a3-942c-eefec1428e42",
       "rows": [
        [
         "0",
         "BMW7812",
         "67",
         "Male",
         "208",
         "158/88",
         "72",
         "0",
         "0",
         "1",
         "0",
         "0",
         "4.168188835442079",
         "Average",
         "0",
         "0",
         "9",
         "6.61500145291406",
         "261404",
         "31.2512327252954",
         "286",
         "0",
         "6",
         "Argentina",
         "South America",
         "Southern Hemisphere",
         "0"
        ],
        [
         "1",
         "CZE1114",
         "21",
         "Male",
         "389",
         "165/93",
         "98",
         "1",
         "1",
         "1",
         "1",
         "1",
         "1.8132416178634456",
         "Unhealthy",
         "1",
         "0",
         "1",
         "4.963458839757678",
         "285768",
         "27.1949733519874",
         "235",
         "1",
         "7",
         "Canada",
         "North America",
         "Northern Hemisphere",
         "0"
        ],
        [
         "2",
         "BNI9906",
         "21",
         "Female",
         "324",
         "174/99",
         "72",
         "1",
         "0",
         "0",
         "0",
         "0",
         "2.0783529861178884",
         "Healthy",
         "1",
         "1",
         "9",
         "9.463425838029828",
         "235282",
         "28.176570683909876",
         "587",
         "4",
         "4",
         "France",
         "Europe",
         "Northern Hemisphere",
         "0"
        ],
        [
         "3",
         "JLN3497",
         "84",
         "Male",
         "383",
         "163/100",
         "73",
         "1",
         "1",
         "1",
         "0",
         "1",
         "9.82812959348533",
         "Average",
         "1",
         "0",
         "9",
         "7.648980824461007",
         "125640",
         "36.464704293082846",
         "378",
         "3",
         "4",
         "Canada",
         "North America",
         "Northern Hemisphere",
         "0"
        ],
        [
         "4",
         "GFO8847",
         "66",
         "Male",
         "318",
         "91/88",
         "93",
         "1",
         "1",
         "1",
         "1",
         "0",
         "5.804298820315434",
         "Unhealthy",
         "1",
         "0",
         "6",
         "1.5148209264291386",
         "160555",
         "21.809144180619757",
         "231",
         "1",
         "5",
         "Thailand",
         "Asia",
         "Northern Hemisphere",
         "0"
        ]
       ],
       "shape": {
        "columns": 26,
        "rows": 5
       }
      },
      "text/html": [
       "<div>\n",
       "<style scoped>\n",
       "    .dataframe tbody tr th:only-of-type {\n",
       "        vertical-align: middle;\n",
       "    }\n",
       "\n",
       "    .dataframe tbody tr th {\n",
       "        vertical-align: top;\n",
       "    }\n",
       "\n",
       "    .dataframe thead th {\n",
       "        text-align: right;\n",
       "    }\n",
       "</style>\n",
       "<table border=\"1\" class=\"dataframe\">\n",
       "  <thead>\n",
       "    <tr style=\"text-align: right;\">\n",
       "      <th></th>\n",
       "      <th>Patient ID</th>\n",
       "      <th>Age</th>\n",
       "      <th>Sex</th>\n",
       "      <th>Cholesterol</th>\n",
       "      <th>Blood Pressure</th>\n",
       "      <th>Heart Rate</th>\n",
       "      <th>Diabetes</th>\n",
       "      <th>Family History</th>\n",
       "      <th>Smoking</th>\n",
       "      <th>Obesity</th>\n",
       "      <th>Alcohol Consumption</th>\n",
       "      <th>Exercise Hours Per Week</th>\n",
       "      <th>Diet</th>\n",
       "      <th>Previous Heart Problems</th>\n",
       "      <th>Medication Use</th>\n",
       "      <th>Stress Level</th>\n",
       "      <th>Sedentary Hours Per Day</th>\n",
       "      <th>Income</th>\n",
       "      <th>BMI</th>\n",
       "      <th>Triglycerides</th>\n",
       "      <th>Physical Activity Days Per Week</th>\n",
       "      <th>Sleep Hours Per Day</th>\n",
       "      <th>Country</th>\n",
       "      <th>Continent</th>\n",
       "      <th>Hemisphere</th>\n",
       "      <th>Heart Attack Risk</th>\n",
       "    </tr>\n",
       "  </thead>\n",
       "  <tbody>\n",
       "    <tr>\n",
       "      <th>0</th>\n",
       "      <td>BMW7812</td>\n",
       "      <td>67</td>\n",
       "      <td>Male</td>\n",
       "      <td>208</td>\n",
       "      <td>158/88</td>\n",
       "      <td>72</td>\n",
       "      <td>0</td>\n",
       "      <td>0</td>\n",
       "      <td>1</td>\n",
       "      <td>0</td>\n",
       "      <td>0</td>\n",
       "      <td>4.168189</td>\n",
       "      <td>Average</td>\n",
       "      <td>0</td>\n",
       "      <td>0</td>\n",
       "      <td>9</td>\n",
       "      <td>6.615001</td>\n",
       "      <td>261404</td>\n",
       "      <td>31.251233</td>\n",
       "      <td>286</td>\n",
       "      <td>0</td>\n",
       "      <td>6</td>\n",
       "      <td>Argentina</td>\n",
       "      <td>South America</td>\n",
       "      <td>Southern Hemisphere</td>\n",
       "      <td>0</td>\n",
       "    </tr>\n",
       "    <tr>\n",
       "      <th>1</th>\n",
       "      <td>CZE1114</td>\n",
       "      <td>21</td>\n",
       "      <td>Male</td>\n",
       "      <td>389</td>\n",
       "      <td>165/93</td>\n",
       "      <td>98</td>\n",
       "      <td>1</td>\n",
       "      <td>1</td>\n",
       "      <td>1</td>\n",
       "      <td>1</td>\n",
       "      <td>1</td>\n",
       "      <td>1.813242</td>\n",
       "      <td>Unhealthy</td>\n",
       "      <td>1</td>\n",
       "      <td>0</td>\n",
       "      <td>1</td>\n",
       "      <td>4.963459</td>\n",
       "      <td>285768</td>\n",
       "      <td>27.194973</td>\n",
       "      <td>235</td>\n",
       "      <td>1</td>\n",
       "      <td>7</td>\n",
       "      <td>Canada</td>\n",
       "      <td>North America</td>\n",
       "      <td>Northern Hemisphere</td>\n",
       "      <td>0</td>\n",
       "    </tr>\n",
       "    <tr>\n",
       "      <th>2</th>\n",
       "      <td>BNI9906</td>\n",
       "      <td>21</td>\n",
       "      <td>Female</td>\n",
       "      <td>324</td>\n",
       "      <td>174/99</td>\n",
       "      <td>72</td>\n",
       "      <td>1</td>\n",
       "      <td>0</td>\n",
       "      <td>0</td>\n",
       "      <td>0</td>\n",
       "      <td>0</td>\n",
       "      <td>2.078353</td>\n",
       "      <td>Healthy</td>\n",
       "      <td>1</td>\n",
       "      <td>1</td>\n",
       "      <td>9</td>\n",
       "      <td>9.463426</td>\n",
       "      <td>235282</td>\n",
       "      <td>28.176571</td>\n",
       "      <td>587</td>\n",
       "      <td>4</td>\n",
       "      <td>4</td>\n",
       "      <td>France</td>\n",
       "      <td>Europe</td>\n",
       "      <td>Northern Hemisphere</td>\n",
       "      <td>0</td>\n",
       "    </tr>\n",
       "    <tr>\n",
       "      <th>3</th>\n",
       "      <td>JLN3497</td>\n",
       "      <td>84</td>\n",
       "      <td>Male</td>\n",
       "      <td>383</td>\n",
       "      <td>163/100</td>\n",
       "      <td>73</td>\n",
       "      <td>1</td>\n",
       "      <td>1</td>\n",
       "      <td>1</td>\n",
       "      <td>0</td>\n",
       "      <td>1</td>\n",
       "      <td>9.828130</td>\n",
       "      <td>Average</td>\n",
       "      <td>1</td>\n",
       "      <td>0</td>\n",
       "      <td>9</td>\n",
       "      <td>7.648981</td>\n",
       "      <td>125640</td>\n",
       "      <td>36.464704</td>\n",
       "      <td>378</td>\n",
       "      <td>3</td>\n",
       "      <td>4</td>\n",
       "      <td>Canada</td>\n",
       "      <td>North America</td>\n",
       "      <td>Northern Hemisphere</td>\n",
       "      <td>0</td>\n",
       "    </tr>\n",
       "    <tr>\n",
       "      <th>4</th>\n",
       "      <td>GFO8847</td>\n",
       "      <td>66</td>\n",
       "      <td>Male</td>\n",
       "      <td>318</td>\n",
       "      <td>91/88</td>\n",
       "      <td>93</td>\n",
       "      <td>1</td>\n",
       "      <td>1</td>\n",
       "      <td>1</td>\n",
       "      <td>1</td>\n",
       "      <td>0</td>\n",
       "      <td>5.804299</td>\n",
       "      <td>Unhealthy</td>\n",
       "      <td>1</td>\n",
       "      <td>0</td>\n",
       "      <td>6</td>\n",
       "      <td>1.514821</td>\n",
       "      <td>160555</td>\n",
       "      <td>21.809144</td>\n",
       "      <td>231</td>\n",
       "      <td>1</td>\n",
       "      <td>5</td>\n",
       "      <td>Thailand</td>\n",
       "      <td>Asia</td>\n",
       "      <td>Northern Hemisphere</td>\n",
       "      <td>0</td>\n",
       "    </tr>\n",
       "  </tbody>\n",
       "</table>\n",
       "</div>"
      ],
      "text/plain": [
       "  Patient ID  Age     Sex  Cholesterol Blood Pressure  Heart Rate  Diabetes  \\\n",
       "0    BMW7812   67    Male          208         158/88          72         0   \n",
       "1    CZE1114   21    Male          389         165/93          98         1   \n",
       "2    BNI9906   21  Female          324         174/99          72         1   \n",
       "3    JLN3497   84    Male          383        163/100          73         1   \n",
       "4    GFO8847   66    Male          318          91/88          93         1   \n",
       "\n",
       "   Family History  Smoking  Obesity  Alcohol Consumption  \\\n",
       "0               0        1        0                    0   \n",
       "1               1        1        1                    1   \n",
       "2               0        0        0                    0   \n",
       "3               1        1        0                    1   \n",
       "4               1        1        1                    0   \n",
       "\n",
       "   Exercise Hours Per Week       Diet  Previous Heart Problems  \\\n",
       "0                 4.168189    Average                        0   \n",
       "1                 1.813242  Unhealthy                        1   \n",
       "2                 2.078353    Healthy                        1   \n",
       "3                 9.828130    Average                        1   \n",
       "4                 5.804299  Unhealthy                        1   \n",
       "\n",
       "   Medication Use  Stress Level  Sedentary Hours Per Day  Income        BMI  \\\n",
       "0               0             9                 6.615001  261404  31.251233   \n",
       "1               0             1                 4.963459  285768  27.194973   \n",
       "2               1             9                 9.463426  235282  28.176571   \n",
       "3               0             9                 7.648981  125640  36.464704   \n",
       "4               0             6                 1.514821  160555  21.809144   \n",
       "\n",
       "   Triglycerides  Physical Activity Days Per Week  Sleep Hours Per Day  \\\n",
       "0            286                                0                    6   \n",
       "1            235                                1                    7   \n",
       "2            587                                4                    4   \n",
       "3            378                                3                    4   \n",
       "4            231                                1                    5   \n",
       "\n",
       "     Country      Continent           Hemisphere  Heart Attack Risk  \n",
       "0  Argentina  South America  Southern Hemisphere                  0  \n",
       "1     Canada  North America  Northern Hemisphere                  0  \n",
       "2     France         Europe  Northern Hemisphere                  0  \n",
       "3     Canada  North America  Northern Hemisphere                  0  \n",
       "4   Thailand           Asia  Northern Hemisphere                  0  "
      ]
     },
     "execution_count": 140,
     "metadata": {},
     "output_type": "execute_result"
    }
   ],
   "source": [
    "# loading the dataset\n",
    "df = pd.read_csv(\"heart_attack.csv\")\n",
    "\n",
    "# checking the head of the dataset\n",
    "df.head()"
   ]
  },
  {
   "cell_type": "code",
   "execution_count": 141,
   "metadata": {},
   "outputs": [
    {
     "name": "stdout",
     "output_type": "stream",
     "text": [
      "\n",
      "The dataset has 8763 rows and 26 columns\n",
      "\n"
     ]
    }
   ],
   "source": [
    "# checking how many rowa and columns our dataset has\n",
    "\n",
    "print(f'''\n",
    "The dataset has {df.shape[0]} rows and {df.shape[1]} columns\n",
    "''')"
   ]
  },
  {
   "cell_type": "markdown",
   "metadata": {},
   "source": [
    "----\n",
    "\n",
    "As we have we have 26 columns in our dataset but we are unable to view the whole dataset at once, so I am using pandas options to view the whole dataset\n",
    "\n",
    "---"
   ]
  },
  {
   "cell_type": "code",
   "execution_count": 142,
   "metadata": {},
   "outputs": [],
   "source": [
    "# to get all the columns of the dataset\n",
    "pd.set_option('display.max_columns', None)"
   ]
  },
  {
   "cell_type": "code",
   "execution_count": 143,
   "metadata": {},
   "outputs": [
    {
     "data": {
      "application/vnd.microsoft.datawrangler.viewer.v0+json": {
       "columns": [
        {
         "name": "index",
         "rawType": "int64",
         "type": "integer"
        },
        {
         "name": "Patient ID",
         "rawType": "object",
         "type": "string"
        },
        {
         "name": "Age",
         "rawType": "int64",
         "type": "integer"
        },
        {
         "name": "Sex",
         "rawType": "object",
         "type": "string"
        },
        {
         "name": "Cholesterol",
         "rawType": "int64",
         "type": "integer"
        },
        {
         "name": "Blood Pressure",
         "rawType": "object",
         "type": "string"
        },
        {
         "name": "Heart Rate",
         "rawType": "int64",
         "type": "integer"
        },
        {
         "name": "Diabetes",
         "rawType": "int64",
         "type": "integer"
        },
        {
         "name": "Family History",
         "rawType": "int64",
         "type": "integer"
        },
        {
         "name": "Smoking",
         "rawType": "int64",
         "type": "integer"
        },
        {
         "name": "Obesity",
         "rawType": "int64",
         "type": "integer"
        },
        {
         "name": "Alcohol Consumption",
         "rawType": "int64",
         "type": "integer"
        },
        {
         "name": "Exercise Hours Per Week",
         "rawType": "float64",
         "type": "float"
        },
        {
         "name": "Diet",
         "rawType": "object",
         "type": "string"
        },
        {
         "name": "Previous Heart Problems",
         "rawType": "int64",
         "type": "integer"
        },
        {
         "name": "Medication Use",
         "rawType": "int64",
         "type": "integer"
        },
        {
         "name": "Stress Level",
         "rawType": "int64",
         "type": "integer"
        },
        {
         "name": "Sedentary Hours Per Day",
         "rawType": "float64",
         "type": "float"
        },
        {
         "name": "Income",
         "rawType": "int64",
         "type": "integer"
        },
        {
         "name": "BMI",
         "rawType": "float64",
         "type": "float"
        },
        {
         "name": "Triglycerides",
         "rawType": "int64",
         "type": "integer"
        },
        {
         "name": "Physical Activity Days Per Week",
         "rawType": "int64",
         "type": "integer"
        },
        {
         "name": "Sleep Hours Per Day",
         "rawType": "int64",
         "type": "integer"
        },
        {
         "name": "Country",
         "rawType": "object",
         "type": "string"
        },
        {
         "name": "Continent",
         "rawType": "object",
         "type": "string"
        },
        {
         "name": "Hemisphere",
         "rawType": "object",
         "type": "string"
        },
        {
         "name": "Heart Attack Risk",
         "rawType": "int64",
         "type": "integer"
        }
       ],
       "conversionMethod": "pd.DataFrame",
       "ref": "1d88d10b-10ae-4074-85a1-0443154c3427",
       "rows": [
        [
         "0",
         "BMW7812",
         "67",
         "Male",
         "208",
         "158/88",
         "72",
         "0",
         "0",
         "1",
         "0",
         "0",
         "4.168188835442079",
         "Average",
         "0",
         "0",
         "9",
         "6.61500145291406",
         "261404",
         "31.2512327252954",
         "286",
         "0",
         "6",
         "Argentina",
         "South America",
         "Southern Hemisphere",
         "0"
        ],
        [
         "1",
         "CZE1114",
         "21",
         "Male",
         "389",
         "165/93",
         "98",
         "1",
         "1",
         "1",
         "1",
         "1",
         "1.8132416178634456",
         "Unhealthy",
         "1",
         "0",
         "1",
         "4.963458839757678",
         "285768",
         "27.1949733519874",
         "235",
         "1",
         "7",
         "Canada",
         "North America",
         "Northern Hemisphere",
         "0"
        ],
        [
         "2",
         "BNI9906",
         "21",
         "Female",
         "324",
         "174/99",
         "72",
         "1",
         "0",
         "0",
         "0",
         "0",
         "2.0783529861178884",
         "Healthy",
         "1",
         "1",
         "9",
         "9.463425838029828",
         "235282",
         "28.176570683909876",
         "587",
         "4",
         "4",
         "France",
         "Europe",
         "Northern Hemisphere",
         "0"
        ],
        [
         "3",
         "JLN3497",
         "84",
         "Male",
         "383",
         "163/100",
         "73",
         "1",
         "1",
         "1",
         "0",
         "1",
         "9.82812959348533",
         "Average",
         "1",
         "0",
         "9",
         "7.648980824461007",
         "125640",
         "36.464704293082846",
         "378",
         "3",
         "4",
         "Canada",
         "North America",
         "Northern Hemisphere",
         "0"
        ],
        [
         "4",
         "GFO8847",
         "66",
         "Male",
         "318",
         "91/88",
         "93",
         "1",
         "1",
         "1",
         "1",
         "0",
         "5.804298820315434",
         "Unhealthy",
         "1",
         "0",
         "6",
         "1.5148209264291386",
         "160555",
         "21.809144180619757",
         "231",
         "1",
         "5",
         "Thailand",
         "Asia",
         "Northern Hemisphere",
         "0"
        ]
       ],
       "shape": {
        "columns": 26,
        "rows": 5
       }
      },
      "text/html": [
       "<div>\n",
       "<style scoped>\n",
       "    .dataframe tbody tr th:only-of-type {\n",
       "        vertical-align: middle;\n",
       "    }\n",
       "\n",
       "    .dataframe tbody tr th {\n",
       "        vertical-align: top;\n",
       "    }\n",
       "\n",
       "    .dataframe thead th {\n",
       "        text-align: right;\n",
       "    }\n",
       "</style>\n",
       "<table border=\"1\" class=\"dataframe\">\n",
       "  <thead>\n",
       "    <tr style=\"text-align: right;\">\n",
       "      <th></th>\n",
       "      <th>Patient ID</th>\n",
       "      <th>Age</th>\n",
       "      <th>Sex</th>\n",
       "      <th>Cholesterol</th>\n",
       "      <th>Blood Pressure</th>\n",
       "      <th>Heart Rate</th>\n",
       "      <th>Diabetes</th>\n",
       "      <th>Family History</th>\n",
       "      <th>Smoking</th>\n",
       "      <th>Obesity</th>\n",
       "      <th>Alcohol Consumption</th>\n",
       "      <th>Exercise Hours Per Week</th>\n",
       "      <th>Diet</th>\n",
       "      <th>Previous Heart Problems</th>\n",
       "      <th>Medication Use</th>\n",
       "      <th>Stress Level</th>\n",
       "      <th>Sedentary Hours Per Day</th>\n",
       "      <th>Income</th>\n",
       "      <th>BMI</th>\n",
       "      <th>Triglycerides</th>\n",
       "      <th>Physical Activity Days Per Week</th>\n",
       "      <th>Sleep Hours Per Day</th>\n",
       "      <th>Country</th>\n",
       "      <th>Continent</th>\n",
       "      <th>Hemisphere</th>\n",
       "      <th>Heart Attack Risk</th>\n",
       "    </tr>\n",
       "  </thead>\n",
       "  <tbody>\n",
       "    <tr>\n",
       "      <th>0</th>\n",
       "      <td>BMW7812</td>\n",
       "      <td>67</td>\n",
       "      <td>Male</td>\n",
       "      <td>208</td>\n",
       "      <td>158/88</td>\n",
       "      <td>72</td>\n",
       "      <td>0</td>\n",
       "      <td>0</td>\n",
       "      <td>1</td>\n",
       "      <td>0</td>\n",
       "      <td>0</td>\n",
       "      <td>4.168189</td>\n",
       "      <td>Average</td>\n",
       "      <td>0</td>\n",
       "      <td>0</td>\n",
       "      <td>9</td>\n",
       "      <td>6.615001</td>\n",
       "      <td>261404</td>\n",
       "      <td>31.251233</td>\n",
       "      <td>286</td>\n",
       "      <td>0</td>\n",
       "      <td>6</td>\n",
       "      <td>Argentina</td>\n",
       "      <td>South America</td>\n",
       "      <td>Southern Hemisphere</td>\n",
       "      <td>0</td>\n",
       "    </tr>\n",
       "    <tr>\n",
       "      <th>1</th>\n",
       "      <td>CZE1114</td>\n",
       "      <td>21</td>\n",
       "      <td>Male</td>\n",
       "      <td>389</td>\n",
       "      <td>165/93</td>\n",
       "      <td>98</td>\n",
       "      <td>1</td>\n",
       "      <td>1</td>\n",
       "      <td>1</td>\n",
       "      <td>1</td>\n",
       "      <td>1</td>\n",
       "      <td>1.813242</td>\n",
       "      <td>Unhealthy</td>\n",
       "      <td>1</td>\n",
       "      <td>0</td>\n",
       "      <td>1</td>\n",
       "      <td>4.963459</td>\n",
       "      <td>285768</td>\n",
       "      <td>27.194973</td>\n",
       "      <td>235</td>\n",
       "      <td>1</td>\n",
       "      <td>7</td>\n",
       "      <td>Canada</td>\n",
       "      <td>North America</td>\n",
       "      <td>Northern Hemisphere</td>\n",
       "      <td>0</td>\n",
       "    </tr>\n",
       "    <tr>\n",
       "      <th>2</th>\n",
       "      <td>BNI9906</td>\n",
       "      <td>21</td>\n",
       "      <td>Female</td>\n",
       "      <td>324</td>\n",
       "      <td>174/99</td>\n",
       "      <td>72</td>\n",
       "      <td>1</td>\n",
       "      <td>0</td>\n",
       "      <td>0</td>\n",
       "      <td>0</td>\n",
       "      <td>0</td>\n",
       "      <td>2.078353</td>\n",
       "      <td>Healthy</td>\n",
       "      <td>1</td>\n",
       "      <td>1</td>\n",
       "      <td>9</td>\n",
       "      <td>9.463426</td>\n",
       "      <td>235282</td>\n",
       "      <td>28.176571</td>\n",
       "      <td>587</td>\n",
       "      <td>4</td>\n",
       "      <td>4</td>\n",
       "      <td>France</td>\n",
       "      <td>Europe</td>\n",
       "      <td>Northern Hemisphere</td>\n",
       "      <td>0</td>\n",
       "    </tr>\n",
       "    <tr>\n",
       "      <th>3</th>\n",
       "      <td>JLN3497</td>\n",
       "      <td>84</td>\n",
       "      <td>Male</td>\n",
       "      <td>383</td>\n",
       "      <td>163/100</td>\n",
       "      <td>73</td>\n",
       "      <td>1</td>\n",
       "      <td>1</td>\n",
       "      <td>1</td>\n",
       "      <td>0</td>\n",
       "      <td>1</td>\n",
       "      <td>9.828130</td>\n",
       "      <td>Average</td>\n",
       "      <td>1</td>\n",
       "      <td>0</td>\n",
       "      <td>9</td>\n",
       "      <td>7.648981</td>\n",
       "      <td>125640</td>\n",
       "      <td>36.464704</td>\n",
       "      <td>378</td>\n",
       "      <td>3</td>\n",
       "      <td>4</td>\n",
       "      <td>Canada</td>\n",
       "      <td>North America</td>\n",
       "      <td>Northern Hemisphere</td>\n",
       "      <td>0</td>\n",
       "    </tr>\n",
       "    <tr>\n",
       "      <th>4</th>\n",
       "      <td>GFO8847</td>\n",
       "      <td>66</td>\n",
       "      <td>Male</td>\n",
       "      <td>318</td>\n",
       "      <td>91/88</td>\n",
       "      <td>93</td>\n",
       "      <td>1</td>\n",
       "      <td>1</td>\n",
       "      <td>1</td>\n",
       "      <td>1</td>\n",
       "      <td>0</td>\n",
       "      <td>5.804299</td>\n",
       "      <td>Unhealthy</td>\n",
       "      <td>1</td>\n",
       "      <td>0</td>\n",
       "      <td>6</td>\n",
       "      <td>1.514821</td>\n",
       "      <td>160555</td>\n",
       "      <td>21.809144</td>\n",
       "      <td>231</td>\n",
       "      <td>1</td>\n",
       "      <td>5</td>\n",
       "      <td>Thailand</td>\n",
       "      <td>Asia</td>\n",
       "      <td>Northern Hemisphere</td>\n",
       "      <td>0</td>\n",
       "    </tr>\n",
       "  </tbody>\n",
       "</table>\n",
       "</div>"
      ],
      "text/plain": [
       "  Patient ID  Age     Sex  Cholesterol Blood Pressure  Heart Rate  Diabetes  \\\n",
       "0    BMW7812   67    Male          208         158/88          72         0   \n",
       "1    CZE1114   21    Male          389         165/93          98         1   \n",
       "2    BNI9906   21  Female          324         174/99          72         1   \n",
       "3    JLN3497   84    Male          383        163/100          73         1   \n",
       "4    GFO8847   66    Male          318          91/88          93         1   \n",
       "\n",
       "   Family History  Smoking  Obesity  Alcohol Consumption  \\\n",
       "0               0        1        0                    0   \n",
       "1               1        1        1                    1   \n",
       "2               0        0        0                    0   \n",
       "3               1        1        0                    1   \n",
       "4               1        1        1                    0   \n",
       "\n",
       "   Exercise Hours Per Week       Diet  Previous Heart Problems  \\\n",
       "0                 4.168189    Average                        0   \n",
       "1                 1.813242  Unhealthy                        1   \n",
       "2                 2.078353    Healthy                        1   \n",
       "3                 9.828130    Average                        1   \n",
       "4                 5.804299  Unhealthy                        1   \n",
       "\n",
       "   Medication Use  Stress Level  Sedentary Hours Per Day  Income        BMI  \\\n",
       "0               0             9                 6.615001  261404  31.251233   \n",
       "1               0             1                 4.963459  285768  27.194973   \n",
       "2               1             9                 9.463426  235282  28.176571   \n",
       "3               0             9                 7.648981  125640  36.464704   \n",
       "4               0             6                 1.514821  160555  21.809144   \n",
       "\n",
       "   Triglycerides  Physical Activity Days Per Week  Sleep Hours Per Day  \\\n",
       "0            286                                0                    6   \n",
       "1            235                                1                    7   \n",
       "2            587                                4                    4   \n",
       "3            378                                3                    4   \n",
       "4            231                                1                    5   \n",
       "\n",
       "     Country      Continent           Hemisphere  Heart Attack Risk  \n",
       "0  Argentina  South America  Southern Hemisphere                  0  \n",
       "1     Canada  North America  Northern Hemisphere                  0  \n",
       "2     France         Europe  Northern Hemisphere                  0  \n",
       "3     Canada  North America  Northern Hemisphere                  0  \n",
       "4   Thailand           Asia  Northern Hemisphere                  0  "
      ]
     },
     "execution_count": 143,
     "metadata": {},
     "output_type": "execute_result"
    }
   ],
   "source": [
    "df.head()"
   ]
  },
  {
   "cell_type": "code",
   "execution_count": 144,
   "metadata": {},
   "outputs": [
    {
     "data": {
      "text/plain": [
       "Index(['Patient ID', 'Age', 'Sex', 'Cholesterol', 'Blood Pressure',\n",
       "       'Heart Rate', 'Diabetes', 'Family History', 'Smoking', 'Obesity',\n",
       "       'Alcohol Consumption', 'Exercise Hours Per Week', 'Diet',\n",
       "       'Previous Heart Problems', 'Medication Use', 'Stress Level',\n",
       "       'Sedentary Hours Per Day', 'Income', 'BMI', 'Triglycerides',\n",
       "       'Physical Activity Days Per Week', 'Sleep Hours Per Day', 'Country',\n",
       "       'Continent', 'Hemisphere', 'Heart Attack Risk'],\n",
       "      dtype='object')"
      ]
     },
     "execution_count": 144,
     "metadata": {},
     "output_type": "execute_result"
    }
   ],
   "source": [
    "# checking the column names of the dataset\n",
    "df.columns"
   ]
  },
  {
   "cell_type": "code",
   "execution_count": 145,
   "metadata": {},
   "outputs": [
    {
     "name": "stdout",
     "output_type": "stream",
     "text": [
      "'Patient ID' : object\n",
      "'Age' : int64\n",
      "'Sex' : object\n",
      "'Cholesterol' : int64\n",
      "'Blood Pressure' : object\n",
      "'Heart Rate' : int64\n",
      "'Diabetes' : int64\n",
      "'Family History' : int64\n",
      "'Smoking' : int64\n",
      "'Obesity' : int64\n",
      "'Alcohol Consumption' : int64\n",
      "'Exercise Hours Per Week' : float64\n",
      "'Diet' : object\n",
      "'Previous Heart Problems' : int64\n",
      "'Medication Use' : int64\n",
      "'Stress Level' : int64\n",
      "'Sedentary Hours Per Day' : float64\n",
      "'Income' : int64\n",
      "'BMI' : float64\n",
      "'Triglycerides' : int64\n",
      "'Physical Activity Days Per Week' : int64\n",
      "'Sleep Hours Per Day' : int64\n",
      "'Country' : object\n",
      "'Continent' : object\n",
      "'Hemisphere' : object\n",
      "'Heart Attack Risk' : int64\n"
     ]
    }
   ],
   "source": [
    "# checking the datatypes of each column in our dataset\n",
    "\n",
    "for col in df.columns:\n",
    "    print(f\"'{col}' : {df[col].dtype}\")"
   ]
  },
  {
   "cell_type": "markdown",
   "metadata": {},
   "source": [
    "---\n",
    "\n",
    "Our datatset has 7 columns with object datatype                           \n",
    "\n",
    "| column name | datatype |\n",
    "| --- | --- |\n",
    "| Patient ID | object |\n",
    "| Sex | object |\n",
    "| Blood Pressure | object |\n",
    "| Diet | object |\n",
    "| Country | object |\n",
    "| Continent | object |\n",
    "| Hemisphere | object |\n",
    "\n",
    "\n",
    "Other 19 columns has numerical datatype\n",
    "\n",
    "---\n"
   ]
  },
  {
   "cell_type": "code",
   "execution_count": 146,
   "metadata": {},
   "outputs": [
    {
     "data": {
      "application/vnd.microsoft.datawrangler.viewer.v0+json": {
       "columns": [
        {
         "name": "index",
         "rawType": "object",
         "type": "string"
        },
        {
         "name": "count",
         "rawType": "float64",
         "type": "float"
        },
        {
         "name": "mean",
         "rawType": "float64",
         "type": "float"
        },
        {
         "name": "std",
         "rawType": "float64",
         "type": "float"
        },
        {
         "name": "min",
         "rawType": "float64",
         "type": "float"
        },
        {
         "name": "25%",
         "rawType": "float64",
         "type": "float"
        },
        {
         "name": "50%",
         "rawType": "float64",
         "type": "float"
        },
        {
         "name": "75%",
         "rawType": "float64",
         "type": "float"
        },
        {
         "name": "max",
         "rawType": "float64",
         "type": "float"
        }
       ],
       "conversionMethod": "pd.DataFrame",
       "ref": "e6c25ac1-56c6-4eaa-93a5-cdfe1fb48de0",
       "rows": [
        [
         "Age",
         "8763.0",
         "53.70797672030127",
         "21.24950880221598",
         "18.0",
         "35.0",
         "54.0",
         "72.0",
         "90.0"
        ],
        [
         "Cholesterol",
         "8763.0",
         "259.8772110007988",
         "80.86327610477055",
         "120.0",
         "192.0",
         "259.0",
         "330.0",
         "400.0"
        ],
        [
         "Heart Rate",
         "8763.0",
         "75.02168207234965",
         "20.550947931909413",
         "40.0",
         "57.0",
         "75.0",
         "93.0",
         "110.0"
        ],
        [
         "Diabetes",
         "8763.0",
         "0.6522880292137396",
         "0.47627118494942794",
         "0.0",
         "0.0",
         "1.0",
         "1.0",
         "1.0"
        ],
        [
         "Family History",
         "8763.0",
         "0.4929818555289284",
         "0.4999792718957312",
         "0.0",
         "0.0",
         "0.0",
         "1.0",
         "1.0"
        ],
        [
         "Smoking",
         "8763.0",
         "0.8968389820837612",
         "0.3041864253995663",
         "0.0",
         "1.0",
         "1.0",
         "1.0",
         "1.0"
        ],
        [
         "Obesity",
         "8763.0",
         "0.5014264521282665",
         "0.5000264965985919",
         "0.0",
         "0.0",
         "1.0",
         "1.0",
         "1.0"
        ],
        [
         "Alcohol Consumption",
         "8763.0",
         "0.5980828483396097",
         "0.49031335817956767",
         "0.0",
         "0.0",
         "1.0",
         "1.0",
         "1.0"
        ],
        [
         "Exercise Hours Per Week",
         "8763.0",
         "10.01428365521483",
         "5.783745486854243",
         "0.0024423483189783",
         "4.981578612387105",
         "10.069559015591569",
         "15.050017847693944",
         "19.998709051535457"
        ],
        [
         "Previous Heart Problems",
         "8763.0",
         "0.4958347597854616",
         "0.5000111809674499",
         "0.0",
         "0.0",
         "0.0",
         "1.0",
         "1.0"
        ],
        [
         "Medication Use",
         "8763.0",
         "0.49834531553121075",
         "0.5000257933400908",
         "0.0",
         "0.0",
         "0.0",
         "1.0",
         "1.0"
        ],
        [
         "Stress Level",
         "8763.0",
         "5.469702156795618",
         "2.859621886586074",
         "1.0",
         "3.0",
         "5.0",
         "8.0",
         "10.0"
        ],
        [
         "Sedentary Hours Per Day",
         "8763.0",
         "5.993690145051085",
         "3.4663591739806257",
         "0.0012632057782457",
         "2.998793697970296",
         "5.933622031172581",
         "9.019124487794615",
         "11.999313410370352"
        ],
        [
         "Income",
         "8763.0",
         "158263.18190117538",
         "80575.19080559704",
         "20062.0",
         "88310.0",
         "157866.0",
         "227749.0",
         "299954.0"
        ],
        [
         "BMI",
         "8763.0",
         "28.891445877259635",
         "6.319181335543781",
         "18.002336577801902",
         "23.422985172976116",
         "28.768999353101115",
         "34.32459386532672",
         "39.99721081557256"
        ],
        [
         "Triglycerides",
         "8763.0",
         "417.67705123816046",
         "223.7481367993549",
         "30.0",
         "225.5",
         "417.0",
         "612.0",
         "800.0"
        ],
        [
         "Physical Activity Days Per Week",
         "8763.0",
         "3.48967248659135",
         "2.2826873241360377",
         "0.0",
         "2.0",
         "3.0",
         "5.0",
         "7.0"
        ],
        [
         "Sleep Hours Per Day",
         "8763.0",
         "7.0235079310738335",
         "1.9884727543508285",
         "4.0",
         "5.0",
         "7.0",
         "9.0",
         "10.0"
        ],
        [
         "Heart Attack Risk",
         "8763.0",
         "0.3582106584503024",
         "0.47950184613131047",
         "0.0",
         "0.0",
         "0.0",
         "1.0",
         "1.0"
        ]
       ],
       "shape": {
        "columns": 8,
        "rows": 19
       }
      },
      "text/html": [
       "<div>\n",
       "<style scoped>\n",
       "    .dataframe tbody tr th:only-of-type {\n",
       "        vertical-align: middle;\n",
       "    }\n",
       "\n",
       "    .dataframe tbody tr th {\n",
       "        vertical-align: top;\n",
       "    }\n",
       "\n",
       "    .dataframe thead th {\n",
       "        text-align: right;\n",
       "    }\n",
       "</style>\n",
       "<table border=\"1\" class=\"dataframe\">\n",
       "  <thead>\n",
       "    <tr style=\"text-align: right;\">\n",
       "      <th></th>\n",
       "      <th>count</th>\n",
       "      <th>mean</th>\n",
       "      <th>std</th>\n",
       "      <th>min</th>\n",
       "      <th>25%</th>\n",
       "      <th>50%</th>\n",
       "      <th>75%</th>\n",
       "      <th>max</th>\n",
       "    </tr>\n",
       "  </thead>\n",
       "  <tbody>\n",
       "    <tr>\n",
       "      <th>Age</th>\n",
       "      <td>8763.0</td>\n",
       "      <td>53.707977</td>\n",
       "      <td>21.249509</td>\n",
       "      <td>18.000000</td>\n",
       "      <td>35.000000</td>\n",
       "      <td>54.000000</td>\n",
       "      <td>72.000000</td>\n",
       "      <td>90.000000</td>\n",
       "    </tr>\n",
       "    <tr>\n",
       "      <th>Cholesterol</th>\n",
       "      <td>8763.0</td>\n",
       "      <td>259.877211</td>\n",
       "      <td>80.863276</td>\n",
       "      <td>120.000000</td>\n",
       "      <td>192.000000</td>\n",
       "      <td>259.000000</td>\n",
       "      <td>330.000000</td>\n",
       "      <td>400.000000</td>\n",
       "    </tr>\n",
       "    <tr>\n",
       "      <th>Heart Rate</th>\n",
       "      <td>8763.0</td>\n",
       "      <td>75.021682</td>\n",
       "      <td>20.550948</td>\n",
       "      <td>40.000000</td>\n",
       "      <td>57.000000</td>\n",
       "      <td>75.000000</td>\n",
       "      <td>93.000000</td>\n",
       "      <td>110.000000</td>\n",
       "    </tr>\n",
       "    <tr>\n",
       "      <th>Diabetes</th>\n",
       "      <td>8763.0</td>\n",
       "      <td>0.652288</td>\n",
       "      <td>0.476271</td>\n",
       "      <td>0.000000</td>\n",
       "      <td>0.000000</td>\n",
       "      <td>1.000000</td>\n",
       "      <td>1.000000</td>\n",
       "      <td>1.000000</td>\n",
       "    </tr>\n",
       "    <tr>\n",
       "      <th>Family History</th>\n",
       "      <td>8763.0</td>\n",
       "      <td>0.492982</td>\n",
       "      <td>0.499979</td>\n",
       "      <td>0.000000</td>\n",
       "      <td>0.000000</td>\n",
       "      <td>0.000000</td>\n",
       "      <td>1.000000</td>\n",
       "      <td>1.000000</td>\n",
       "    </tr>\n",
       "    <tr>\n",
       "      <th>Smoking</th>\n",
       "      <td>8763.0</td>\n",
       "      <td>0.896839</td>\n",
       "      <td>0.304186</td>\n",
       "      <td>0.000000</td>\n",
       "      <td>1.000000</td>\n",
       "      <td>1.000000</td>\n",
       "      <td>1.000000</td>\n",
       "      <td>1.000000</td>\n",
       "    </tr>\n",
       "    <tr>\n",
       "      <th>Obesity</th>\n",
       "      <td>8763.0</td>\n",
       "      <td>0.501426</td>\n",
       "      <td>0.500026</td>\n",
       "      <td>0.000000</td>\n",
       "      <td>0.000000</td>\n",
       "      <td>1.000000</td>\n",
       "      <td>1.000000</td>\n",
       "      <td>1.000000</td>\n",
       "    </tr>\n",
       "    <tr>\n",
       "      <th>Alcohol Consumption</th>\n",
       "      <td>8763.0</td>\n",
       "      <td>0.598083</td>\n",
       "      <td>0.490313</td>\n",
       "      <td>0.000000</td>\n",
       "      <td>0.000000</td>\n",
       "      <td>1.000000</td>\n",
       "      <td>1.000000</td>\n",
       "      <td>1.000000</td>\n",
       "    </tr>\n",
       "    <tr>\n",
       "      <th>Exercise Hours Per Week</th>\n",
       "      <td>8763.0</td>\n",
       "      <td>10.014284</td>\n",
       "      <td>5.783745</td>\n",
       "      <td>0.002442</td>\n",
       "      <td>4.981579</td>\n",
       "      <td>10.069559</td>\n",
       "      <td>15.050018</td>\n",
       "      <td>19.998709</td>\n",
       "    </tr>\n",
       "    <tr>\n",
       "      <th>Previous Heart Problems</th>\n",
       "      <td>8763.0</td>\n",
       "      <td>0.495835</td>\n",
       "      <td>0.500011</td>\n",
       "      <td>0.000000</td>\n",
       "      <td>0.000000</td>\n",
       "      <td>0.000000</td>\n",
       "      <td>1.000000</td>\n",
       "      <td>1.000000</td>\n",
       "    </tr>\n",
       "    <tr>\n",
       "      <th>Medication Use</th>\n",
       "      <td>8763.0</td>\n",
       "      <td>0.498345</td>\n",
       "      <td>0.500026</td>\n",
       "      <td>0.000000</td>\n",
       "      <td>0.000000</td>\n",
       "      <td>0.000000</td>\n",
       "      <td>1.000000</td>\n",
       "      <td>1.000000</td>\n",
       "    </tr>\n",
       "    <tr>\n",
       "      <th>Stress Level</th>\n",
       "      <td>8763.0</td>\n",
       "      <td>5.469702</td>\n",
       "      <td>2.859622</td>\n",
       "      <td>1.000000</td>\n",
       "      <td>3.000000</td>\n",
       "      <td>5.000000</td>\n",
       "      <td>8.000000</td>\n",
       "      <td>10.000000</td>\n",
       "    </tr>\n",
       "    <tr>\n",
       "      <th>Sedentary Hours Per Day</th>\n",
       "      <td>8763.0</td>\n",
       "      <td>5.993690</td>\n",
       "      <td>3.466359</td>\n",
       "      <td>0.001263</td>\n",
       "      <td>2.998794</td>\n",
       "      <td>5.933622</td>\n",
       "      <td>9.019124</td>\n",
       "      <td>11.999313</td>\n",
       "    </tr>\n",
       "    <tr>\n",
       "      <th>Income</th>\n",
       "      <td>8763.0</td>\n",
       "      <td>158263.181901</td>\n",
       "      <td>80575.190806</td>\n",
       "      <td>20062.000000</td>\n",
       "      <td>88310.000000</td>\n",
       "      <td>157866.000000</td>\n",
       "      <td>227749.000000</td>\n",
       "      <td>299954.000000</td>\n",
       "    </tr>\n",
       "    <tr>\n",
       "      <th>BMI</th>\n",
       "      <td>8763.0</td>\n",
       "      <td>28.891446</td>\n",
       "      <td>6.319181</td>\n",
       "      <td>18.002337</td>\n",
       "      <td>23.422985</td>\n",
       "      <td>28.768999</td>\n",
       "      <td>34.324594</td>\n",
       "      <td>39.997211</td>\n",
       "    </tr>\n",
       "    <tr>\n",
       "      <th>Triglycerides</th>\n",
       "      <td>8763.0</td>\n",
       "      <td>417.677051</td>\n",
       "      <td>223.748137</td>\n",
       "      <td>30.000000</td>\n",
       "      <td>225.500000</td>\n",
       "      <td>417.000000</td>\n",
       "      <td>612.000000</td>\n",
       "      <td>800.000000</td>\n",
       "    </tr>\n",
       "    <tr>\n",
       "      <th>Physical Activity Days Per Week</th>\n",
       "      <td>8763.0</td>\n",
       "      <td>3.489672</td>\n",
       "      <td>2.282687</td>\n",
       "      <td>0.000000</td>\n",
       "      <td>2.000000</td>\n",
       "      <td>3.000000</td>\n",
       "      <td>5.000000</td>\n",
       "      <td>7.000000</td>\n",
       "    </tr>\n",
       "    <tr>\n",
       "      <th>Sleep Hours Per Day</th>\n",
       "      <td>8763.0</td>\n",
       "      <td>7.023508</td>\n",
       "      <td>1.988473</td>\n",
       "      <td>4.000000</td>\n",
       "      <td>5.000000</td>\n",
       "      <td>7.000000</td>\n",
       "      <td>9.000000</td>\n",
       "      <td>10.000000</td>\n",
       "    </tr>\n",
       "    <tr>\n",
       "      <th>Heart Attack Risk</th>\n",
       "      <td>8763.0</td>\n",
       "      <td>0.358211</td>\n",
       "      <td>0.479502</td>\n",
       "      <td>0.000000</td>\n",
       "      <td>0.000000</td>\n",
       "      <td>0.000000</td>\n",
       "      <td>1.000000</td>\n",
       "      <td>1.000000</td>\n",
       "    </tr>\n",
       "  </tbody>\n",
       "</table>\n",
       "</div>"
      ],
      "text/plain": [
       "                                  count           mean           std  \\\n",
       "Age                              8763.0      53.707977     21.249509   \n",
       "Cholesterol                      8763.0     259.877211     80.863276   \n",
       "Heart Rate                       8763.0      75.021682     20.550948   \n",
       "Diabetes                         8763.0       0.652288      0.476271   \n",
       "Family History                   8763.0       0.492982      0.499979   \n",
       "Smoking                          8763.0       0.896839      0.304186   \n",
       "Obesity                          8763.0       0.501426      0.500026   \n",
       "Alcohol Consumption              8763.0       0.598083      0.490313   \n",
       "Exercise Hours Per Week          8763.0      10.014284      5.783745   \n",
       "Previous Heart Problems          8763.0       0.495835      0.500011   \n",
       "Medication Use                   8763.0       0.498345      0.500026   \n",
       "Stress Level                     8763.0       5.469702      2.859622   \n",
       "Sedentary Hours Per Day          8763.0       5.993690      3.466359   \n",
       "Income                           8763.0  158263.181901  80575.190806   \n",
       "BMI                              8763.0      28.891446      6.319181   \n",
       "Triglycerides                    8763.0     417.677051    223.748137   \n",
       "Physical Activity Days Per Week  8763.0       3.489672      2.282687   \n",
       "Sleep Hours Per Day              8763.0       7.023508      1.988473   \n",
       "Heart Attack Risk                8763.0       0.358211      0.479502   \n",
       "\n",
       "                                          min           25%            50%  \\\n",
       "Age                                 18.000000     35.000000      54.000000   \n",
       "Cholesterol                        120.000000    192.000000     259.000000   \n",
       "Heart Rate                          40.000000     57.000000      75.000000   \n",
       "Diabetes                             0.000000      0.000000       1.000000   \n",
       "Family History                       0.000000      0.000000       0.000000   \n",
       "Smoking                              0.000000      1.000000       1.000000   \n",
       "Obesity                              0.000000      0.000000       1.000000   \n",
       "Alcohol Consumption                  0.000000      0.000000       1.000000   \n",
       "Exercise Hours Per Week              0.002442      4.981579      10.069559   \n",
       "Previous Heart Problems              0.000000      0.000000       0.000000   \n",
       "Medication Use                       0.000000      0.000000       0.000000   \n",
       "Stress Level                         1.000000      3.000000       5.000000   \n",
       "Sedentary Hours Per Day              0.001263      2.998794       5.933622   \n",
       "Income                           20062.000000  88310.000000  157866.000000   \n",
       "BMI                                 18.002337     23.422985      28.768999   \n",
       "Triglycerides                       30.000000    225.500000     417.000000   \n",
       "Physical Activity Days Per Week      0.000000      2.000000       3.000000   \n",
       "Sleep Hours Per Day                  4.000000      5.000000       7.000000   \n",
       "Heart Attack Risk                    0.000000      0.000000       0.000000   \n",
       "\n",
       "                                           75%            max  \n",
       "Age                                  72.000000      90.000000  \n",
       "Cholesterol                         330.000000     400.000000  \n",
       "Heart Rate                           93.000000     110.000000  \n",
       "Diabetes                              1.000000       1.000000  \n",
       "Family History                        1.000000       1.000000  \n",
       "Smoking                               1.000000       1.000000  \n",
       "Obesity                               1.000000       1.000000  \n",
       "Alcohol Consumption                   1.000000       1.000000  \n",
       "Exercise Hours Per Week              15.050018      19.998709  \n",
       "Previous Heart Problems               1.000000       1.000000  \n",
       "Medication Use                        1.000000       1.000000  \n",
       "Stress Level                          8.000000      10.000000  \n",
       "Sedentary Hours Per Day               9.019124      11.999313  \n",
       "Income                           227749.000000  299954.000000  \n",
       "BMI                                  34.324594      39.997211  \n",
       "Triglycerides                       612.000000     800.000000  \n",
       "Physical Activity Days Per Week       5.000000       7.000000  \n",
       "Sleep Hours Per Day                   9.000000      10.000000  \n",
       "Heart Attack Risk                     1.000000       1.000000  "
      ]
     },
     "execution_count": 146,
     "metadata": {},
     "output_type": "execute_result"
    }
   ],
   "source": [
    "# checking for descriptive statistics of the dataset\n",
    "df.describe().T"
   ]
  },
  {
   "cell_type": "markdown",
   "metadata": {},
   "source": [
    "---\n",
    "\n",
    "- The mean age in our datatset is 53. And the mean Heart Rate is 75 while the maximum Heart Rate is 110.\n",
    "- On an average a person spends 10 hours perweek in the gym.\n",
    "- The mean BMI is 28 which is considered as overweight in most cases and the maximum BMI is 39.\n",
    "- On an avearge a person spends almost 6 hours a day is sedentary (sitting or lying down) while maximum people spends around 12 hours a day in sedentry.\n",
    "\n",
    "---\n"
   ]
  },
  {
   "cell_type": "markdown",
   "metadata": {},
   "source": [
    "### **Data Cleaning**"
   ]
  },
  {
   "cell_type": "code",
   "execution_count": 147,
   "metadata": {},
   "outputs": [
    {
     "data": {
      "text/plain": [
       "Index(['Patient ID', 'Age', 'Sex', 'Cholesterol', 'Blood Pressure',\n",
       "       'Heart Rate', 'Diabetes', 'Family History', 'Smoking', 'Obesity',\n",
       "       'Alcohol Consumption', 'Exercise Hours Per Week', 'Diet',\n",
       "       'Previous Heart Problems', 'Medication Use', 'Stress Level',\n",
       "       'Sedentary Hours Per Day', 'Income', 'BMI', 'Triglycerides',\n",
       "       'Physical Activity Days Per Week', 'Sleep Hours Per Day', 'Country',\n",
       "       'Continent', 'Hemisphere', 'Heart Attack Risk'],\n",
       "      dtype='object')"
      ]
     },
     "execution_count": 147,
     "metadata": {},
     "output_type": "execute_result"
    }
   ],
   "source": [
    "# checking the exatc name of the columns\n",
    "df.columns"
   ]
  },
  {
   "cell_type": "markdown",
   "metadata": {},
   "source": [
    "---\n",
    "\n",
    "As I have noticed that the column names in our dataset are not following the standard naming convention, so I am renaming the columns\n",
    "\n",
    "- The operation is as follows:\n",
    "  \n",
    "  - first I am converting the column names in to lower case\n",
    "  - Second, I am replacing the spaces in the column names with underscores\n",
    "\n",
    "---"
   ]
  },
  {
   "cell_type": "code",
   "execution_count": 148,
   "metadata": {},
   "outputs": [],
   "source": [
    "# conver the column names to lowercase\n",
    "df.columns = df.columns.str.lower()"
   ]
  },
  {
   "cell_type": "code",
   "execution_count": 149,
   "metadata": {},
   "outputs": [
    {
     "data": {
      "text/plain": [
       "Index(['patient_id', 'age', 'sex', 'cholesterol', 'blood_pressure',\n",
       "       'heart_rate', 'diabetes', 'family_history', 'smoking', 'obesity',\n",
       "       'alcohol_consumption', 'exercise_hours_per_week', 'diet',\n",
       "       'previous_heart_problems', 'medication_use', 'stress_level',\n",
       "       'sedentary_hours_per_day', 'income', 'bmi', 'triglycerides',\n",
       "       'physical_activity_days_per_week', 'sleep_hours_per_day', 'country',\n",
       "       'continent', 'hemisphere', 'heart_attack_risk'],\n",
       "      dtype='object')"
      ]
     },
     "execution_count": 149,
     "metadata": {},
     "output_type": "execute_result"
    }
   ],
   "source": [
    "# replacing the spaces in the column names with underscores\n",
    "df.columns = df.columns.str.replace(\" \", \"_\")\n",
    "\n",
    "# confirming the changes    \n",
    "df.columns"
   ]
  },
  {
   "cell_type": "markdown",
   "metadata": {},
   "source": [
    "### Restricting the number of decimal places"
   ]
  },
  {
   "cell_type": "code",
   "execution_count": 150,
   "metadata": {},
   "outputs": [
    {
     "data": {
      "application/vnd.microsoft.datawrangler.viewer.v0+json": {
       "columns": [
        {
         "name": "index",
         "rawType": "int64",
         "type": "integer"
        },
        {
         "name": "patient_id",
         "rawType": "object",
         "type": "string"
        },
        {
         "name": "age",
         "rawType": "int64",
         "type": "integer"
        },
        {
         "name": "sex",
         "rawType": "object",
         "type": "string"
        },
        {
         "name": "cholesterol",
         "rawType": "int64",
         "type": "integer"
        },
        {
         "name": "blood_pressure",
         "rawType": "object",
         "type": "string"
        },
        {
         "name": "heart_rate",
         "rawType": "int64",
         "type": "integer"
        },
        {
         "name": "diabetes",
         "rawType": "int64",
         "type": "integer"
        },
        {
         "name": "family_history",
         "rawType": "int64",
         "type": "integer"
        },
        {
         "name": "smoking",
         "rawType": "int64",
         "type": "integer"
        },
        {
         "name": "obesity",
         "rawType": "int64",
         "type": "integer"
        },
        {
         "name": "alcohol_consumption",
         "rawType": "int64",
         "type": "integer"
        },
        {
         "name": "exercise_hours_per_week",
         "rawType": "float64",
         "type": "float"
        },
        {
         "name": "diet",
         "rawType": "object",
         "type": "string"
        },
        {
         "name": "previous_heart_problems",
         "rawType": "int64",
         "type": "integer"
        },
        {
         "name": "medication_use",
         "rawType": "int64",
         "type": "integer"
        },
        {
         "name": "stress_level",
         "rawType": "int64",
         "type": "integer"
        },
        {
         "name": "sedentary_hours_per_day",
         "rawType": "float64",
         "type": "float"
        },
        {
         "name": "income",
         "rawType": "int64",
         "type": "integer"
        },
        {
         "name": "bmi",
         "rawType": "float64",
         "type": "float"
        },
        {
         "name": "triglycerides",
         "rawType": "int64",
         "type": "integer"
        },
        {
         "name": "physical_activity_days_per_week",
         "rawType": "int64",
         "type": "integer"
        },
        {
         "name": "sleep_hours_per_day",
         "rawType": "int64",
         "type": "integer"
        },
        {
         "name": "country",
         "rawType": "object",
         "type": "string"
        },
        {
         "name": "continent",
         "rawType": "object",
         "type": "string"
        },
        {
         "name": "hemisphere",
         "rawType": "object",
         "type": "string"
        },
        {
         "name": "heart_attack_risk",
         "rawType": "int64",
         "type": "integer"
        }
       ],
       "conversionMethod": "pd.DataFrame",
       "ref": "2bfa08a0-d196-4e2f-a601-7c747db2cce5",
       "rows": [
        [
         "0",
         "BMW7812",
         "67",
         "Male",
         "208",
         "158/88",
         "72",
         "0",
         "0",
         "1",
         "0",
         "0",
         "4.17",
         "Average",
         "0",
         "0",
         "9",
         "6.62",
         "261404",
         "31.25",
         "286",
         "0",
         "6",
         "Argentina",
         "South America",
         "Southern Hemisphere",
         "0"
        ],
        [
         "1",
         "CZE1114",
         "21",
         "Male",
         "389",
         "165/93",
         "98",
         "1",
         "1",
         "1",
         "1",
         "1",
         "1.81",
         "Unhealthy",
         "1",
         "0",
         "1",
         "4.96",
         "285768",
         "27.19",
         "235",
         "1",
         "7",
         "Canada",
         "North America",
         "Northern Hemisphere",
         "0"
        ],
        [
         "2",
         "BNI9906",
         "21",
         "Female",
         "324",
         "174/99",
         "72",
         "1",
         "0",
         "0",
         "0",
         "0",
         "2.08",
         "Healthy",
         "1",
         "1",
         "9",
         "9.46",
         "235282",
         "28.18",
         "587",
         "4",
         "4",
         "France",
         "Europe",
         "Northern Hemisphere",
         "0"
        ],
        [
         "3",
         "JLN3497",
         "84",
         "Male",
         "383",
         "163/100",
         "73",
         "1",
         "1",
         "1",
         "0",
         "1",
         "9.83",
         "Average",
         "1",
         "0",
         "9",
         "7.65",
         "125640",
         "36.46",
         "378",
         "3",
         "4",
         "Canada",
         "North America",
         "Northern Hemisphere",
         "0"
        ],
        [
         "4",
         "GFO8847",
         "66",
         "Male",
         "318",
         "91/88",
         "93",
         "1",
         "1",
         "1",
         "1",
         "0",
         "5.8",
         "Unhealthy",
         "1",
         "0",
         "6",
         "1.51",
         "160555",
         "21.81",
         "231",
         "1",
         "5",
         "Thailand",
         "Asia",
         "Northern Hemisphere",
         "0"
        ]
       ],
       "shape": {
        "columns": 26,
        "rows": 5
       }
      },
      "text/html": [
       "<div>\n",
       "<style scoped>\n",
       "    .dataframe tbody tr th:only-of-type {\n",
       "        vertical-align: middle;\n",
       "    }\n",
       "\n",
       "    .dataframe tbody tr th {\n",
       "        vertical-align: top;\n",
       "    }\n",
       "\n",
       "    .dataframe thead th {\n",
       "        text-align: right;\n",
       "    }\n",
       "</style>\n",
       "<table border=\"1\" class=\"dataframe\">\n",
       "  <thead>\n",
       "    <tr style=\"text-align: right;\">\n",
       "      <th></th>\n",
       "      <th>patient_id</th>\n",
       "      <th>age</th>\n",
       "      <th>sex</th>\n",
       "      <th>cholesterol</th>\n",
       "      <th>blood_pressure</th>\n",
       "      <th>heart_rate</th>\n",
       "      <th>diabetes</th>\n",
       "      <th>family_history</th>\n",
       "      <th>smoking</th>\n",
       "      <th>obesity</th>\n",
       "      <th>alcohol_consumption</th>\n",
       "      <th>exercise_hours_per_week</th>\n",
       "      <th>diet</th>\n",
       "      <th>previous_heart_problems</th>\n",
       "      <th>medication_use</th>\n",
       "      <th>stress_level</th>\n",
       "      <th>sedentary_hours_per_day</th>\n",
       "      <th>income</th>\n",
       "      <th>bmi</th>\n",
       "      <th>triglycerides</th>\n",
       "      <th>physical_activity_days_per_week</th>\n",
       "      <th>sleep_hours_per_day</th>\n",
       "      <th>country</th>\n",
       "      <th>continent</th>\n",
       "      <th>hemisphere</th>\n",
       "      <th>heart_attack_risk</th>\n",
       "    </tr>\n",
       "  </thead>\n",
       "  <tbody>\n",
       "    <tr>\n",
       "      <th>0</th>\n",
       "      <td>BMW7812</td>\n",
       "      <td>67</td>\n",
       "      <td>Male</td>\n",
       "      <td>208</td>\n",
       "      <td>158/88</td>\n",
       "      <td>72</td>\n",
       "      <td>0</td>\n",
       "      <td>0</td>\n",
       "      <td>1</td>\n",
       "      <td>0</td>\n",
       "      <td>0</td>\n",
       "      <td>4.17</td>\n",
       "      <td>Average</td>\n",
       "      <td>0</td>\n",
       "      <td>0</td>\n",
       "      <td>9</td>\n",
       "      <td>6.62</td>\n",
       "      <td>261404</td>\n",
       "      <td>31.25</td>\n",
       "      <td>286</td>\n",
       "      <td>0</td>\n",
       "      <td>6</td>\n",
       "      <td>Argentina</td>\n",
       "      <td>South America</td>\n",
       "      <td>Southern Hemisphere</td>\n",
       "      <td>0</td>\n",
       "    </tr>\n",
       "    <tr>\n",
       "      <th>1</th>\n",
       "      <td>CZE1114</td>\n",
       "      <td>21</td>\n",
       "      <td>Male</td>\n",
       "      <td>389</td>\n",
       "      <td>165/93</td>\n",
       "      <td>98</td>\n",
       "      <td>1</td>\n",
       "      <td>1</td>\n",
       "      <td>1</td>\n",
       "      <td>1</td>\n",
       "      <td>1</td>\n",
       "      <td>1.81</td>\n",
       "      <td>Unhealthy</td>\n",
       "      <td>1</td>\n",
       "      <td>0</td>\n",
       "      <td>1</td>\n",
       "      <td>4.96</td>\n",
       "      <td>285768</td>\n",
       "      <td>27.19</td>\n",
       "      <td>235</td>\n",
       "      <td>1</td>\n",
       "      <td>7</td>\n",
       "      <td>Canada</td>\n",
       "      <td>North America</td>\n",
       "      <td>Northern Hemisphere</td>\n",
       "      <td>0</td>\n",
       "    </tr>\n",
       "    <tr>\n",
       "      <th>2</th>\n",
       "      <td>BNI9906</td>\n",
       "      <td>21</td>\n",
       "      <td>Female</td>\n",
       "      <td>324</td>\n",
       "      <td>174/99</td>\n",
       "      <td>72</td>\n",
       "      <td>1</td>\n",
       "      <td>0</td>\n",
       "      <td>0</td>\n",
       "      <td>0</td>\n",
       "      <td>0</td>\n",
       "      <td>2.08</td>\n",
       "      <td>Healthy</td>\n",
       "      <td>1</td>\n",
       "      <td>1</td>\n",
       "      <td>9</td>\n",
       "      <td>9.46</td>\n",
       "      <td>235282</td>\n",
       "      <td>28.18</td>\n",
       "      <td>587</td>\n",
       "      <td>4</td>\n",
       "      <td>4</td>\n",
       "      <td>France</td>\n",
       "      <td>Europe</td>\n",
       "      <td>Northern Hemisphere</td>\n",
       "      <td>0</td>\n",
       "    </tr>\n",
       "    <tr>\n",
       "      <th>3</th>\n",
       "      <td>JLN3497</td>\n",
       "      <td>84</td>\n",
       "      <td>Male</td>\n",
       "      <td>383</td>\n",
       "      <td>163/100</td>\n",
       "      <td>73</td>\n",
       "      <td>1</td>\n",
       "      <td>1</td>\n",
       "      <td>1</td>\n",
       "      <td>0</td>\n",
       "      <td>1</td>\n",
       "      <td>9.83</td>\n",
       "      <td>Average</td>\n",
       "      <td>1</td>\n",
       "      <td>0</td>\n",
       "      <td>9</td>\n",
       "      <td>7.65</td>\n",
       "      <td>125640</td>\n",
       "      <td>36.46</td>\n",
       "      <td>378</td>\n",
       "      <td>3</td>\n",
       "      <td>4</td>\n",
       "      <td>Canada</td>\n",
       "      <td>North America</td>\n",
       "      <td>Northern Hemisphere</td>\n",
       "      <td>0</td>\n",
       "    </tr>\n",
       "    <tr>\n",
       "      <th>4</th>\n",
       "      <td>GFO8847</td>\n",
       "      <td>66</td>\n",
       "      <td>Male</td>\n",
       "      <td>318</td>\n",
       "      <td>91/88</td>\n",
       "      <td>93</td>\n",
       "      <td>1</td>\n",
       "      <td>1</td>\n",
       "      <td>1</td>\n",
       "      <td>1</td>\n",
       "      <td>0</td>\n",
       "      <td>5.80</td>\n",
       "      <td>Unhealthy</td>\n",
       "      <td>1</td>\n",
       "      <td>0</td>\n",
       "      <td>6</td>\n",
       "      <td>1.51</td>\n",
       "      <td>160555</td>\n",
       "      <td>21.81</td>\n",
       "      <td>231</td>\n",
       "      <td>1</td>\n",
       "      <td>5</td>\n",
       "      <td>Thailand</td>\n",
       "      <td>Asia</td>\n",
       "      <td>Northern Hemisphere</td>\n",
       "      <td>0</td>\n",
       "    </tr>\n",
       "  </tbody>\n",
       "</table>\n",
       "</div>"
      ],
      "text/plain": [
       "  patient_id  age     sex  cholesterol blood_pressure  heart_rate  diabetes  \\\n",
       "0    BMW7812   67    Male          208         158/88          72         0   \n",
       "1    CZE1114   21    Male          389         165/93          98         1   \n",
       "2    BNI9906   21  Female          324         174/99          72         1   \n",
       "3    JLN3497   84    Male          383        163/100          73         1   \n",
       "4    GFO8847   66    Male          318          91/88          93         1   \n",
       "\n",
       "   family_history  smoking  obesity  alcohol_consumption  \\\n",
       "0               0        1        0                    0   \n",
       "1               1        1        1                    1   \n",
       "2               0        0        0                    0   \n",
       "3               1        1        0                    1   \n",
       "4               1        1        1                    0   \n",
       "\n",
       "   exercise_hours_per_week       diet  previous_heart_problems  \\\n",
       "0                     4.17    Average                        0   \n",
       "1                     1.81  Unhealthy                        1   \n",
       "2                     2.08    Healthy                        1   \n",
       "3                     9.83    Average                        1   \n",
       "4                     5.80  Unhealthy                        1   \n",
       "\n",
       "   medication_use  stress_level  sedentary_hours_per_day  income    bmi  \\\n",
       "0               0             9                     6.62  261404  31.25   \n",
       "1               0             1                     4.96  285768  27.19   \n",
       "2               1             9                     9.46  235282  28.18   \n",
       "3               0             9                     7.65  125640  36.46   \n",
       "4               0             6                     1.51  160555  21.81   \n",
       "\n",
       "   triglycerides  physical_activity_days_per_week  sleep_hours_per_day  \\\n",
       "0            286                                0                    6   \n",
       "1            235                                1                    7   \n",
       "2            587                                4                    4   \n",
       "3            378                                3                    4   \n",
       "4            231                                1                    5   \n",
       "\n",
       "     country      continent           hemisphere  heart_attack_risk  \n",
       "0  Argentina  South America  Southern Hemisphere                  0  \n",
       "1     Canada  North America  Northern Hemisphere                  0  \n",
       "2     France         Europe  Northern Hemisphere                  0  \n",
       "3     Canada  North America  Northern Hemisphere                  0  \n",
       "4   Thailand           Asia  Northern Hemisphere                  0  "
      ]
     },
     "execution_count": 150,
     "metadata": {},
     "output_type": "execute_result"
    }
   ],
   "source": [
    "# applying for loop to limit some columns up to 2 decimal places\n",
    "for col in df.columns:\n",
    "    if df[col].dtype == 'float64':\n",
    "        df[col] = df[col].apply(lambda x: round(x, 2))\n",
    "\n",
    "# confirming the changes\n",
    "df.head()"
   ]
  },
  {
   "cell_type": "code",
   "execution_count": 151,
   "metadata": {},
   "outputs": [
    {
     "data": {
      "text/plain": [
       "patient_id                         0\n",
       "age                                0\n",
       "sex                                0\n",
       "cholesterol                        0\n",
       "blood_pressure                     0\n",
       "heart_rate                         0\n",
       "diabetes                           0\n",
       "family_history                     0\n",
       "smoking                            0\n",
       "obesity                            0\n",
       "alcohol_consumption                0\n",
       "exercise_hours_per_week            0\n",
       "diet                               0\n",
       "previous_heart_problems            0\n",
       "medication_use                     0\n",
       "stress_level                       0\n",
       "sedentary_hours_per_day            0\n",
       "income                             0\n",
       "bmi                                0\n",
       "triglycerides                      0\n",
       "physical_activity_days_per_week    0\n",
       "sleep_hours_per_day                0\n",
       "country                            0\n",
       "continent                          0\n",
       "hemisphere                         0\n",
       "heart_attack_risk                  0\n",
       "dtype: int64"
      ]
     },
     "execution_count": 151,
     "metadata": {},
     "output_type": "execute_result"
    }
   ],
   "source": [
    "# checking for any null values in the dataset\n",
    "df.isnull().sum()"
   ]
  },
  {
   "cell_type": "markdown",
   "metadata": {},
   "source": [
    "----\n",
    "\n",
    "Our dataset has no null values in all the columns\n",
    "\n",
    "---"
   ]
  },
  {
   "cell_type": "code",
   "execution_count": 152,
   "metadata": {},
   "outputs": [
    {
     "name": "stdout",
     "output_type": "stream",
     "text": [
      "The duplicates values in our dataset is: False\n"
     ]
    }
   ],
   "source": [
    "# check for duplicates in the dataset\n",
    "print(f'The duplicates values in our dataset is: {df.duplicated().any()}')"
   ]
  },
  {
   "cell_type": "markdown",
   "metadata": {},
   "source": [
    "----\n",
    "\n",
    "Our dataset has no duplicates\n",
    "\n",
    "\n",
    "---"
   ]
  },
  {
   "cell_type": "markdown",
   "metadata": {},
   "source": [
    "### **Feature Engineering**"
   ]
  },
  {
   "cell_type": "code",
   "execution_count": 153,
   "metadata": {},
   "outputs": [
    {
     "name": "stdout",
     "output_type": "stream",
     "text": [
      "The datatype of `blood_pressure` column is:  object\n"
     ]
    }
   ],
   "source": [
    "# confirming the datatype of `blood_pressure` column\n",
    "print(f\"The datatype of `blood_pressure` column is:  {df['blood_pressure'].dtype}\")"
   ]
  },
  {
   "cell_type": "markdown",
   "metadata": {},
   "source": [
    "---\n",
    "\n",
    "- As we can see that dataype of `blood_pressure` column is `object`. \n",
    "- So to use this in further analysis we need to extract the `systolic` and `diastolic` values from the `blood_pressure` column.\n",
    "\n",
    "---"
   ]
  },
  {
   "cell_type": "code",
   "execution_count": 154,
   "metadata": {},
   "outputs": [],
   "source": [
    "# converting this column to string\n",
    "df['blood_pressure'] = df['blood_pressure'].astype(str)\n",
    "\n",
    "# extracting the systolic and diastolic values from the `blood_pressure` column and converting them to integers\n",
    "df['systolic'] = df['blood_pressure'].str.split('/').str[0].astype('int64')\n",
    "df['diastolic'] = df['blood_pressure'].str.split('/').str[1].astype('Int64')"
   ]
  },
  {
   "cell_type": "code",
   "execution_count": 155,
   "metadata": {},
   "outputs": [
    {
     "name": "stdout",
     "output_type": "stream",
     "text": [
      "systolic : int64\n",
      "diastolic : Int64\n"
     ]
    }
   ],
   "source": [
    "# confirming the changes\n",
    "\n",
    "# checking the datatype of `systolic` and `diastolic` columns\n",
    "for col in df.columns:\n",
    "    if col == 'systolic' or col == 'diastolic':\n",
    "        print(f\"{col} : {df[col].dtype}\")"
   ]
  },
  {
   "cell_type": "markdown",
   "metadata": {},
   "source": [
    "---"
   ]
  },
  {
   "cell_type": "markdown",
   "metadata": {},
   "source": [
    "### **Exploratory Data Analysis (EDA) & Data Visualization**"
   ]
  },
  {
   "cell_type": "markdown",
   "metadata": {},
   "source": [
    "#### **exploring the `sex` column**"
   ]
  },
  {
   "cell_type": "code",
   "execution_count": 156,
   "metadata": {},
   "outputs": [
    {
     "data": {
      "text/plain": [
       "array(['Male', 'Female'], dtype=object)"
      ]
     },
     "execution_count": 156,
     "metadata": {},
     "output_type": "execute_result"
    }
   ],
   "source": [
    "# checking for unique values in `sex` column\n",
    "df['sex'].unique()"
   ]
  },
  {
   "cell_type": "code",
   "execution_count": 157,
   "metadata": {},
   "outputs": [
    {
     "data": {
      "text/plain": [
       "sex\n",
       "Male      6111\n",
       "Female    2652\n",
       "Name: count, dtype: int64"
      ]
     },
     "execution_count": 157,
     "metadata": {},
     "output_type": "execute_result"
    }
   ],
   "source": [
    "# check for the presence of male and female in the dataset\n",
    "df['sex'].value_counts()"
   ]
  },
  {
   "cell_type": "code",
   "execution_count": 158,
   "metadata": {},
   "outputs": [],
   "source": [
    "def bar_plot():\n",
    "    ''''\n",
    "    Defining a function to plot a bar plot of the percentage of gender in our dataset\n",
    "    '''\n",
    "    # percentage of male and female in the dataset\n",
    "    gender_percentage = df['sex'].value_counts(normalize=True) * 100\n",
    "    \n",
    "    # defining the figure size\n",
    "    plt.figure(figsize=(10, 6))\n",
    "    \n",
    "    # plotting the bar plot of gender percentage\n",
    "    plt.bar(gender_percentage.index, gender_percentage, color=['navy', 'purple'], alpha=0.7, edgecolor='black', linewidth=2)\n",
    "    \n",
    "    # setting the title of the plot\n",
    "    plt.title('Percentage of Male and Female in the Dataset')\n",
    "    \n",
    "    # formatting the x and y labels\n",
    "    plt.ylabel('Percentage', fontsize=12, fontweight='bold')\n",
    "    plt.xlabel('Gender', fontsize=12, fontweight='bold')\n",
    "    \n",
    "    # formatting the xticks and yticks\n",
    "    plt.xticks(fontsize=10, fontweight='bold')\n",
    "    plt.yticks(fontsize=10, fontweight='bold')\n",
    "    \n",
    "    # rotating the alignment of the xticks\n",
    "    plt.xticks(rotation=0)\n",
    "    \n",
    "    plt.show()\n",
    "    \n",
    "    return"
   ]
  },
  {
   "cell_type": "code",
   "execution_count": 159,
   "metadata": {},
   "outputs": [
    {
     "data": {
      "image/png": "[encoded data removed]",
      "text/plain": [
       "<Figure size 1000x600 with 1 Axes>"
      ]
     },
     "metadata": {},
     "output_type": "display_data"
    }
   ],
   "source": [
    "# calling the function\n",
    "bar_plot()"
   ]
  },
  {
   "cell_type": "code",
   "execution_count": 160,
   "metadata": {},
   "outputs": [
    {
     "data": {
      "application/vnd.microsoft.datawrangler.viewer.v0+json": {
       "columns": [
        {
         "name": "sex",
         "rawType": "object",
         "type": "string"
        },
        {
         "name": "mean",
         "rawType": "float64",
         "type": "float"
        },
        {
         "name": "max",
         "rawType": "int64",
         "type": "integer"
        }
       ],
       "conversionMethod": "pd.DataFrame",
       "ref": "72f53d8f-51d7-462f-94b1-7ac479be1248",
       "rows": [
        [
         "Female",
         "53.06070889894419",
         "90"
        ],
        [
         "Male",
         "53.988872524955",
         "90"
        ]
       ],
       "shape": {
        "columns": 2,
        "rows": 2
       }
      },
      "text/html": [
       "<div>\n",
       "<style scoped>\n",
       "    .dataframe tbody tr th:only-of-type {\n",
       "        vertical-align: middle;\n",
       "    }\n",
       "\n",
       "    .dataframe tbody tr th {\n",
       "        vertical-align: top;\n",
       "    }\n",
       "\n",
       "    .dataframe thead th {\n",
       "        text-align: right;\n",
       "    }\n",
       "</style>\n",
       "<table border=\"1\" class=\"dataframe\">\n",
       "  <thead>\n",
       "    <tr style=\"text-align: right;\">\n",
       "      <th></th>\n",
       "      <th>mean</th>\n",
       "      <th>max</th>\n",
       "    </tr>\n",
       "    <tr>\n",
       "      <th>sex</th>\n",
       "      <th></th>\n",
       "      <th></th>\n",
       "    </tr>\n",
       "  </thead>\n",
       "  <tbody>\n",
       "    <tr>\n",
       "      <th>Female</th>\n",
       "      <td>53.060709</td>\n",
       "      <td>90</td>\n",
       "    </tr>\n",
       "    <tr>\n",
       "      <th>Male</th>\n",
       "      <td>53.988873</td>\n",
       "      <td>90</td>\n",
       "    </tr>\n",
       "  </tbody>\n",
       "</table>\n",
       "</div>"
      ],
      "text/plain": [
       "             mean  max\n",
       "sex                   \n",
       "Female  53.060709   90\n",
       "Male    53.988873   90"
      ]
     },
     "execution_count": 160,
     "metadata": {},
     "output_type": "execute_result"
    }
   ],
   "source": [
    "# mean age of both genders in the dataset\n",
    "\n",
    "df.groupby('sex')['age'].agg(['mean', 'max'])"
   ]
  },
  {
   "cell_type": "markdown",
   "metadata": {},
   "source": [
    "----\n",
    "- So in our dataset we have 6111 males and 2652 females out of 8763 people which are approxilamately 69.5% and 30.5% respectively.\n",
    "- The mean age of both genders is 53 years and the maximum age of both genders is 90.\n",
    "\n",
    "---"
   ]
  },
  {
   "cell_type": "markdown",
   "metadata": {},
   "source": [
    "#### **exploring the `cholesterol` column in relation to the `sex` column**"
   ]
  },
  {
   "cell_type": "code",
   "execution_count": 161,
   "metadata": {},
   "outputs": [
    {
     "data": {
      "application/vnd.microsoft.datawrangler.viewer.v0+json": {
       "columns": [
        {
         "name": "sex",
         "rawType": "object",
         "type": "string"
        },
        {
         "name": "mean",
         "rawType": "float64",
         "type": "float"
        },
        {
         "name": "std",
         "rawType": "float64",
         "type": "float"
        },
        {
         "name": "min",
         "rawType": "int64",
         "type": "integer"
        },
        {
         "name": "max",
         "rawType": "int64",
         "type": "integer"
        }
       ],
       "conversionMethod": "pd.DataFrame",
       "ref": "dfd626b9-bbdd-4189-b3d4-5576a1a39f4a",
       "rows": [
        [
         "Female",
         "258.94",
         "80.55",
         "120",
         "400"
        ],
        [
         "Male",
         "260.28",
         "81.0",
         "120",
         "400"
        ]
       ],
       "shape": {
        "columns": 4,
        "rows": 2
       }
      },
      "text/html": [
       "<div>\n",
       "<style scoped>\n",
       "    .dataframe tbody tr th:only-of-type {\n",
       "        vertical-align: middle;\n",
       "    }\n",
       "\n",
       "    .dataframe tbody tr th {\n",
       "        vertical-align: top;\n",
       "    }\n",
       "\n",
       "    .dataframe thead th {\n",
       "        text-align: right;\n",
       "    }\n",
       "</style>\n",
       "<table border=\"1\" class=\"dataframe\">\n",
       "  <thead>\n",
       "    <tr style=\"text-align: right;\">\n",
       "      <th></th>\n",
       "      <th>mean</th>\n",
       "      <th>std</th>\n",
       "      <th>min</th>\n",
       "      <th>max</th>\n",
       "    </tr>\n",
       "    <tr>\n",
       "      <th>sex</th>\n",
       "      <th></th>\n",
       "      <th></th>\n",
       "      <th></th>\n",
       "      <th></th>\n",
       "    </tr>\n",
       "  </thead>\n",
       "  <tbody>\n",
       "    <tr>\n",
       "      <th>Female</th>\n",
       "      <td>258.94</td>\n",
       "      <td>80.55</td>\n",
       "      <td>120</td>\n",
       "      <td>400</td>\n",
       "    </tr>\n",
       "    <tr>\n",
       "      <th>Male</th>\n",
       "      <td>260.28</td>\n",
       "      <td>81.00</td>\n",
       "      <td>120</td>\n",
       "      <td>400</td>\n",
       "    </tr>\n",
       "  </tbody>\n",
       "</table>\n",
       "</div>"
      ],
      "text/plain": [
       "          mean    std  min  max\n",
       "sex                            \n",
       "Female  258.94  80.55  120  400\n",
       "Male    260.28  81.00  120  400"
      ]
     },
     "execution_count": 161,
     "metadata": {},
     "output_type": "execute_result"
    }
   ],
   "source": [
    "# cholesterol of both genders in the dataset\n",
    "\n",
    "df.groupby('sex')['cholesterol'].agg(['mean','std', 'min','max']).round(2)"
   ]
  },
  {
   "cell_type": "markdown",
   "metadata": {},
   "source": [
    "----\n",
    "\n",
    "- From the above results it is clear that the mean and standard deviation of cholestrol is just a bit higher in males than females.\n",
    "- Although the max and min values of cholestrol is same for both genders.\n",
    "\n",
    "---\n"
   ]
  },
  {
   "cell_type": "markdown",
   "metadata": {},
   "source": [
    "#### **exploring the `heart_rate` column in relation to the `sex & family_history` column**"
   ]
  },
  {
   "cell_type": "code",
   "execution_count": 162,
   "metadata": {},
   "outputs": [
    {
     "data": {
      "application/vnd.microsoft.datawrangler.viewer.v0+json": {
       "columns": [
        {
         "name": "sex",
         "rawType": "object",
         "type": "string"
        },
        {
         "name": "mean",
         "rawType": "float64",
         "type": "float"
        },
        {
         "name": "std",
         "rawType": "float64",
         "type": "float"
        },
        {
         "name": "min",
         "rawType": "int64",
         "type": "integer"
        },
        {
         "name": "max",
         "rawType": "int64",
         "type": "integer"
        }
       ],
       "conversionMethod": "pd.DataFrame",
       "ref": "0eb5ccc3-9abf-4990-be67-becb43bbe475",
       "rows": [
        [
         "Female",
         "75.36",
         "20.64",
         "40",
         "110"
        ],
        [
         "Male",
         "74.87",
         "20.51",
         "40",
         "110"
        ]
       ],
       "shape": {
        "columns": 4,
        "rows": 2
       }
      },
      "text/html": [
       "<div>\n",
       "<style scoped>\n",
       "    .dataframe tbody tr th:only-of-type {\n",
       "        vertical-align: middle;\n",
       "    }\n",
       "\n",
       "    .dataframe tbody tr th {\n",
       "        vertical-align: top;\n",
       "    }\n",
       "\n",
       "    .dataframe thead th {\n",
       "        text-align: right;\n",
       "    }\n",
       "</style>\n",
       "<table border=\"1\" class=\"dataframe\">\n",
       "  <thead>\n",
       "    <tr style=\"text-align: right;\">\n",
       "      <th></th>\n",
       "      <th>mean</th>\n",
       "      <th>std</th>\n",
       "      <th>min</th>\n",
       "      <th>max</th>\n",
       "    </tr>\n",
       "    <tr>\n",
       "      <th>sex</th>\n",
       "      <th></th>\n",
       "      <th></th>\n",
       "      <th></th>\n",
       "      <th></th>\n",
       "    </tr>\n",
       "  </thead>\n",
       "  <tbody>\n",
       "    <tr>\n",
       "      <th>Female</th>\n",
       "      <td>75.36</td>\n",
       "      <td>20.64</td>\n",
       "      <td>40</td>\n",
       "      <td>110</td>\n",
       "    </tr>\n",
       "    <tr>\n",
       "      <th>Male</th>\n",
       "      <td>74.87</td>\n",
       "      <td>20.51</td>\n",
       "      <td>40</td>\n",
       "      <td>110</td>\n",
       "    </tr>\n",
       "  </tbody>\n",
       "</table>\n",
       "</div>"
      ],
      "text/plain": [
       "         mean    std  min  max\n",
       "sex                           \n",
       "Female  75.36  20.64   40  110\n",
       "Male    74.87  20.51   40  110"
      ]
     },
     "execution_count": 162,
     "metadata": {},
     "output_type": "execute_result"
    }
   ],
   "source": [
    "# heart rate of both genders in the dataset\n",
    "df.groupby('sex')['heart_rate'].agg(['mean','std', 'min','max']).round(2)"
   ]
  },
  {
   "cell_type": "code",
   "execution_count": 163,
   "metadata": {},
   "outputs": [
    {
     "data": {
      "text/plain": [
       "array([0, 1], dtype=int64)"
      ]
     },
     "execution_count": 163,
     "metadata": {},
     "output_type": "execute_result"
    }
   ],
   "source": [
    "# checking for unique values in `family_history` column\n",
    "df['family_history'].unique()"
   ]
  },
  {
   "cell_type": "code",
   "execution_count": 164,
   "metadata": {},
   "outputs": [
    {
     "data": {
      "text/plain": [
       "family_history\n",
       "0    4443\n",
       "1    4320\n",
       "Name: count, dtype: int64"
      ]
     },
     "execution_count": 164,
     "metadata": {},
     "output_type": "execute_result"
    }
   ],
   "source": [
    "# checking value counts in `family_history` column\n",
    "df['family_history'].value_counts()"
   ]
  },
  {
   "cell_type": "code",
   "execution_count": 165,
   "metadata": {},
   "outputs": [
    {
     "data": {
      "text/plain": [
       "sex     family_history\n",
       "Female  0                 1349\n",
       "        1                 1303\n",
       "Male    0                 3094\n",
       "        1                 3017\n",
       "Name: count, dtype: int64"
      ]
     },
     "execution_count": 165,
     "metadata": {},
     "output_type": "execute_result"
    }
   ],
   "source": [
    "# catagorizing further `sex` and `family_history` columns\n",
    "df.groupby('sex')['family_history'].value_counts()"
   ]
  },
  {
   "cell_type": "code",
   "execution_count": 166,
   "metadata": {},
   "outputs": [
    {
     "data": {
      "text/plain": [
       "sex     family_history\n",
       "Female  0                 76.22\n",
       "        1                 74.48\n",
       "Male    0                 74.89\n",
       "        1                 74.85\n",
       "Name: heart_rate, dtype: float64"
      ]
     },
     "execution_count": 166,
     "metadata": {},
     "output_type": "execute_result"
    }
   ],
   "source": [
    "# heart rate of both genders in the dataset in response to family history\n",
    "df.groupby(['sex', 'family_history'])['heart_rate'].mean().round(2)"
   ]
  },
  {
   "cell_type": "markdown",
   "metadata": {},
   "source": [
    "### Bar Plot"
   ]
  },
  {
   "cell_type": "code",
   "execution_count": 167,
   "metadata": {},
   "outputs": [
    {
     "data": {
      "image/png": "[encoded data removed]",
      "text/plain": [
       "<Figure size 640x480 with 1 Axes>"
      ]
     },
     "metadata": {},
     "output_type": "display_data"
    }
   ],
   "source": [
    "# make a count plot of `family_history` column\n",
    "sns.countplot(x='family_history', data=df, palette='viridis')\n",
    "plt.show()"
   ]
  },
  {
   "cell_type": "markdown",
   "metadata": {},
   "source": [
    "----\n",
    "\n",
    "- `4443` enteries in our dataset has `family_history` value of `no` whereas `4320` indicies has `family_history` value of `yes`.\n",
    "- The average heart rate average in female is slightly higher than the average heart rate average in male.\n",
    "- If we do some deeper analysis we can see that the average heart rate for the female with no previous family history is 2 points higer than of other female and male catagories.\n",
    "\n",
    "---"
   ]
  },
  {
   "cell_type": "markdown",
   "metadata": {},
   "source": [
    "#### **exploring the `obesity` and `diabetes` columns and their relationship with gender**"
   ]
  },
  {
   "cell_type": "code",
   "execution_count": 168,
   "metadata": {},
   "outputs": [
    {
     "data": {
      "text/plain": [
       "diabetes\n",
       "1    5716\n",
       "0    3047\n",
       "Name: count, dtype: int64"
      ]
     },
     "execution_count": 168,
     "metadata": {},
     "output_type": "execute_result"
    }
   ],
   "source": [
    "# checking the value counts of diabetes in the dataset\n",
    "df['diabetes'].value_counts()"
   ]
  },
  {
   "cell_type": "code",
   "execution_count": 169,
   "metadata": {},
   "outputs": [
    {
     "data": {
      "text/plain": [
       "sex     diabetes\n",
       "Female  1           1723\n",
       "        0            929\n",
       "Male    1           3993\n",
       "        0           2118\n",
       "Name: count, dtype: int64"
      ]
     },
     "execution_count": 169,
     "metadata": {},
     "output_type": "execute_result"
    }
   ],
   "source": [
    "# checking value counts in `diabetes` column\n",
    "df.groupby('sex')['diabetes'].value_counts()"
   ]
  },
  {
   "cell_type": "markdown",
   "metadata": {},
   "source": [
    "### Pie Chart"
   ]
  },
  {
   "cell_type": "code",
   "execution_count": 170,
   "metadata": {},
   "outputs": [
    {
     "data": {
      "image/png": "[encoded data removed]",
      "text/plain": [
       "<Figure size 640x480 with 1 Axes>"
      ]
     },
     "metadata": {},
     "output_type": "display_data"
    }
   ],
   "source": [
    "# make a pie chart of `diabetes` column\n",
    "df['diabetes'].value_counts().plot.pie(autopct='%1.1f%%', colors=['green', 'red'], explode=[0, 0.1], shadow=True)\n",
    "plt.title('Percentage of Diabetes in the Dataset')\n",
    "plt.ylabel('')\n",
    "plt.show()"
   ]
  },
  {
   "cell_type": "code",
   "execution_count": 171,
   "metadata": {},
   "outputs": [
    {
     "data": {
      "text/plain": [
       "obesity\n",
       "1    4394\n",
       "0    4369\n",
       "Name: count, dtype: int64"
      ]
     },
     "execution_count": 171,
     "metadata": {},
     "output_type": "execute_result"
    }
   ],
   "source": [
    "# checking the value counts of `obesity` in the dataset\n",
    "df['obesity'].value_counts()"
   ]
  },
  {
   "cell_type": "code",
   "execution_count": 172,
   "metadata": {},
   "outputs": [
    {
     "data": {
      "text/plain": [
       "sex     obesity\n",
       "Female  0          1327\n",
       "        1          1325\n",
       "Male    1          3069\n",
       "        0          3042\n",
       "Name: count, dtype: int64"
      ]
     },
     "execution_count": 172,
     "metadata": {},
     "output_type": "execute_result"
    }
   ],
   "source": [
    "# checking value counts in `obesity` column\n",
    "df.groupby('sex')['obesity'].value_counts()"
   ]
  },
  {
   "cell_type": "markdown",
   "metadata": {},
   "source": [
    "---\n",
    "\n",
    "- In our dataset we have relatively large number of people who are `diabetic`. By looking further we get an idea that in both male and female the diabetic count is very large\n",
    "- For female it is `1723` whereas for male it is `3993`\n",
    "- Whereas the valeu countsof obesity and non obeisty id almost same for both genders\n",
    "\n",
    "---\n"
   ]
  },
  {
   "cell_type": "markdown",
   "metadata": {},
   "source": [
    "#### exploring the `exercise_hours_per_week` column in relation to the `sex` column"
   ]
  },
  {
   "cell_type": "code",
   "execution_count": 173,
   "metadata": {},
   "outputs": [
    {
     "data": {
      "text/plain": [
       "sex     obesity  diabetes\n",
       "Female  0        0            469\n",
       "                 1            858\n",
       "        1        0            460\n",
       "                 1            865\n",
       "Male    0        0           1077\n",
       "                 1           1965\n",
       "        1        0           1041\n",
       "                 1           2028\n",
       "Name: exercise_hours_per_week, dtype: int64"
      ]
     },
     "execution_count": 173,
     "metadata": {},
     "output_type": "execute_result"
    }
   ],
   "source": [
    "df.groupby(['sex', 'obesity', 'diabetes'])['exercise_hours_per_week'].count()"
   ]
  },
  {
   "cell_type": "markdown",
   "metadata": {},
   "source": [
    "---\n",
    "\n",
    "- From the above results it is clear that the number of males who are obese and also diabetic is much larger than the number of catagories.\n",
    "- Feales who are obese and diabetic are double than the who are non diabteic.\n",
    "----"
   ]
  },
  {
   "cell_type": "markdown",
   "metadata": {},
   "source": [
    "### Box Plot"
   ]
  },
  {
   "cell_type": "code",
   "execution_count": 174,
   "metadata": {},
   "outputs": [
    {
     "data": {
      "image/png": "[encoded data removed]",
      "text/plain": [
       "<Figure size 1500x1000 with 8 Axes>"
      ]
     },
     "metadata": {},
     "output_type": "display_data"
    }
   ],
   "source": [
    "# Selecting the columns for the box plot\n",
    "columns_to_plot = ['age', 'cholesterol', 'heart_rate', 'exercise_hours_per_week', \n",
    "                   'sedentary_hours_per_day', 'income', 'bmi', 'triglycerides']\n",
    "\n",
    "# Defining the number of rows and columns for subplots\n",
    "n_cols = 3\n",
    "n_rows = (len(columns_to_plot) + n_cols - 1) // n_cols\n",
    "\n",
    "# Creating subplots\n",
    "fig, axes = plt.subplots(n_rows, n_cols, figsize=(15, 10))\n",
    "axes = axes.flatten()\n",
    "\n",
    "# Plotting each column in a separate subplot\n",
    "for i, col in enumerate(columns_to_plot):\n",
    "    sns.boxplot(data=df, y=col, ax=axes[i])\n",
    "    axes[i].set_title(f'Box Plot of {col}')\n",
    "    axes[i].tick_params(axis='x', rotation=45)\n",
    "\n",
    "# Hiding any unused subplots\n",
    "for j in range(i + 1, len(axes)):\n",
    "    fig.delaxes(axes[j])\n",
    "\n",
    "plt.tight_layout()\n",
    "plt.show()"
   ]
  },
  {
   "cell_type": "markdown",
   "metadata": {},
   "source": [
    "### Histogram of Age"
   ]
  },
  {
   "cell_type": "code",
   "execution_count": 175,
   "metadata": {},
   "outputs": [
    {
     "data": {
      "image/png": "[encoded data removed]",
      "text/plain": [
       "<Figure size 1600x1200 with 3 Axes>"
      ]
     },
     "metadata": {},
     "output_type": "display_data"
    }
   ],
   "source": [
    "# Creating subplots for histograms of 'income', 'age', and 'bmi'\n",
    "fig, axes = plt.subplots(2, 2, figsize=(16, 12))\n",
    "\n",
    "# Flattening the axes array for easier indexing\n",
    "axes = axes.flatten()\n",
    "\n",
    "# Histogram for 'income'\n",
    "sns.histplot(data=df, x='income', bins=20, kde=True, color='blue', hue='sex', ax=axes[0], edgecolor='black', linewidth=2, alpha=0.7)\n",
    "axes[0].set_title('Histogram of Income')\n",
    "axes[0].set_xlabel('Income')\n",
    "axes[0].set_ylabel('Frequency')\n",
    "\n",
    "# Histogram for 'age'\n",
    "sns.histplot(data=df, x='age', bins=20, kde=True, color='green', hue='sex', ax=axes[1], edgecolor='black', linewidth=2, alpha=0.7)\n",
    "axes[1].set_title('Histogram of Age')\n",
    "axes[1].set_xlabel('Age')\n",
    "axes[1].set_ylabel('Frequency')\n",
    "\n",
    "# Histogram for 'bmi'\n",
    "sns.histplot(data=df, x='bmi', bins=20, kde=True, color='red', hue='sex', ax=axes[2], edgecolor='black', linewidth=2, alpha=0.7)\n",
    "axes[2].set_title('Histogram of BMI')\n",
    "axes[2].set_xlabel('BMI')\n",
    "axes[2].set_ylabel('Frequency')\n",
    "\n",
    "# Hiding the unused subplot\n",
    "fig.delaxes(axes[3])\n",
    "\n",
    "# Adjusting layout\n",
    "plt.tight_layout()\n",
    "plt.show()\n"
   ]
  },
  {
   "cell_type": "markdown",
   "metadata": {},
   "source": [
    "----\n",
    "\n",
    "- The average heart rate for males is slightly higher than the average heart rate for females.\n",
    "- The average age for males is slightly higher than the average age for females.\n",
    "- Above histograms shows that distribution `age`, `income` & `bmi` are almost uniform fo both genders \n",
    "  \n",
    "\n",
    "---"
   ]
  },
  {
   "cell_type": "code",
   "execution_count": 176,
   "metadata": {},
   "outputs": [
    {
     "data": {
      "text/plain": [
       "heart_attack_risk\n",
       "0    5624\n",
       "1    3139\n",
       "Name: count, dtype: int64"
      ]
     },
     "execution_count": 176,
     "metadata": {},
     "output_type": "execute_result"
    }
   ],
   "source": [
    "df['heart_attack_risk'].value_counts()"
   ]
  },
  {
   "cell_type": "markdown",
   "metadata": {},
   "source": [
    "----\n",
    "\n",
    "- 0 represents no heart attack risk and 1 represents heart attack risk.\n",
    "- There are 5624 entries with  no heart attack risk and 3139 entries with heart attack risk.\n",
    "- The dataset is imbalanced which creates a bias in the model.\n",
    "\n",
    "---"
   ]
  },
  {
   "cell_type": "markdown",
   "metadata": {},
   "source": [
    "### **Data Preprocessing**"
   ]
  },
  {
   "cell_type": "code",
   "execution_count": 177,
   "metadata": {},
   "outputs": [
    {
     "data": {
      "application/vnd.microsoft.datawrangler.viewer.v0+json": {
       "columns": [
        {
         "name": "index",
         "rawType": "int64",
         "type": "integer"
        },
        {
         "name": "age",
         "rawType": "int64",
         "type": "integer"
        },
        {
         "name": "sex",
         "rawType": "object",
         "type": "string"
        },
        {
         "name": "cholesterol",
         "rawType": "int64",
         "type": "integer"
        },
        {
         "name": "heart_rate",
         "rawType": "int64",
         "type": "integer"
        },
        {
         "name": "diabetes",
         "rawType": "int64",
         "type": "integer"
        },
        {
         "name": "family_history",
         "rawType": "int64",
         "type": "integer"
        },
        {
         "name": "smoking",
         "rawType": "int64",
         "type": "integer"
        },
        {
         "name": "obesity",
         "rawType": "int64",
         "type": "integer"
        },
        {
         "name": "alcohol_consumption",
         "rawType": "int64",
         "type": "integer"
        },
        {
         "name": "exercise_hours_per_week",
         "rawType": "float64",
         "type": "float"
        },
        {
         "name": "diet",
         "rawType": "object",
         "type": "string"
        },
        {
         "name": "previous_heart_problems",
         "rawType": "int64",
         "type": "integer"
        },
        {
         "name": "medication_use",
         "rawType": "int64",
         "type": "integer"
        },
        {
         "name": "stress_level",
         "rawType": "int64",
         "type": "integer"
        },
        {
         "name": "sedentary_hours_per_day",
         "rawType": "float64",
         "type": "float"
        },
        {
         "name": "income",
         "rawType": "int64",
         "type": "integer"
        },
        {
         "name": "bmi",
         "rawType": "float64",
         "type": "float"
        },
        {
         "name": "triglycerides",
         "rawType": "int64",
         "type": "integer"
        },
        {
         "name": "physical_activity_days_per_week",
         "rawType": "int64",
         "type": "integer"
        },
        {
         "name": "sleep_hours_per_day",
         "rawType": "int64",
         "type": "integer"
        },
        {
         "name": "country",
         "rawType": "object",
         "type": "string"
        },
        {
         "name": "continent",
         "rawType": "object",
         "type": "string"
        },
        {
         "name": "hemisphere",
         "rawType": "object",
         "type": "string"
        },
        {
         "name": "heart_attack_risk",
         "rawType": "int64",
         "type": "integer"
        },
        {
         "name": "systolic",
         "rawType": "int64",
         "type": "integer"
        },
        {
         "name": "diastolic",
         "rawType": "Int64",
         "type": "integer"
        }
       ],
       "conversionMethod": "pd.DataFrame",
       "ref": "9d5286e0-d2f9-4609-90a9-4114372a26a1",
       "rows": [
        [
         "0",
         "67",
         "Male",
         "208",
         "72",
         "0",
         "0",
         "1",
         "0",
         "0",
         "4.17",
         "Average",
         "0",
         "0",
         "9",
         "6.62",
         "261404",
         "31.25",
         "286",
         "0",
         "6",
         "Argentina",
         "South America",
         "Southern Hemisphere",
         "0",
         "158",
         "88"
        ],
        [
         "1",
         "21",
         "Male",
         "389",
         "98",
         "1",
         "1",
         "1",
         "1",
         "1",
         "1.81",
         "Unhealthy",
         "1",
         "0",
         "1",
         "4.96",
         "285768",
         "27.19",
         "235",
         "1",
         "7",
         "Canada",
         "North America",
         "Northern Hemisphere",
         "0",
         "165",
         "93"
        ],
        [
         "2",
         "21",
         "Female",
         "324",
         "72",
         "1",
         "0",
         "0",
         "0",
         "0",
         "2.08",
         "Healthy",
         "1",
         "1",
         "9",
         "9.46",
         "235282",
         "28.18",
         "587",
         "4",
         "4",
         "France",
         "Europe",
         "Northern Hemisphere",
         "0",
         "174",
         "99"
        ],
        [
         "3",
         "84",
         "Male",
         "383",
         "73",
         "1",
         "1",
         "1",
         "0",
         "1",
         "9.83",
         "Average",
         "1",
         "0",
         "9",
         "7.65",
         "125640",
         "36.46",
         "378",
         "3",
         "4",
         "Canada",
         "North America",
         "Northern Hemisphere",
         "0",
         "163",
         "100"
        ],
        [
         "4",
         "66",
         "Male",
         "318",
         "93",
         "1",
         "1",
         "1",
         "1",
         "0",
         "5.8",
         "Unhealthy",
         "1",
         "0",
         "6",
         "1.51",
         "160555",
         "21.81",
         "231",
         "1",
         "5",
         "Thailand",
         "Asia",
         "Northern Hemisphere",
         "0",
         "91",
         "88"
        ]
       ],
       "shape": {
        "columns": 26,
        "rows": 5
       }
      },
      "text/html": [
       "<div>\n",
       "<style scoped>\n",
       "    .dataframe tbody tr th:only-of-type {\n",
       "        vertical-align: middle;\n",
       "    }\n",
       "\n",
       "    .dataframe tbody tr th {\n",
       "        vertical-align: top;\n",
       "    }\n",
       "\n",
       "    .dataframe thead th {\n",
       "        text-align: right;\n",
       "    }\n",
       "</style>\n",
       "<table border=\"1\" class=\"dataframe\">\n",
       "  <thead>\n",
       "    <tr style=\"text-align: right;\">\n",
       "      <th></th>\n",
       "      <th>age</th>\n",
       "      <th>sex</th>\n",
       "      <th>cholesterol</th>\n",
       "      <th>heart_rate</th>\n",
       "      <th>diabetes</th>\n",
       "      <th>family_history</th>\n",
       "      <th>smoking</th>\n",
       "      <th>obesity</th>\n",
       "      <th>alcohol_consumption</th>\n",
       "      <th>exercise_hours_per_week</th>\n",
       "      <th>diet</th>\n",
       "      <th>previous_heart_problems</th>\n",
       "      <th>medication_use</th>\n",
       "      <th>stress_level</th>\n",
       "      <th>sedentary_hours_per_day</th>\n",
       "      <th>income</th>\n",
       "      <th>bmi</th>\n",
       "      <th>triglycerides</th>\n",
       "      <th>physical_activity_days_per_week</th>\n",
       "      <th>sleep_hours_per_day</th>\n",
       "      <th>country</th>\n",
       "      <th>continent</th>\n",
       "      <th>hemisphere</th>\n",
       "      <th>heart_attack_risk</th>\n",
       "      <th>systolic</th>\n",
       "      <th>diastolic</th>\n",
       "    </tr>\n",
       "  </thead>\n",
       "  <tbody>\n",
       "    <tr>\n",
       "      <th>0</th>\n",
       "      <td>67</td>\n",
       "      <td>Male</td>\n",
       "      <td>208</td>\n",
       "      <td>72</td>\n",
       "      <td>0</td>\n",
       "      <td>0</td>\n",
       "      <td>1</td>\n",
       "      <td>0</td>\n",
       "      <td>0</td>\n",
       "      <td>4.17</td>\n",
       "      <td>Average</td>\n",
       "      <td>0</td>\n",
       "      <td>0</td>\n",
       "      <td>9</td>\n",
       "      <td>6.62</td>\n",
       "      <td>261404</td>\n",
       "      <td>31.25</td>\n",
       "      <td>286</td>\n",
       "      <td>0</td>\n",
       "      <td>6</td>\n",
       "      <td>Argentina</td>\n",
       "      <td>South America</td>\n",
       "      <td>Southern Hemisphere</td>\n",
       "      <td>0</td>\n",
       "      <td>158</td>\n",
       "      <td>88</td>\n",
       "    </tr>\n",
       "    <tr>\n",
       "      <th>1</th>\n",
       "      <td>21</td>\n",
       "      <td>Male</td>\n",
       "      <td>389</td>\n",
       "      <td>98</td>\n",
       "      <td>1</td>\n",
       "      <td>1</td>\n",
       "      <td>1</td>\n",
       "      <td>1</td>\n",
       "      <td>1</td>\n",
       "      <td>1.81</td>\n",
       "      <td>Unhealthy</td>\n",
       "      <td>1</td>\n",
       "      <td>0</td>\n",
       "      <td>1</td>\n",
       "      <td>4.96</td>\n",
       "      <td>285768</td>\n",
       "      <td>27.19</td>\n",
       "      <td>235</td>\n",
       "      <td>1</td>\n",
       "      <td>7</td>\n",
       "      <td>Canada</td>\n",
       "      <td>North America</td>\n",
       "      <td>Northern Hemisphere</td>\n",
       "      <td>0</td>\n",
       "      <td>165</td>\n",
       "      <td>93</td>\n",
       "    </tr>\n",
       "    <tr>\n",
       "      <th>2</th>\n",
       "      <td>21</td>\n",
       "      <td>Female</td>\n",
       "      <td>324</td>\n",
       "      <td>72</td>\n",
       "      <td>1</td>\n",
       "      <td>0</td>\n",
       "      <td>0</td>\n",
       "      <td>0</td>\n",
       "      <td>0</td>\n",
       "      <td>2.08</td>\n",
       "      <td>Healthy</td>\n",
       "      <td>1</td>\n",
       "      <td>1</td>\n",
       "      <td>9</td>\n",
       "      <td>9.46</td>\n",
       "      <td>235282</td>\n",
       "      <td>28.18</td>\n",
       "      <td>587</td>\n",
       "      <td>4</td>\n",
       "      <td>4</td>\n",
       "      <td>France</td>\n",
       "      <td>Europe</td>\n",
       "      <td>Northern Hemisphere</td>\n",
       "      <td>0</td>\n",
       "      <td>174</td>\n",
       "      <td>99</td>\n",
       "    </tr>\n",
       "    <tr>\n",
       "      <th>3</th>\n",
       "      <td>84</td>\n",
       "      <td>Male</td>\n",
       "      <td>383</td>\n",
       "      <td>73</td>\n",
       "      <td>1</td>\n",
       "      <td>1</td>\n",
       "      <td>1</td>\n",
       "      <td>0</td>\n",
       "      <td>1</td>\n",
       "      <td>9.83</td>\n",
       "      <td>Average</td>\n",
       "      <td>1</td>\n",
       "      <td>0</td>\n",
       "      <td>9</td>\n",
       "      <td>7.65</td>\n",
       "      <td>125640</td>\n",
       "      <td>36.46</td>\n",
       "      <td>378</td>\n",
       "      <td>3</td>\n",
       "      <td>4</td>\n",
       "      <td>Canada</td>\n",
       "      <td>North America</td>\n",
       "      <td>Northern Hemisphere</td>\n",
       "      <td>0</td>\n",
       "      <td>163</td>\n",
       "      <td>100</td>\n",
       "    </tr>\n",
       "    <tr>\n",
       "      <th>4</th>\n",
       "      <td>66</td>\n",
       "      <td>Male</td>\n",
       "      <td>318</td>\n",
       "      <td>93</td>\n",
       "      <td>1</td>\n",
       "      <td>1</td>\n",
       "      <td>1</td>\n",
       "      <td>1</td>\n",
       "      <td>0</td>\n",
       "      <td>5.80</td>\n",
       "      <td>Unhealthy</td>\n",
       "      <td>1</td>\n",
       "      <td>0</td>\n",
       "      <td>6</td>\n",
       "      <td>1.51</td>\n",
       "      <td>160555</td>\n",
       "      <td>21.81</td>\n",
       "      <td>231</td>\n",
       "      <td>1</td>\n",
       "      <td>5</td>\n",
       "      <td>Thailand</td>\n",
       "      <td>Asia</td>\n",
       "      <td>Northern Hemisphere</td>\n",
       "      <td>0</td>\n",
       "      <td>91</td>\n",
       "      <td>88</td>\n",
       "    </tr>\n",
       "  </tbody>\n",
       "</table>\n",
       "</div>"
      ],
      "text/plain": [
       "   age     sex  cholesterol  heart_rate  diabetes  family_history  smoking  \\\n",
       "0   67    Male          208          72         0               0        1   \n",
       "1   21    Male          389          98         1               1        1   \n",
       "2   21  Female          324          72         1               0        0   \n",
       "3   84    Male          383          73         1               1        1   \n",
       "4   66    Male          318          93         1               1        1   \n",
       "\n",
       "   obesity  alcohol_consumption  exercise_hours_per_week       diet  \\\n",
       "0        0                    0                     4.17    Average   \n",
       "1        1                    1                     1.81  Unhealthy   \n",
       "2        0                    0                     2.08    Healthy   \n",
       "3        0                    1                     9.83    Average   \n",
       "4        1                    0                     5.80  Unhealthy   \n",
       "\n",
       "   previous_heart_problems  medication_use  stress_level  \\\n",
       "0                        0               0             9   \n",
       "1                        1               0             1   \n",
       "2                        1               1             9   \n",
       "3                        1               0             9   \n",
       "4                        1               0             6   \n",
       "\n",
       "   sedentary_hours_per_day  income    bmi  triglycerides  \\\n",
       "0                     6.62  261404  31.25            286   \n",
       "1                     4.96  285768  27.19            235   \n",
       "2                     9.46  235282  28.18            587   \n",
       "3                     7.65  125640  36.46            378   \n",
       "4                     1.51  160555  21.81            231   \n",
       "\n",
       "   physical_activity_days_per_week  sleep_hours_per_day    country  \\\n",
       "0                                0                    6  Argentina   \n",
       "1                                1                    7     Canada   \n",
       "2                                4                    4     France   \n",
       "3                                3                    4     Canada   \n",
       "4                                1                    5   Thailand   \n",
       "\n",
       "       continent           hemisphere  heart_attack_risk  systolic  diastolic  \n",
       "0  South America  Southern Hemisphere                  0       158         88  \n",
       "1  North America  Northern Hemisphere                  0       165         93  \n",
       "2         Europe  Northern Hemisphere                  0       174         99  \n",
       "3  North America  Northern Hemisphere                  0       163        100  \n",
       "4           Asia  Northern Hemisphere                  0        91         88  "
      ]
     },
     "execution_count": 177,
     "metadata": {},
     "output_type": "execute_result"
    }
   ],
   "source": [
    "# dropping the column `blood_pressure` and patient_id\n",
    "df.drop(['blood_pressure', 'patient_id'], axis=1, inplace=True)\n",
    "\n",
    "df.head()"
   ]
  },
  {
   "cell_type": "markdown",
   "metadata": {},
   "source": [
    "----\n",
    "\n",
    "- We have dropped the columns `blood_pressure` and `patient_id` from the dataset as they are not useful in our machine learning model.\n",
    "----"
   ]
  },
  {
   "cell_type": "markdown",
   "metadata": {},
   "source": [
    "### **dividing the dataset into training and testing sets**"
   ]
  },
  {
   "cell_type": "code",
   "execution_count": 178,
   "metadata": {},
   "outputs": [],
   "source": [
    "# dividing the dataset into features and target variable\n",
    "X= df.drop('heart_attack_risk', axis=1)\n",
    "y= df['heart_attack_risk']"
   ]
  },
  {
   "cell_type": "code",
   "execution_count": 179,
   "metadata": {},
   "outputs": [
    {
     "data": {
      "application/vnd.microsoft.datawrangler.viewer.v0+json": {
       "columns": [
        {
         "name": "index",
         "rawType": "int64",
         "type": "integer"
        },
        {
         "name": "age",
         "rawType": "int64",
         "type": "integer"
        },
        {
         "name": "sex",
         "rawType": "object",
         "type": "string"
        },
        {
         "name": "cholesterol",
         "rawType": "int64",
         "type": "integer"
        },
        {
         "name": "heart_rate",
         "rawType": "int64",
         "type": "integer"
        },
        {
         "name": "diabetes",
         "rawType": "int64",
         "type": "integer"
        },
        {
         "name": "family_history",
         "rawType": "int64",
         "type": "integer"
        },
        {
         "name": "smoking",
         "rawType": "int64",
         "type": "integer"
        },
        {
         "name": "obesity",
         "rawType": "int64",
         "type": "integer"
        },
        {
         "name": "alcohol_consumption",
         "rawType": "int64",
         "type": "integer"
        },
        {
         "name": "exercise_hours_per_week",
         "rawType": "float64",
         "type": "float"
        },
        {
         "name": "diet",
         "rawType": "object",
         "type": "string"
        },
        {
         "name": "previous_heart_problems",
         "rawType": "int64",
         "type": "integer"
        },
        {
         "name": "medication_use",
         "rawType": "int64",
         "type": "integer"
        },
        {
         "name": "stress_level",
         "rawType": "int64",
         "type": "integer"
        },
        {
         "name": "sedentary_hours_per_day",
         "rawType": "float64",
         "type": "float"
        },
        {
         "name": "income",
         "rawType": "int64",
         "type": "integer"
        },
        {
         "name": "bmi",
         "rawType": "float64",
         "type": "float"
        },
        {
         "name": "triglycerides",
         "rawType": "int64",
         "type": "integer"
        },
        {
         "name": "physical_activity_days_per_week",
         "rawType": "int64",
         "type": "integer"
        },
        {
         "name": "sleep_hours_per_day",
         "rawType": "int64",
         "type": "integer"
        },
        {
         "name": "country",
         "rawType": "object",
         "type": "string"
        },
        {
         "name": "continent",
         "rawType": "object",
         "type": "string"
        },
        {
         "name": "hemisphere",
         "rawType": "object",
         "type": "string"
        },
        {
         "name": "systolic",
         "rawType": "int64",
         "type": "integer"
        },
        {
         "name": "diastolic",
         "rawType": "Int64",
         "type": "integer"
        }
       ],
       "conversionMethod": "pd.DataFrame",
       "ref": "d73a3a0a-5c72-4a16-9f58-8e1697057fd4",
       "rows": [
        [
         "0",
         "67",
         "Male",
         "208",
         "72",
         "0",
         "0",
         "1",
         "0",
         "0",
         "4.17",
         "Average",
         "0",
         "0",
         "9",
         "6.62",
         "261404",
         "31.25",
         "286",
         "0",
         "6",
         "Argentina",
         "South America",
         "Southern Hemisphere",
         "158",
         "88"
        ],
        [
         "1",
         "21",
         "Male",
         "389",
         "98",
         "1",
         "1",
         "1",
         "1",
         "1",
         "1.81",
         "Unhealthy",
         "1",
         "0",
         "1",
         "4.96",
         "285768",
         "27.19",
         "235",
         "1",
         "7",
         "Canada",
         "North America",
         "Northern Hemisphere",
         "165",
         "93"
        ],
        [
         "2",
         "21",
         "Female",
         "324",
         "72",
         "1",
         "0",
         "0",
         "0",
         "0",
         "2.08",
         "Healthy",
         "1",
         "1",
         "9",
         "9.46",
         "235282",
         "28.18",
         "587",
         "4",
         "4",
         "France",
         "Europe",
         "Northern Hemisphere",
         "174",
         "99"
        ],
        [
         "3",
         "84",
         "Male",
         "383",
         "73",
         "1",
         "1",
         "1",
         "0",
         "1",
         "9.83",
         "Average",
         "1",
         "0",
         "9",
         "7.65",
         "125640",
         "36.46",
         "378",
         "3",
         "4",
         "Canada",
         "North America",
         "Northern Hemisphere",
         "163",
         "100"
        ],
        [
         "4",
         "66",
         "Male",
         "318",
         "93",
         "1",
         "1",
         "1",
         "1",
         "0",
         "5.8",
         "Unhealthy",
         "1",
         "0",
         "6",
         "1.51",
         "160555",
         "21.81",
         "231",
         "1",
         "5",
         "Thailand",
         "Asia",
         "Northern Hemisphere",
         "91",
         "88"
        ]
       ],
       "shape": {
        "columns": 25,
        "rows": 5
       }
      },
      "text/html": [
       "<div>\n",
       "<style scoped>\n",
       "    .dataframe tbody tr th:only-of-type {\n",
       "        vertical-align: middle;\n",
       "    }\n",
       "\n",
       "    .dataframe tbody tr th {\n",
       "        vertical-align: top;\n",
       "    }\n",
       "\n",
       "    .dataframe thead th {\n",
       "        text-align: right;\n",
       "    }\n",
       "</style>\n",
       "<table border=\"1\" class=\"dataframe\">\n",
       "  <thead>\n",
       "    <tr style=\"text-align: right;\">\n",
       "      <th></th>\n",
       "      <th>age</th>\n",
       "      <th>sex</th>\n",
       "      <th>cholesterol</th>\n",
       "      <th>heart_rate</th>\n",
       "      <th>diabetes</th>\n",
       "      <th>family_history</th>\n",
       "      <th>smoking</th>\n",
       "      <th>obesity</th>\n",
       "      <th>alcohol_consumption</th>\n",
       "      <th>exercise_hours_per_week</th>\n",
       "      <th>diet</th>\n",
       "      <th>previous_heart_problems</th>\n",
       "      <th>medication_use</th>\n",
       "      <th>stress_level</th>\n",
       "      <th>sedentary_hours_per_day</th>\n",
       "      <th>income</th>\n",
       "      <th>bmi</th>\n",
       "      <th>triglycerides</th>\n",
       "      <th>physical_activity_days_per_week</th>\n",
       "      <th>sleep_hours_per_day</th>\n",
       "      <th>country</th>\n",
       "      <th>continent</th>\n",
       "      <th>hemisphere</th>\n",
       "      <th>systolic</th>\n",
       "      <th>diastolic</th>\n",
       "    </tr>\n",
       "  </thead>\n",
       "  <tbody>\n",
       "    <tr>\n",
       "      <th>0</th>\n",
       "      <td>67</td>\n",
       "      <td>Male</td>\n",
       "      <td>208</td>\n",
       "      <td>72</td>\n",
       "      <td>0</td>\n",
       "      <td>0</td>\n",
       "      <td>1</td>\n",
       "      <td>0</td>\n",
       "      <td>0</td>\n",
       "      <td>4.17</td>\n",
       "      <td>Average</td>\n",
       "      <td>0</td>\n",
       "      <td>0</td>\n",
       "      <td>9</td>\n",
       "      <td>6.62</td>\n",
       "      <td>261404</td>\n",
       "      <td>31.25</td>\n",
       "      <td>286</td>\n",
       "      <td>0</td>\n",
       "      <td>6</td>\n",
       "      <td>Argentina</td>\n",
       "      <td>South America</td>\n",
       "      <td>Southern Hemisphere</td>\n",
       "      <td>158</td>\n",
       "      <td>88</td>\n",
       "    </tr>\n",
       "    <tr>\n",
       "      <th>1</th>\n",
       "      <td>21</td>\n",
       "      <td>Male</td>\n",
       "      <td>389</td>\n",
       "      <td>98</td>\n",
       "      <td>1</td>\n",
       "      <td>1</td>\n",
       "      <td>1</td>\n",
       "      <td>1</td>\n",
       "      <td>1</td>\n",
       "      <td>1.81</td>\n",
       "      <td>Unhealthy</td>\n",
       "      <td>1</td>\n",
       "      <td>0</td>\n",
       "      <td>1</td>\n",
       "      <td>4.96</td>\n",
       "      <td>285768</td>\n",
       "      <td>27.19</td>\n",
       "      <td>235</td>\n",
       "      <td>1</td>\n",
       "      <td>7</td>\n",
       "      <td>Canada</td>\n",
       "      <td>North America</td>\n",
       "      <td>Northern Hemisphere</td>\n",
       "      <td>165</td>\n",
       "      <td>93</td>\n",
       "    </tr>\n",
       "    <tr>\n",
       "      <th>2</th>\n",
       "      <td>21</td>\n",
       "      <td>Female</td>\n",
       "      <td>324</td>\n",
       "      <td>72</td>\n",
       "      <td>1</td>\n",
       "      <td>0</td>\n",
       "      <td>0</td>\n",
       "      <td>0</td>\n",
       "      <td>0</td>\n",
       "      <td>2.08</td>\n",
       "      <td>Healthy</td>\n",
       "      <td>1</td>\n",
       "      <td>1</td>\n",
       "      <td>9</td>\n",
       "      <td>9.46</td>\n",
       "      <td>235282</td>\n",
       "      <td>28.18</td>\n",
       "      <td>587</td>\n",
       "      <td>4</td>\n",
       "      <td>4</td>\n",
       "      <td>France</td>\n",
       "      <td>Europe</td>\n",
       "      <td>Northern Hemisphere</td>\n",
       "      <td>174</td>\n",
       "      <td>99</td>\n",
       "    </tr>\n",
       "    <tr>\n",
       "      <th>3</th>\n",
       "      <td>84</td>\n",
       "      <td>Male</td>\n",
       "      <td>383</td>\n",
       "      <td>73</td>\n",
       "      <td>1</td>\n",
       "      <td>1</td>\n",
       "      <td>1</td>\n",
       "      <td>0</td>\n",
       "      <td>1</td>\n",
       "      <td>9.83</td>\n",
       "      <td>Average</td>\n",
       "      <td>1</td>\n",
       "      <td>0</td>\n",
       "      <td>9</td>\n",
       "      <td>7.65</td>\n",
       "      <td>125640</td>\n",
       "      <td>36.46</td>\n",
       "      <td>378</td>\n",
       "      <td>3</td>\n",
       "      <td>4</td>\n",
       "      <td>Canada</td>\n",
       "      <td>North America</td>\n",
       "      <td>Northern Hemisphere</td>\n",
       "      <td>163</td>\n",
       "      <td>100</td>\n",
       "    </tr>\n",
       "    <tr>\n",
       "      <th>4</th>\n",
       "      <td>66</td>\n",
       "      <td>Male</td>\n",
       "      <td>318</td>\n",
       "      <td>93</td>\n",
       "      <td>1</td>\n",
       "      <td>1</td>\n",
       "      <td>1</td>\n",
       "      <td>1</td>\n",
       "      <td>0</td>\n",
       "      <td>5.80</td>\n",
       "      <td>Unhealthy</td>\n",
       "      <td>1</td>\n",
       "      <td>0</td>\n",
       "      <td>6</td>\n",
       "      <td>1.51</td>\n",
       "      <td>160555</td>\n",
       "      <td>21.81</td>\n",
       "      <td>231</td>\n",
       "      <td>1</td>\n",
       "      <td>5</td>\n",
       "      <td>Thailand</td>\n",
       "      <td>Asia</td>\n",
       "      <td>Northern Hemisphere</td>\n",
       "      <td>91</td>\n",
       "      <td>88</td>\n",
       "    </tr>\n",
       "  </tbody>\n",
       "</table>\n",
       "</div>"
      ],
      "text/plain": [
       "   age     sex  cholesterol  heart_rate  diabetes  family_history  smoking  \\\n",
       "0   67    Male          208          72         0               0        1   \n",
       "1   21    Male          389          98         1               1        1   \n",
       "2   21  Female          324          72         1               0        0   \n",
       "3   84    Male          383          73         1               1        1   \n",
       "4   66    Male          318          93         1               1        1   \n",
       "\n",
       "   obesity  alcohol_consumption  exercise_hours_per_week       diet  \\\n",
       "0        0                    0                     4.17    Average   \n",
       "1        1                    1                     1.81  Unhealthy   \n",
       "2        0                    0                     2.08    Healthy   \n",
       "3        0                    1                     9.83    Average   \n",
       "4        1                    0                     5.80  Unhealthy   \n",
       "\n",
       "   previous_heart_problems  medication_use  stress_level  \\\n",
       "0                        0               0             9   \n",
       "1                        1               0             1   \n",
       "2                        1               1             9   \n",
       "3                        1               0             9   \n",
       "4                        1               0             6   \n",
       "\n",
       "   sedentary_hours_per_day  income    bmi  triglycerides  \\\n",
       "0                     6.62  261404  31.25            286   \n",
       "1                     4.96  285768  27.19            235   \n",
       "2                     9.46  235282  28.18            587   \n",
       "3                     7.65  125640  36.46            378   \n",
       "4                     1.51  160555  21.81            231   \n",
       "\n",
       "   physical_activity_days_per_week  sleep_hours_per_day    country  \\\n",
       "0                                0                    6  Argentina   \n",
       "1                                1                    7     Canada   \n",
       "2                                4                    4     France   \n",
       "3                                3                    4     Canada   \n",
       "4                                1                    5   Thailand   \n",
       "\n",
       "       continent           hemisphere  systolic  diastolic  \n",
       "0  South America  Southern Hemisphere       158         88  \n",
       "1  North America  Northern Hemisphere       165         93  \n",
       "2         Europe  Northern Hemisphere       174         99  \n",
       "3  North America  Northern Hemisphere       163        100  \n",
       "4           Asia  Northern Hemisphere        91         88  "
      ]
     },
     "execution_count": 179,
     "metadata": {},
     "output_type": "execute_result"
    }
   ],
   "source": [
    "# previewing the features\n",
    "X.head()"
   ]
  },
  {
   "cell_type": "markdown",
   "metadata": {},
   "source": [
    "----\n",
    "\n",
    "### **checking the variance inflation factor of the features**\n",
    "\n",
    "----"
   ]
  },
  {
   "cell_type": "code",
   "execution_count": 180,
   "metadata": {},
   "outputs": [
    {
     "data": {
      "application/vnd.microsoft.datawrangler.viewer.v0+json": {
       "columns": [
        {
         "name": "index",
         "rawType": "int64",
         "type": "integer"
        },
        {
         "name": "Features",
         "rawType": "object",
         "type": "string"
        },
        {
         "name": "VIF",
         "rawType": "float64",
         "type": "float"
        }
       ],
       "conversionMethod": "pd.DataFrame",
       "ref": "3ff395a0-e232-4eac-a561-e0266894857c",
       "rows": [
        [
         "0",
         "age",
         "8.64"
        ],
        [
         "1",
         "cholesterol",
         "10.65"
        ],
        [
         "2",
         "heart_rate",
         "13.1"
        ],
        [
         "3",
         "diabetes",
         "2.84"
        ],
        [
         "4",
         "family_history",
         "1.96"
        ],
        [
         "5",
         "smoking",
         "11.16"
        ],
        [
         "6",
         "obesity",
         "1.99"
        ],
        [
         "7",
         "alcohol_consumption",
         "2.47"
        ],
        [
         "8",
         "exercise_hours_per_week",
         "3.93"
        ],
        [
         "9",
         "previous_heart_problems",
         "1.97"
        ],
        [
         "10",
         "medication_use",
         "1.98"
        ],
        [
         "11",
         "stress_level",
         "4.55"
        ],
        [
         "12",
         "sedentary_hours_per_day",
         "3.93"
        ],
        [
         "13",
         "income",
         "4.75"
        ],
        [
         "14",
         "bmi",
         "19.12"
        ],
        [
         "15",
         "triglycerides",
         "4.39"
        ],
        [
         "16",
         "physical_activity_days_per_week",
         "3.3"
        ],
        [
         "17",
         "sleep_hours_per_day",
         "12.34"
        ],
        [
         "18",
         "systolic",
         "22.91"
        ],
        [
         "19",
         "diastolic",
         "27.24"
        ]
       ],
       "shape": {
        "columns": 2,
        "rows": 20
       }
      },
      "text/html": [
       "<div>\n",
       "<style scoped>\n",
       "    .dataframe tbody tr th:only-of-type {\n",
       "        vertical-align: middle;\n",
       "    }\n",
       "\n",
       "    .dataframe tbody tr th {\n",
       "        vertical-align: top;\n",
       "    }\n",
       "\n",
       "    .dataframe thead th {\n",
       "        text-align: right;\n",
       "    }\n",
       "</style>\n",
       "<table border=\"1\" class=\"dataframe\">\n",
       "  <thead>\n",
       "    <tr style=\"text-align: right;\">\n",
       "      <th></th>\n",
       "      <th>Features</th>\n",
       "      <th>VIF</th>\n",
       "    </tr>\n",
       "  </thead>\n",
       "  <tbody>\n",
       "    <tr>\n",
       "      <th>0</th>\n",
       "      <td>age</td>\n",
       "      <td>8.64</td>\n",
       "    </tr>\n",
       "    <tr>\n",
       "      <th>1</th>\n",
       "      <td>cholesterol</td>\n",
       "      <td>10.65</td>\n",
       "    </tr>\n",
       "    <tr>\n",
       "      <th>2</th>\n",
       "      <td>heart_rate</td>\n",
       "      <td>13.10</td>\n",
       "    </tr>\n",
       "    <tr>\n",
       "      <th>3</th>\n",
       "      <td>diabetes</td>\n",
       "      <td>2.84</td>\n",
       "    </tr>\n",
       "    <tr>\n",
       "      <th>4</th>\n",
       "      <td>family_history</td>\n",
       "      <td>1.96</td>\n",
       "    </tr>\n",
       "    <tr>\n",
       "      <th>5</th>\n",
       "      <td>smoking</td>\n",
       "      <td>11.16</td>\n",
       "    </tr>\n",
       "    <tr>\n",
       "      <th>6</th>\n",
       "      <td>obesity</td>\n",
       "      <td>1.99</td>\n",
       "    </tr>\n",
       "    <tr>\n",
       "      <th>7</th>\n",
       "      <td>alcohol_consumption</td>\n",
       "      <td>2.47</td>\n",
       "    </tr>\n",
       "    <tr>\n",
       "      <th>8</th>\n",
       "      <td>exercise_hours_per_week</td>\n",
       "      <td>3.93</td>\n",
       "    </tr>\n",
       "    <tr>\n",
       "      <th>9</th>\n",
       "      <td>previous_heart_problems</td>\n",
       "      <td>1.97</td>\n",
       "    </tr>\n",
       "    <tr>\n",
       "      <th>10</th>\n",
       "      <td>medication_use</td>\n",
       "      <td>1.98</td>\n",
       "    </tr>\n",
       "    <tr>\n",
       "      <th>11</th>\n",
       "      <td>stress_level</td>\n",
       "      <td>4.55</td>\n",
       "    </tr>\n",
       "    <tr>\n",
       "      <th>12</th>\n",
       "      <td>sedentary_hours_per_day</td>\n",
       "      <td>3.93</td>\n",
       "    </tr>\n",
       "    <tr>\n",
       "      <th>13</th>\n",
       "      <td>income</td>\n",
       "      <td>4.75</td>\n",
       "    </tr>\n",
       "    <tr>\n",
       "      <th>14</th>\n",
       "      <td>bmi</td>\n",
       "      <td>19.12</td>\n",
       "    </tr>\n",
       "    <tr>\n",
       "      <th>15</th>\n",
       "      <td>triglycerides</td>\n",
       "      <td>4.39</td>\n",
       "    </tr>\n",
       "    <tr>\n",
       "      <th>16</th>\n",
       "      <td>physical_activity_days_per_week</td>\n",
       "      <td>3.30</td>\n",
       "    </tr>\n",
       "    <tr>\n",
       "      <th>17</th>\n",
       "      <td>sleep_hours_per_day</td>\n",
       "      <td>12.34</td>\n",
       "    </tr>\n",
       "    <tr>\n",
       "      <th>18</th>\n",
       "      <td>systolic</td>\n",
       "      <td>22.91</td>\n",
       "    </tr>\n",
       "    <tr>\n",
       "      <th>19</th>\n",
       "      <td>diastolic</td>\n",
       "      <td>27.24</td>\n",
       "    </tr>\n",
       "  </tbody>\n",
       "</table>\n",
       "</div>"
      ],
      "text/plain": [
       "                           Features    VIF\n",
       "0                               age   8.64\n",
       "1                       cholesterol  10.65\n",
       "2                        heart_rate  13.10\n",
       "3                          diabetes   2.84\n",
       "4                    family_history   1.96\n",
       "5                           smoking  11.16\n",
       "6                           obesity   1.99\n",
       "7               alcohol_consumption   2.47\n",
       "8           exercise_hours_per_week   3.93\n",
       "9           previous_heart_problems   1.97\n",
       "10                   medication_use   1.98\n",
       "11                     stress_level   4.55\n",
       "12          sedentary_hours_per_day   3.93\n",
       "13                           income   4.75\n",
       "14                              bmi  19.12\n",
       "15                    triglycerides   4.39\n",
       "16  physical_activity_days_per_week   3.30\n",
       "17              sleep_hours_per_day  12.34\n",
       "18                         systolic  22.91\n",
       "19                        diastolic  27.24"
      ]
     },
     "execution_count": 180,
     "metadata": {},
     "output_type": "execute_result"
    }
   ],
   "source": [
    "# checking the variance inflation factor of the features\n",
    "\n",
    "\n",
    "# Ensure all columns in X are numeric and convert non-standard numeric types to float\n",
    "X_numeric = X.select_dtypes(include=[np.number]).astype(float)\n",
    "\n",
    "# Create a dataframe to store the VIF of each feature\n",
    "vif = pd.DataFrame()\n",
    "# Add a column of feature names\n",
    "vif['Features'] = X_numeric.columns\n",
    "# Add the VIF of each feature\n",
    "vif['VIF'] = [variance_inflation_factor(X_numeric.values, i) for i in range(X_numeric.shape[1])]\n",
    "# Round the VIF to 2 decimal places\n",
    "vif['VIF'] = round(vif['VIF'], 2)\n",
    "vif"
   ]
  },
  {
   "cell_type": "markdown",
   "metadata": {},
   "source": [
    "**Interpretation:**\n",
    "\n",
    "- **High Multicollinearity Detected:**\n",
    "\n",
    "  - heart_rate (13.1), smoking (11.16), and cholesterol (10.65) have VIF > 10, indicating severe multicollinearity.\n",
    "These features are strongly correlated with other predictors.\n",
    "\n",
    "- **Moderate Multicollinearity:**\n",
    "\n",
    "  - age (8.64), diabetes (2.84), and alcohol_consumption (2.47) have VIF values between 2-10, suggesting moderate correlation.\n",
    "While not as severe, some of these features might still contribute to redundancy.\n",
    "\n",
    "- **Low Multicollinearity (Acceptable Range):**\n",
    "\n",
    "- sex (1.99), family_history (1.96), obesity (1.99), exercise_hours_per_week (3.93), and previous_heart_problems (1.97) have VIF < 5, indicating low multicollinearity.\n",
    "These features do not pose a serious issue in the model.\n"
   ]
  },
  {
   "cell_type": "markdown",
   "metadata": {},
   "source": [
    "### Min Max Scalar:"
   ]
  },
  {
   "cell_type": "code",
   "execution_count": 181,
   "metadata": {},
   "outputs": [],
   "source": [
    "# performing scaling the data using standard scaler\n",
    "\n",
    "from sklearn.preprocessing import MinMaxScaler\n",
    "\n",
    "# instantiating the standard scaler\n",
    "\n",
    "scaler = MinMaxScaler()\n",
    "\n",
    "# scaling the numerical columns\n",
    "X[['age', 'cholesterol', 'heart_rate', 'exercise_hours_per_week', 'sedentary_hours_per_day', 'income', 'bmi', 'triglycerides']] = scaler.fit_transform(\n",
    "\tX[['age', 'cholesterol', 'heart_rate', 'exercise_hours_per_week', 'sedentary_hours_per_day', 'income', 'bmi', 'triglycerides']]\n",
    ")"
   ]
  },
  {
   "cell_type": "markdown",
   "metadata": {},
   "source": [
    "### **Performing Hot Encoding on Categorical Column**"
   ]
  },
  {
   "cell_type": "code",
   "execution_count": 182,
   "metadata": {},
   "outputs": [],
   "source": [
    "# performing one hot encoding on the dataset\n",
    "\n",
    "X = pd.get_dummies(X, columns=['sex', 'diet', 'country', 'continent', 'hemisphere'], drop_first=True)\n"
   ]
  },
  {
   "cell_type": "code",
   "execution_count": 183,
   "metadata": {},
   "outputs": [
    {
     "data": {
      "application/vnd.microsoft.datawrangler.viewer.v0+json": {
       "columns": [
        {
         "name": "index",
         "rawType": "int64",
         "type": "integer"
        },
        {
         "name": "age",
         "rawType": "float64",
         "type": "float"
        },
        {
         "name": "cholesterol",
         "rawType": "float64",
         "type": "float"
        },
        {
         "name": "heart_rate",
         "rawType": "float64",
         "type": "float"
        },
        {
         "name": "diabetes",
         "rawType": "int64",
         "type": "integer"
        },
        {
         "name": "family_history",
         "rawType": "int64",
         "type": "integer"
        },
        {
         "name": "smoking",
         "rawType": "int64",
         "type": "integer"
        },
        {
         "name": "obesity",
         "rawType": "int64",
         "type": "integer"
        },
        {
         "name": "alcohol_consumption",
         "rawType": "int64",
         "type": "integer"
        },
        {
         "name": "exercise_hours_per_week",
         "rawType": "float64",
         "type": "float"
        },
        {
         "name": "previous_heart_problems",
         "rawType": "int64",
         "type": "integer"
        },
        {
         "name": "medication_use",
         "rawType": "int64",
         "type": "integer"
        },
        {
         "name": "stress_level",
         "rawType": "int64",
         "type": "integer"
        },
        {
         "name": "sedentary_hours_per_day",
         "rawType": "float64",
         "type": "float"
        },
        {
         "name": "income",
         "rawType": "float64",
         "type": "float"
        },
        {
         "name": "bmi",
         "rawType": "float64",
         "type": "float"
        },
        {
         "name": "triglycerides",
         "rawType": "float64",
         "type": "float"
        },
        {
         "name": "physical_activity_days_per_week",
         "rawType": "int64",
         "type": "integer"
        },
        {
         "name": "sleep_hours_per_day",
         "rawType": "int64",
         "type": "integer"
        },
        {
         "name": "systolic",
         "rawType": "int64",
         "type": "integer"
        },
        {
         "name": "diastolic",
         "rawType": "Int64",
         "type": "integer"
        },
        {
         "name": "sex_Male",
         "rawType": "bool",
         "type": "boolean"
        },
        {
         "name": "diet_Healthy",
         "rawType": "bool",
         "type": "boolean"
        },
        {
         "name": "diet_Unhealthy",
         "rawType": "bool",
         "type": "boolean"
        },
        {
         "name": "country_Australia",
         "rawType": "bool",
         "type": "boolean"
        },
        {
         "name": "country_Brazil",
         "rawType": "bool",
         "type": "boolean"
        },
        {
         "name": "country_Canada",
         "rawType": "bool",
         "type": "boolean"
        },
        {
         "name": "country_China",
         "rawType": "bool",
         "type": "boolean"
        },
        {
         "name": "country_Colombia",
         "rawType": "bool",
         "type": "boolean"
        },
        {
         "name": "country_France",
         "rawType": "bool",
         "type": "boolean"
        },
        {
         "name": "country_Germany",
         "rawType": "bool",
         "type": "boolean"
        },
        {
         "name": "country_India",
         "rawType": "bool",
         "type": "boolean"
        },
        {
         "name": "country_Italy",
         "rawType": "bool",
         "type": "boolean"
        },
        {
         "name": "country_Japan",
         "rawType": "bool",
         "type": "boolean"
        },
        {
         "name": "country_New Zealand",
         "rawType": "bool",
         "type": "boolean"
        },
        {
         "name": "country_Nigeria",
         "rawType": "bool",
         "type": "boolean"
        },
        {
         "name": "country_South Africa",
         "rawType": "bool",
         "type": "boolean"
        },
        {
         "name": "country_South Korea",
         "rawType": "bool",
         "type": "boolean"
        },
        {
         "name": "country_Spain",
         "rawType": "bool",
         "type": "boolean"
        },
        {
         "name": "country_Thailand",
         "rawType": "bool",
         "type": "boolean"
        },
        {
         "name": "country_United Kingdom",
         "rawType": "bool",
         "type": "boolean"
        },
        {
         "name": "country_United States",
         "rawType": "bool",
         "type": "boolean"
        },
        {
         "name": "country_Vietnam",
         "rawType": "bool",
         "type": "boolean"
        },
        {
         "name": "continent_Asia",
         "rawType": "bool",
         "type": "boolean"
        },
        {
         "name": "continent_Australia",
         "rawType": "bool",
         "type": "boolean"
        },
        {
         "name": "continent_Europe",
         "rawType": "bool",
         "type": "boolean"
        },
        {
         "name": "continent_North America",
         "rawType": "bool",
         "type": "boolean"
        },
        {
         "name": "continent_South America",
         "rawType": "bool",
         "type": "boolean"
        },
        {
         "name": "hemisphere_Southern Hemisphere",
         "rawType": "bool",
         "type": "boolean"
        }
       ],
       "conversionMethod": "pd.DataFrame",
       "ref": "2bdc7cdc-099a-4179-8396-1235ded26020",
       "rows": [
        [
         "0",
         "0.6805555555555555",
         "0.31428571428571433",
         "0.4571428571428571",
         "0",
         "0",
         "1",
         "0",
         "0",
         "0.20850000000000002",
         "0",
         "0",
         "9",
         "0.5516666666666666",
         "0.8622683034884884",
         "0.6022727272727272",
         "0.33246753246753247",
         "0",
         "6",
         "158",
         "88",
         "True",
         "False",
         "False",
         "False",
         "False",
         "False",
         "False",
         "False",
         "False",
         "False",
         "False",
         "False",
         "False",
         "False",
         "False",
         "False",
         "False",
         "False",
         "False",
         "False",
         "False",
         "False",
         "False",
         "False",
         "False",
         "False",
         "True",
         "True"
        ],
        [
         "1",
         "0.04166666666666663",
         "0.9607142857142856",
         "0.8285714285714285",
         "1",
         "1",
         "1",
         "1",
         "1",
         "0.09050000000000001",
         "1",
         "0",
         "1",
         "0.41333333333333333",
         "0.9493161648064253",
         "0.41772727272727284",
         "0.2662337662337662",
         "1",
         "7",
         "165",
         "93",
         "True",
         "False",
         "True",
         "False",
         "False",
         "True",
         "False",
         "False",
         "False",
         "False",
         "False",
         "False",
         "False",
         "False",
         "False",
         "False",
         "False",
         "False",
         "False",
         "False",
         "False",
         "False",
         "False",
         "False",
         "False",
         "True",
         "False",
         "False"
        ],
        [
         "2",
         "0.04166666666666663",
         "0.7285714285714284",
         "0.4571428571428571",
         "1",
         "0",
         "0",
         "0",
         "0",
         "0.10400000000000001",
         "1",
         "1",
         "9",
         "0.7883333333333333",
         "0.7689394480728281",
         "0.46272727272727276",
         "0.7233766233766233",
         "4",
         "4",
         "174",
         "99",
         "False",
         "True",
         "False",
         "False",
         "False",
         "False",
         "False",
         "False",
         "True",
         "False",
         "False",
         "False",
         "False",
         "False",
         "False",
         "False",
         "False",
         "False",
         "False",
         "False",
         "False",
         "False",
         "False",
         "False",
         "True",
         "False",
         "False",
         "False"
        ],
        [
         "3",
         "0.9166666666666665",
         "0.9392857142857143",
         "0.47142857142857153",
         "1",
         "1",
         "1",
         "0",
         "1",
         "0.49150000000000005",
         "1",
         "0",
         "9",
         "0.6375",
         "0.37720978091549595",
         "0.8390909090909092",
         "0.45194805194805193",
         "3",
         "4",
         "163",
         "100",
         "True",
         "False",
         "False",
         "False",
         "False",
         "True",
         "False",
         "False",
         "False",
         "False",
         "False",
         "False",
         "False",
         "False",
         "False",
         "False",
         "False",
         "False",
         "False",
         "False",
         "False",
         "False",
         "False",
         "False",
         "False",
         "True",
         "False",
         "False"
        ],
        [
         "4",
         "0.6666666666666666",
         "0.7071428571428571",
         "0.7571428571428571",
         "1",
         "1",
         "1",
         "1",
         "0",
         "0.29",
         "1",
         "0",
         "6",
         "0.12583333333333332",
         "0.5019543252397353",
         "0.1731818181818181",
         "0.261038961038961",
         "1",
         "5",
         "91",
         "88",
         "True",
         "False",
         "True",
         "False",
         "False",
         "False",
         "False",
         "False",
         "False",
         "False",
         "False",
         "False",
         "False",
         "False",
         "False",
         "False",
         "False",
         "False",
         "True",
         "False",
         "False",
         "False",
         "True",
         "False",
         "False",
         "False",
         "False",
         "False"
        ]
       ],
       "shape": {
        "columns": 48,
        "rows": 5
       }
      },
      "text/html": [
       "<div>\n",
       "<style scoped>\n",
       "    .dataframe tbody tr th:only-of-type {\n",
       "        vertical-align: middle;\n",
       "    }\n",
       "\n",
       "    .dataframe tbody tr th {\n",
       "        vertical-align: top;\n",
       "    }\n",
       "\n",
       "    .dataframe thead th {\n",
       "        text-align: right;\n",
       "    }\n",
       "</style>\n",
       "<table border=\"1\" class=\"dataframe\">\n",
       "  <thead>\n",
       "    <tr style=\"text-align: right;\">\n",
       "      <th></th>\n",
       "      <th>age</th>\n",
       "      <th>cholesterol</th>\n",
       "      <th>heart_rate</th>\n",
       "      <th>diabetes</th>\n",
       "      <th>family_history</th>\n",
       "      <th>smoking</th>\n",
       "      <th>obesity</th>\n",
       "      <th>alcohol_consumption</th>\n",
       "      <th>exercise_hours_per_week</th>\n",
       "      <th>previous_heart_problems</th>\n",
       "      <th>medication_use</th>\n",
       "      <th>stress_level</th>\n",
       "      <th>sedentary_hours_per_day</th>\n",
       "      <th>income</th>\n",
       "      <th>bmi</th>\n",
       "      <th>triglycerides</th>\n",
       "      <th>physical_activity_days_per_week</th>\n",
       "      <th>sleep_hours_per_day</th>\n",
       "      <th>systolic</th>\n",
       "      <th>diastolic</th>\n",
       "      <th>sex_Male</th>\n",
       "      <th>diet_Healthy</th>\n",
       "      <th>diet_Unhealthy</th>\n",
       "      <th>country_Australia</th>\n",
       "      <th>country_Brazil</th>\n",
       "      <th>country_Canada</th>\n",
       "      <th>country_China</th>\n",
       "      <th>country_Colombia</th>\n",
       "      <th>country_France</th>\n",
       "      <th>country_Germany</th>\n",
       "      <th>country_India</th>\n",
       "      <th>country_Italy</th>\n",
       "      <th>country_Japan</th>\n",
       "      <th>country_New Zealand</th>\n",
       "      <th>country_Nigeria</th>\n",
       "      <th>country_South Africa</th>\n",
       "      <th>country_South Korea</th>\n",
       "      <th>country_Spain</th>\n",
       "      <th>country_Thailand</th>\n",
       "      <th>country_United Kingdom</th>\n",
       "      <th>country_United States</th>\n",
       "      <th>country_Vietnam</th>\n",
       "      <th>continent_Asia</th>\n",
       "      <th>continent_Australia</th>\n",
       "      <th>continent_Europe</th>\n",
       "      <th>continent_North America</th>\n",
       "      <th>continent_South America</th>\n",
       "      <th>hemisphere_Southern Hemisphere</th>\n",
       "    </tr>\n",
       "  </thead>\n",
       "  <tbody>\n",
       "    <tr>\n",
       "      <th>0</th>\n",
       "      <td>0.680556</td>\n",
       "      <td>0.314286</td>\n",
       "      <td>0.457143</td>\n",
       "      <td>0</td>\n",
       "      <td>0</td>\n",
       "      <td>1</td>\n",
       "      <td>0</td>\n",
       "      <td>0</td>\n",
       "      <td>0.2085</td>\n",
       "      <td>0</td>\n",
       "      <td>0</td>\n",
       "      <td>9</td>\n",
       "      <td>0.551667</td>\n",
       "      <td>0.862268</td>\n",
       "      <td>0.602273</td>\n",
       "      <td>0.332468</td>\n",
       "      <td>0</td>\n",
       "      <td>6</td>\n",
       "      <td>158</td>\n",
       "      <td>88</td>\n",
       "      <td>True</td>\n",
       "      <td>False</td>\n",
       "      <td>False</td>\n",
       "      <td>False</td>\n",
       "      <td>False</td>\n",
       "      <td>False</td>\n",
       "      <td>False</td>\n",
       "      <td>False</td>\n",
       "      <td>False</td>\n",
       "      <td>False</td>\n",
       "      <td>False</td>\n",
       "      <td>False</td>\n",
       "      <td>False</td>\n",
       "      <td>False</td>\n",
       "      <td>False</td>\n",
       "      <td>False</td>\n",
       "      <td>False</td>\n",
       "      <td>False</td>\n",
       "      <td>False</td>\n",
       "      <td>False</td>\n",
       "      <td>False</td>\n",
       "      <td>False</td>\n",
       "      <td>False</td>\n",
       "      <td>False</td>\n",
       "      <td>False</td>\n",
       "      <td>False</td>\n",
       "      <td>True</td>\n",
       "      <td>True</td>\n",
       "    </tr>\n",
       "    <tr>\n",
       "      <th>1</th>\n",
       "      <td>0.041667</td>\n",
       "      <td>0.960714</td>\n",
       "      <td>0.828571</td>\n",
       "      <td>1</td>\n",
       "      <td>1</td>\n",
       "      <td>1</td>\n",
       "      <td>1</td>\n",
       "      <td>1</td>\n",
       "      <td>0.0905</td>\n",
       "      <td>1</td>\n",
       "      <td>0</td>\n",
       "      <td>1</td>\n",
       "      <td>0.413333</td>\n",
       "      <td>0.949316</td>\n",
       "      <td>0.417727</td>\n",
       "      <td>0.266234</td>\n",
       "      <td>1</td>\n",
       "      <td>7</td>\n",
       "      <td>165</td>\n",
       "      <td>93</td>\n",
       "      <td>True</td>\n",
       "      <td>False</td>\n",
       "      <td>True</td>\n",
       "      <td>False</td>\n",
       "      <td>False</td>\n",
       "      <td>True</td>\n",
       "      <td>False</td>\n",
       "      <td>False</td>\n",
       "      <td>False</td>\n",
       "      <td>False</td>\n",
       "      <td>False</td>\n",
       "      <td>False</td>\n",
       "      <td>False</td>\n",
       "      <td>False</td>\n",
       "      <td>False</td>\n",
       "      <td>False</td>\n",
       "      <td>False</td>\n",
       "      <td>False</td>\n",
       "      <td>False</td>\n",
       "      <td>False</td>\n",
       "      <td>False</td>\n",
       "      <td>False</td>\n",
       "      <td>False</td>\n",
       "      <td>False</td>\n",
       "      <td>False</td>\n",
       "      <td>True</td>\n",
       "      <td>False</td>\n",
       "      <td>False</td>\n",
       "    </tr>\n",
       "    <tr>\n",
       "      <th>2</th>\n",
       "      <td>0.041667</td>\n",
       "      <td>0.728571</td>\n",
       "      <td>0.457143</td>\n",
       "      <td>1</td>\n",
       "      <td>0</td>\n",
       "      <td>0</td>\n",
       "      <td>0</td>\n",
       "      <td>0</td>\n",
       "      <td>0.1040</td>\n",
       "      <td>1</td>\n",
       "      <td>1</td>\n",
       "      <td>9</td>\n",
       "      <td>0.788333</td>\n",
       "      <td>0.768939</td>\n",
       "      <td>0.462727</td>\n",
       "      <td>0.723377</td>\n",
       "      <td>4</td>\n",
       "      <td>4</td>\n",
       "      <td>174</td>\n",
       "      <td>99</td>\n",
       "      <td>False</td>\n",
       "      <td>True</td>\n",
       "      <td>False</td>\n",
       "      <td>False</td>\n",
       "      <td>False</td>\n",
       "      <td>False</td>\n",
       "      <td>False</td>\n",
       "      <td>False</td>\n",
       "      <td>True</td>\n",
       "      <td>False</td>\n",
       "      <td>False</td>\n",
       "      <td>False</td>\n",
       "      <td>False</td>\n",
       "      <td>False</td>\n",
       "      <td>False</td>\n",
       "      <td>False</td>\n",
       "      <td>False</td>\n",
       "      <td>False</td>\n",
       "      <td>False</td>\n",
       "      <td>False</td>\n",
       "      <td>False</td>\n",
       "      <td>False</td>\n",
       "      <td>False</td>\n",
       "      <td>False</td>\n",
       "      <td>True</td>\n",
       "      <td>False</td>\n",
       "      <td>False</td>\n",
       "      <td>False</td>\n",
       "    </tr>\n",
       "    <tr>\n",
       "      <th>3</th>\n",
       "      <td>0.916667</td>\n",
       "      <td>0.939286</td>\n",
       "      <td>0.471429</td>\n",
       "      <td>1</td>\n",
       "      <td>1</td>\n",
       "      <td>1</td>\n",
       "      <td>0</td>\n",
       "      <td>1</td>\n",
       "      <td>0.4915</td>\n",
       "      <td>1</td>\n",
       "      <td>0</td>\n",
       "      <td>9</td>\n",
       "      <td>0.637500</td>\n",
       "      <td>0.377210</td>\n",
       "      <td>0.839091</td>\n",
       "      <td>0.451948</td>\n",
       "      <td>3</td>\n",
       "      <td>4</td>\n",
       "      <td>163</td>\n",
       "      <td>100</td>\n",
       "      <td>True</td>\n",
       "      <td>False</td>\n",
       "      <td>False</td>\n",
       "      <td>False</td>\n",
       "      <td>False</td>\n",
       "      <td>True</td>\n",
       "      <td>False</td>\n",
       "      <td>False</td>\n",
       "      <td>False</td>\n",
       "      <td>False</td>\n",
       "      <td>False</td>\n",
       "      <td>False</td>\n",
       "      <td>False</td>\n",
       "      <td>False</td>\n",
       "      <td>False</td>\n",
       "      <td>False</td>\n",
       "      <td>False</td>\n",
       "      <td>False</td>\n",
       "      <td>False</td>\n",
       "      <td>False</td>\n",
       "      <td>False</td>\n",
       "      <td>False</td>\n",
       "      <td>False</td>\n",
       "      <td>False</td>\n",
       "      <td>False</td>\n",
       "      <td>True</td>\n",
       "      <td>False</td>\n",
       "      <td>False</td>\n",
       "    </tr>\n",
       "    <tr>\n",
       "      <th>4</th>\n",
       "      <td>0.666667</td>\n",
       "      <td>0.707143</td>\n",
       "      <td>0.757143</td>\n",
       "      <td>1</td>\n",
       "      <td>1</td>\n",
       "      <td>1</td>\n",
       "      <td>1</td>\n",
       "      <td>0</td>\n",
       "      <td>0.2900</td>\n",
       "      <td>1</td>\n",
       "      <td>0</td>\n",
       "      <td>6</td>\n",
       "      <td>0.125833</td>\n",
       "      <td>0.501954</td>\n",
       "      <td>0.173182</td>\n",
       "      <td>0.261039</td>\n",
       "      <td>1</td>\n",
       "      <td>5</td>\n",
       "      <td>91</td>\n",
       "      <td>88</td>\n",
       "      <td>True</td>\n",
       "      <td>False</td>\n",
       "      <td>True</td>\n",
       "      <td>False</td>\n",
       "      <td>False</td>\n",
       "      <td>False</td>\n",
       "      <td>False</td>\n",
       "      <td>False</td>\n",
       "      <td>False</td>\n",
       "      <td>False</td>\n",
       "      <td>False</td>\n",
       "      <td>False</td>\n",
       "      <td>False</td>\n",
       "      <td>False</td>\n",
       "      <td>False</td>\n",
       "      <td>False</td>\n",
       "      <td>False</td>\n",
       "      <td>False</td>\n",
       "      <td>True</td>\n",
       "      <td>False</td>\n",
       "      <td>False</td>\n",
       "      <td>False</td>\n",
       "      <td>True</td>\n",
       "      <td>False</td>\n",
       "      <td>False</td>\n",
       "      <td>False</td>\n",
       "      <td>False</td>\n",
       "      <td>False</td>\n",
       "    </tr>\n",
       "  </tbody>\n",
       "</table>\n",
       "</div>"
      ],
      "text/plain": [
       "        age  cholesterol  heart_rate  diabetes  family_history  smoking  \\\n",
       "0  0.680556     0.314286    0.457143         0               0        1   \n",
       "1  0.041667     0.960714    0.828571         1               1        1   \n",
       "2  0.041667     0.728571    0.457143         1               0        0   \n",
       "3  0.916667     0.939286    0.471429         1               1        1   \n",
       "4  0.666667     0.707143    0.757143         1               1        1   \n",
       "\n",
       "   obesity  alcohol_consumption  exercise_hours_per_week  \\\n",
       "0        0                    0                   0.2085   \n",
       "1        1                    1                   0.0905   \n",
       "2        0                    0                   0.1040   \n",
       "3        0                    1                   0.4915   \n",
       "4        1                    0                   0.2900   \n",
       "\n",
       "   previous_heart_problems  medication_use  stress_level  \\\n",
       "0                        0               0             9   \n",
       "1                        1               0             1   \n",
       "2                        1               1             9   \n",
       "3                        1               0             9   \n",
       "4                        1               0             6   \n",
       "\n",
       "   sedentary_hours_per_day    income       bmi  triglycerides  \\\n",
       "0                 0.551667  0.862268  0.602273       0.332468   \n",
       "1                 0.413333  0.949316  0.417727       0.266234   \n",
       "2                 0.788333  0.768939  0.462727       0.723377   \n",
       "3                 0.637500  0.377210  0.839091       0.451948   \n",
       "4                 0.125833  0.501954  0.173182       0.261039   \n",
       "\n",
       "   physical_activity_days_per_week  sleep_hours_per_day  systolic  diastolic  \\\n",
       "0                                0                    6       158         88   \n",
       "1                                1                    7       165         93   \n",
       "2                                4                    4       174         99   \n",
       "3                                3                    4       163        100   \n",
       "4                                1                    5        91         88   \n",
       "\n",
       "   sex_Male  diet_Healthy  diet_Unhealthy  country_Australia  country_Brazil  \\\n",
       "0      True         False           False              False           False   \n",
       "1      True         False            True              False           False   \n",
       "2     False          True           False              False           False   \n",
       "3      True         False           False              False           False   \n",
       "4      True         False            True              False           False   \n",
       "\n",
       "   country_Canada  country_China  country_Colombia  country_France  \\\n",
       "0           False          False             False           False   \n",
       "1            True          False             False           False   \n",
       "2           False          False             False            True   \n",
       "3            True          False             False           False   \n",
       "4           False          False             False           False   \n",
       "\n",
       "   country_Germany  country_India  country_Italy  country_Japan  \\\n",
       "0            False          False          False          False   \n",
       "1            False          False          False          False   \n",
       "2            False          False          False          False   \n",
       "3            False          False          False          False   \n",
       "4            False          False          False          False   \n",
       "\n",
       "   country_New Zealand  country_Nigeria  country_South Africa  \\\n",
       "0                False            False                 False   \n",
       "1                False            False                 False   \n",
       "2                False            False                 False   \n",
       "3                False            False                 False   \n",
       "4                False            False                 False   \n",
       "\n",
       "   country_South Korea  country_Spain  country_Thailand  \\\n",
       "0                False          False             False   \n",
       "1                False          False             False   \n",
       "2                False          False             False   \n",
       "3                False          False             False   \n",
       "4                False          False              True   \n",
       "\n",
       "   country_United Kingdom  country_United States  country_Vietnam  \\\n",
       "0                   False                  False            False   \n",
       "1                   False                  False            False   \n",
       "2                   False                  False            False   \n",
       "3                   False                  False            False   \n",
       "4                   False                  False            False   \n",
       "\n",
       "   continent_Asia  continent_Australia  continent_Europe  \\\n",
       "0           False                False             False   \n",
       "1           False                False             False   \n",
       "2           False                False              True   \n",
       "3           False                False             False   \n",
       "4            True                False             False   \n",
       "\n",
       "   continent_North America  continent_South America  \\\n",
       "0                    False                     True   \n",
       "1                     True                    False   \n",
       "2                    False                    False   \n",
       "3                     True                    False   \n",
       "4                    False                    False   \n",
       "\n",
       "   hemisphere_Southern Hemisphere  \n",
       "0                            True  \n",
       "1                           False  \n",
       "2                           False  \n",
       "3                           False  \n",
       "4                           False  "
      ]
     },
     "execution_count": 183,
     "metadata": {},
     "output_type": "execute_result"
    }
   ],
   "source": [
    "# checking the head of the features after label encoding\n",
    "X.head()"
   ]
  },
  {
   "cell_type": "markdown",
   "metadata": {},
   "source": [
    "---\n",
    "\n",
    "### **Splitting the dataset into training and testing sets**\n",
    "\n",
    "---"
   ]
  },
  {
   "cell_type": "code",
   "execution_count": 184,
   "metadata": {},
   "outputs": [],
   "source": [
    "# splitting the dataset into training and testing sets\n",
    "\n",
    "X_train, X_test, y_train, y_test = train_test_split(X, y, test_size=0.3, random_state=42)\n"
   ]
  },
  {
   "cell_type": "code",
   "execution_count": 185,
   "metadata": {},
   "outputs": [
    {
     "name": "stdout",
     "output_type": "stream",
     "text": [
      "\n",
      "The training set has 6134 rows and 48 columns\n",
      "The testing set has 2629 rows and 48 columns\n",
      "\n"
     ]
    }
   ],
   "source": [
    "# checking the shape of the training and testing sets\n",
    "print(f'''\n",
    "The training set has {X_train.shape[0]} rows and {X_train.shape[1]} columns\n",
    "The testing set has {X_test.shape[0]} rows and {X_test.shape[1]} columns\n",
    "''')"
   ]
  },
  {
   "cell_type": "markdown",
   "metadata": {},
   "source": [
    "---\n",
    "\n",
    "### **Building a Random Forest Classifier**\n",
    "\n",
    "---"
   ]
  },
  {
   "cell_type": "code",
   "execution_count": 186,
   "metadata": {},
   "outputs": [],
   "source": [
    "# instantiating the random forest classifier\n",
    "rf = RandomForestClassifier()"
   ]
  },
  {
   "cell_type": "code",
   "execution_count": 187,
   "metadata": {},
   "outputs": [
    {
     "data": {
      "text/html": [
       "<style>#sk-container-id-3 {\n",
       "  /* Definition of color scheme common for light and dark mode */\n",
       "  --sklearn-color-text: black;\n",
       "  --sklearn-color-line: gray;\n",
       "  /* Definition of color scheme for unfitted estimators */\n",
       "  --sklearn-color-unfitted-level-0: #fff5e6;\n",
       "  --sklearn-color-unfitted-level-1: #f6e4d2;\n",
       "  --sklearn-color-unfitted-level-2: #ffe0b3;\n",
       "  --sklearn-color-unfitted-level-3: chocolate;\n",
       "  /* Definition of color scheme for fitted estimators */\n",
       "  --sklearn-color-fitted-level-0: #f0f8ff;\n",
       "  --sklearn-color-fitted-level-1: #d4ebff;\n",
       "  --sklearn-color-fitted-level-2: #b3dbfd;\n",
       "  --sklearn-color-fitted-level-3: cornflowerblue;\n",
       "\n",
       "  /* Specific color for light theme */\n",
       "  --sklearn-color-text-on-default-background: var(--sg-text-color, var(--theme-code-foreground, var(--jp-content-font-color1, black)));\n",
       "  --sklearn-color-background: var(--sg-background-color, var(--theme-background, var(--jp-layout-color0, white)));\n",
       "  --sklearn-color-border-box: var(--sg-text-color, var(--theme-code-foreground, var(--jp-content-font-color1, black)));\n",
       "  --sklearn-color-icon: #696969;\n",
       "\n",
       "  @media (prefers-color-scheme: dark) {\n",
       "    /* Redefinition of color scheme for dark theme */\n",
       "    --sklearn-color-text-on-default-background: var(--sg-text-color, var(--theme-code-foreground, var(--jp-content-font-color1, white)));\n",
       "    --sklearn-color-background: var(--sg-background-color, var(--theme-background, var(--jp-layout-color0, #111)));\n",
       "    --sklearn-color-border-box: var(--sg-text-color, var(--theme-code-foreground, var(--jp-content-font-color1, white)));\n",
       "    --sklearn-color-icon: #878787;\n",
       "  }\n",
       "}\n",
       "\n",
       "#sk-container-id-3 {\n",
       "  color: var(--sklearn-color-text);\n",
       "}\n",
       "\n",
       "#sk-container-id-3 pre {\n",
       "  padding: 0;\n",
       "}\n",
       "\n",
       "#sk-container-id-3 input.sk-hidden--visually {\n",
       "  border: 0;\n",
       "  clip: rect(1px 1px 1px 1px);\n",
       "  clip: rect(1px, 1px, 1px, 1px);\n",
       "  height: 1px;\n",
       "  margin: -1px;\n",
       "  overflow: hidden;\n",
       "  padding: 0;\n",
       "  position: absolute;\n",
       "  width: 1px;\n",
       "}\n",
       "\n",
       "#sk-container-id-3 div.sk-dashed-wrapped {\n",
       "  border: 1px dashed var(--sklearn-color-line);\n",
       "  margin: 0 0.4em 0.5em 0.4em;\n",
       "  box-sizing: border-box;\n",
       "  padding-bottom: 0.4em;\n",
       "  background-color: var(--sklearn-color-background);\n",
       "}\n",
       "\n",
       "#sk-container-id-3 div.sk-container {\n",
       "  /* jupyter's `normalize.less` sets `[hidden] { display: none; }`\n",
       "     but bootstrap.min.css set `[hidden] { display: none !important; }`\n",
       "     so we also need the `!important` here to be able to override the\n",
       "     default hidden behavior on the sphinx rendered scikit-learn.org.\n",
       "     See: https://github.com/scikit-learn/scikit-learn/issues/21755 */\n",
       "  display: inline-block !important;\n",
       "  position: relative;\n",
       "}\n",
       "\n",
       "#sk-container-id-3 div.sk-text-repr-fallback {\n",
       "  display: none;\n",
       "}\n",
       "\n",
       "div.sk-parallel-item,\n",
       "div.sk-serial,\n",
       "div.sk-item {\n",
       "  /* draw centered vertical line to link estimators */\n",
       "  background-image: linear-gradient(var(--sklearn-color-text-on-default-background), var(--sklearn-color-text-on-default-background));\n",
       "  background-size: 2px 100%;\n",
       "  background-repeat: no-repeat;\n",
       "  background-position: center center;\n",
       "}\n",
       "\n",
       "/* Parallel-specific style estimator block */\n",
       "\n",
       "#sk-container-id-3 div.sk-parallel-item::after {\n",
       "  content: \"\";\n",
       "  width: 100%;\n",
       "  border-bottom: 2px solid var(--sklearn-color-text-on-default-background);\n",
       "  flex-grow: 1;\n",
       "}\n",
       "\n",
       "#sk-container-id-3 div.sk-parallel {\n",
       "  display: flex;\n",
       "  align-items: stretch;\n",
       "  justify-content: center;\n",
       "  background-color: var(--sklearn-color-background);\n",
       "  position: relative;\n",
       "}\n",
       "\n",
       "#sk-container-id-3 div.sk-parallel-item {\n",
       "  display: flex;\n",
       "  flex-direction: column;\n",
       "}\n",
       "\n",
       "#sk-container-id-3 div.sk-parallel-item:first-child::after {\n",
       "  align-self: flex-end;\n",
       "  width: 50%;\n",
       "}\n",
       "\n",
       "#sk-container-id-3 div.sk-parallel-item:last-child::after {\n",
       "  align-self: flex-start;\n",
       "  width: 50%;\n",
       "}\n",
       "\n",
       "#sk-container-id-3 div.sk-parallel-item:only-child::after {\n",
       "  width: 0;\n",
       "}\n",
       "\n",
       "/* Serial-specific style estimator block */\n",
       "\n",
       "#sk-container-id-3 div.sk-serial {\n",
       "  display: flex;\n",
       "  flex-direction: column;\n",
       "  align-items: center;\n",
       "  background-color: var(--sklearn-color-background);\n",
       "  padding-right: 1em;\n",
       "  padding-left: 1em;\n",
       "}\n",
       "\n",
       "\n",
       "/* Toggleable style: style used for estimator/Pipeline/ColumnTransformer box that is\n",
       "clickable and can be expanded/collapsed.\n",
       "- Pipeline and ColumnTransformer use this feature and define the default style\n",
       "- Estimators will overwrite some part of the style using the `sk-estimator` class\n",
       "*/\n",
       "\n",
       "/* Pipeline and ColumnTransformer style (default) */\n",
       "\n",
       "#sk-container-id-3 div.sk-toggleable {\n",
       "  /* Default theme specific background. It is overwritten whether we have a\n",
       "  specific estimator or a Pipeline/ColumnTransformer */\n",
       "  background-color: var(--sklearn-color-background);\n",
       "}\n",
       "\n",
       "/* Toggleable label */\n",
       "#sk-container-id-3 label.sk-toggleable__label {\n",
       "  cursor: pointer;\n",
       "  display: block;\n",
       "  width: 100%;\n",
       "  margin-bottom: 0;\n",
       "  padding: 0.5em;\n",
       "  box-sizing: border-box;\n",
       "  text-align: center;\n",
       "}\n",
       "\n",
       "#sk-container-id-3 label.sk-toggleable__label-arrow:before {\n",
       "  /* Arrow on the left of the label */\n",
       "  content: \"▸\";\n",
       "  float: left;\n",
       "  margin-right: 0.25em;\n",
       "  color: var(--sklearn-color-icon);\n",
       "}\n",
       "\n",
       "#sk-container-id-3 label.sk-toggleable__label-arrow:hover:before {\n",
       "  color: var(--sklearn-color-text);\n",
       "}\n",
       "\n",
       "/* Toggleable content - dropdown */\n",
       "\n",
       "#sk-container-id-3 div.sk-toggleable__content {\n",
       "  max-height: 0;\n",
       "  max-width: 0;\n",
       "  overflow: hidden;\n",
       "  text-align: left;\n",
       "  /* unfitted */\n",
       "  background-color: var(--sklearn-color-unfitted-level-0);\n",
       "}\n",
       "\n",
       "#sk-container-id-3 div.sk-toggleable__content.fitted {\n",
       "  /* fitted */\n",
       "  background-color: var(--sklearn-color-fitted-level-0);\n",
       "}\n",
       "\n",
       "#sk-container-id-3 div.sk-toggleable__content pre {\n",
       "  margin: 0.2em;\n",
       "  border-radius: 0.25em;\n",
       "  color: var(--sklearn-color-text);\n",
       "  /* unfitted */\n",
       "  background-color: var(--sklearn-color-unfitted-level-0);\n",
       "}\n",
       "\n",
       "#sk-container-id-3 div.sk-toggleable__content.fitted pre {\n",
       "  /* unfitted */\n",
       "  background-color: var(--sklearn-color-fitted-level-0);\n",
       "}\n",
       "\n",
       "#sk-container-id-3 input.sk-toggleable__control:checked~div.sk-toggleable__content {\n",
       "  /* Expand drop-down */\n",
       "  max-height: 200px;\n",
       "  max-width: 100%;\n",
       "  overflow: auto;\n",
       "}\n",
       "\n",
       "#sk-container-id-3 input.sk-toggleable__control:checked~label.sk-toggleable__label-arrow:before {\n",
       "  content: \"▾\";\n",
       "}\n",
       "\n",
       "/* Pipeline/ColumnTransformer-specific style */\n",
       "\n",
       "#sk-container-id-3 div.sk-label input.sk-toggleable__control:checked~label.sk-toggleable__label {\n",
       "  color: var(--sklearn-color-text);\n",
       "  background-color: var(--sklearn-color-unfitted-level-2);\n",
       "}\n",
       "\n",
       "#sk-container-id-3 div.sk-label.fitted input.sk-toggleable__control:checked~label.sk-toggleable__label {\n",
       "  background-color: var(--sklearn-color-fitted-level-2);\n",
       "}\n",
       "\n",
       "/* Estimator-specific style */\n",
       "\n",
       "/* Colorize estimator box */\n",
       "#sk-container-id-3 div.sk-estimator input.sk-toggleable__control:checked~label.sk-toggleable__label {\n",
       "  /* unfitted */\n",
       "  background-color: var(--sklearn-color-unfitted-level-2);\n",
       "}\n",
       "\n",
       "#sk-container-id-3 div.sk-estimator.fitted input.sk-toggleable__control:checked~label.sk-toggleable__label {\n",
       "  /* fitted */\n",
       "  background-color: var(--sklearn-color-fitted-level-2);\n",
       "}\n",
       "\n",
       "#sk-container-id-3 div.sk-label label.sk-toggleable__label,\n",
       "#sk-container-id-3 div.sk-label label {\n",
       "  /* The background is the default theme color */\n",
       "  color: var(--sklearn-color-text-on-default-background);\n",
       "}\n",
       "\n",
       "/* On hover, darken the color of the background */\n",
       "#sk-container-id-3 div.sk-label:hover label.sk-toggleable__label {\n",
       "  color: var(--sklearn-color-text);\n",
       "  background-color: var(--sklearn-color-unfitted-level-2);\n",
       "}\n",
       "\n",
       "/* Label box, darken color on hover, fitted */\n",
       "#sk-container-id-3 div.sk-label.fitted:hover label.sk-toggleable__label.fitted {\n",
       "  color: var(--sklearn-color-text);\n",
       "  background-color: var(--sklearn-color-fitted-level-2);\n",
       "}\n",
       "\n",
       "/* Estimator label */\n",
       "\n",
       "#sk-container-id-3 div.sk-label label {\n",
       "  font-family: monospace;\n",
       "  font-weight: bold;\n",
       "  display: inline-block;\n",
       "  line-height: 1.2em;\n",
       "}\n",
       "\n",
       "#sk-container-id-3 div.sk-label-container {\n",
       "  text-align: center;\n",
       "}\n",
       "\n",
       "/* Estimator-specific */\n",
       "#sk-container-id-3 div.sk-estimator {\n",
       "  font-family: monospace;\n",
       "  border: 1px dotted var(--sklearn-color-border-box);\n",
       "  border-radius: 0.25em;\n",
       "  box-sizing: border-box;\n",
       "  margin-bottom: 0.5em;\n",
       "  /* unfitted */\n",
       "  background-color: var(--sklearn-color-unfitted-level-0);\n",
       "}\n",
       "\n",
       "#sk-container-id-3 div.sk-estimator.fitted {\n",
       "  /* fitted */\n",
       "  background-color: var(--sklearn-color-fitted-level-0);\n",
       "}\n",
       "\n",
       "/* on hover */\n",
       "#sk-container-id-3 div.sk-estimator:hover {\n",
       "  /* unfitted */\n",
       "  background-color: var(--sklearn-color-unfitted-level-2);\n",
       "}\n",
       "\n",
       "#sk-container-id-3 div.sk-estimator.fitted:hover {\n",
       "  /* fitted */\n",
       "  background-color: var(--sklearn-color-fitted-level-2);\n",
       "}\n",
       "\n",
       "/* Specification for estimator info (e.g. \"i\" and \"?\") */\n",
       "\n",
       "/* Common style for \"i\" and \"?\" */\n",
       "\n",
       ".sk-estimator-doc-link,\n",
       "a:link.sk-estimator-doc-link,\n",
       "a:visited.sk-estimator-doc-link {\n",
       "  float: right;\n",
       "  font-size: smaller;\n",
       "  line-height: 1em;\n",
       "  font-family: monospace;\n",
       "  background-color: var(--sklearn-color-background);\n",
       "  border-radius: 1em;\n",
       "  height: 1em;\n",
       "  width: 1em;\n",
       "  text-decoration: none !important;\n",
       "  margin-left: 1ex;\n",
       "  /* unfitted */\n",
       "  border: var(--sklearn-color-unfitted-level-1) 1pt solid;\n",
       "  color: var(--sklearn-color-unfitted-level-1);\n",
       "}\n",
       "\n",
       ".sk-estimator-doc-link.fitted,\n",
       "a:link.sk-estimator-doc-link.fitted,\n",
       "a:visited.sk-estimator-doc-link.fitted {\n",
       "  /* fitted */\n",
       "  border: var(--sklearn-color-fitted-level-1) 1pt solid;\n",
       "  color: var(--sklearn-color-fitted-level-1);\n",
       "}\n",
       "\n",
       "/* On hover */\n",
       "div.sk-estimator:hover .sk-estimator-doc-link:hover,\n",
       ".sk-estimator-doc-link:hover,\n",
       "div.sk-label-container:hover .sk-estimator-doc-link:hover,\n",
       ".sk-estimator-doc-link:hover {\n",
       "  /* unfitted */\n",
       "  background-color: var(--sklearn-color-unfitted-level-3);\n",
       "  color: var(--sklearn-color-background);\n",
       "  text-decoration: none;\n",
       "}\n",
       "\n",
       "div.sk-estimator.fitted:hover .sk-estimator-doc-link.fitted:hover,\n",
       ".sk-estimator-doc-link.fitted:hover,\n",
       "div.sk-label-container:hover .sk-estimator-doc-link.fitted:hover,\n",
       ".sk-estimator-doc-link.fitted:hover {\n",
       "  /* fitted */\n",
       "  background-color: var(--sklearn-color-fitted-level-3);\n",
       "  color: var(--sklearn-color-background);\n",
       "  text-decoration: none;\n",
       "}\n",
       "\n",
       "/* Span, style for the box shown on hovering the info icon */\n",
       ".sk-estimator-doc-link span {\n",
       "  display: none;\n",
       "  z-index: 9999;\n",
       "  position: relative;\n",
       "  font-weight: normal;\n",
       "  right: .2ex;\n",
       "  padding: .5ex;\n",
       "  margin: .5ex;\n",
       "  width: min-content;\n",
       "  min-width: 20ex;\n",
       "  max-width: 50ex;\n",
       "  color: var(--sklearn-color-text);\n",
       "  box-shadow: 2pt 2pt 4pt #999;\n",
       "  /* unfitted */\n",
       "  background: var(--sklearn-color-unfitted-level-0);\n",
       "  border: .5pt solid var(--sklearn-color-unfitted-level-3);\n",
       "}\n",
       "\n",
       ".sk-estimator-doc-link.fitted span {\n",
       "  /* fitted */\n",
       "  background: var(--sklearn-color-fitted-level-0);\n",
       "  border: var(--sklearn-color-fitted-level-3);\n",
       "}\n",
       "\n",
       ".sk-estimator-doc-link:hover span {\n",
       "  display: block;\n",
       "}\n",
       "\n",
       "/* \"?\"-specific style due to the `<a>` HTML tag */\n",
       "\n",
       "#sk-container-id-3 a.estimator_doc_link {\n",
       "  float: right;\n",
       "  font-size: 1rem;\n",
       "  line-height: 1em;\n",
       "  font-family: monospace;\n",
       "  background-color: var(--sklearn-color-background);\n",
       "  border-radius: 1rem;\n",
       "  height: 1rem;\n",
       "  width: 1rem;\n",
       "  text-decoration: none;\n",
       "  /* unfitted */\n",
       "  color: var(--sklearn-color-unfitted-level-1);\n",
       "  border: var(--sklearn-color-unfitted-level-1) 1pt solid;\n",
       "}\n",
       "\n",
       "#sk-container-id-3 a.estimator_doc_link.fitted {\n",
       "  /* fitted */\n",
       "  border: var(--sklearn-color-fitted-level-1) 1pt solid;\n",
       "  color: var(--sklearn-color-fitted-level-1);\n",
       "}\n",
       "\n",
       "/* On hover */\n",
       "#sk-container-id-3 a.estimator_doc_link:hover {\n",
       "  /* unfitted */\n",
       "  background-color: var(--sklearn-color-unfitted-level-3);\n",
       "  color: var(--sklearn-color-background);\n",
       "  text-decoration: none;\n",
       "}\n",
       "\n",
       "#sk-container-id-3 a.estimator_doc_link.fitted:hover {\n",
       "  /* fitted */\n",
       "  background-color: var(--sklearn-color-fitted-level-3);\n",
       "}\n",
       "</style><div id=\"sk-container-id-3\" class=\"sk-top-container\"><div class=\"sk-text-repr-fallback\"><pre>RandomForestClassifier()</pre><b>In a Jupyter environment, please rerun this cell to show the HTML representation or trust the notebook. <br />On GitHub, the HTML representation is unable to render, please try loading this page with nbviewer.org.</b></div><div class=\"sk-container\" hidden><div class=\"sk-item\"><div class=\"sk-estimator fitted sk-toggleable\"><input class=\"sk-toggleable__control sk-hidden--visually\" id=\"sk-estimator-id-3\" type=\"checkbox\" checked><label for=\"sk-estimator-id-3\" class=\"sk-toggleable__label fitted sk-toggleable__label-arrow fitted\">&nbsp;&nbsp;RandomForestClassifier<a class=\"sk-estimator-doc-link fitted\" rel=\"noreferrer\" target=\"_blank\" href=\"https://scikit-learn.org/1.4/modules/generated/sklearn.ensemble.RandomForestClassifier.html\">?<span>Documentation for RandomForestClassifier</span></a><span class=\"sk-estimator-doc-link fitted\">i<span>Fitted</span></span></label><div class=\"sk-toggleable__content fitted\"><pre>RandomForestClassifier()</pre></div> </div></div></div></div>"
      ],
      "text/plain": [
       "RandomForestClassifier()"
      ]
     },
     "execution_count": 187,
     "metadata": {},
     "output_type": "execute_result"
    }
   ],
   "source": [
    "# fitting the model on the training set\n",
    "rf.fit(X_train, y_train)\n"
   ]
  },
  {
   "cell_type": "code",
   "execution_count": 188,
   "metadata": {},
   "outputs": [],
   "source": [
    "# making predictions on the testing set\n",
    "y_pred = rf.predict(X_test)\n"
   ]
  },
  {
   "cell_type": "code",
   "execution_count": 189,
   "metadata": {},
   "outputs": [
    {
     "name": "stdout",
     "output_type": "stream",
     "text": [
      "The accuracy of the model is: 0.6424496006085965\n"
     ]
    }
   ],
   "source": [
    "# checking the accuracy of the model\n",
    "accuracy = accuracy_score(y_test, y_pred)\n",
    "print(f'The accuracy of the model is: {accuracy}')"
   ]
  },
  {
   "cell_type": "code",
   "execution_count": 190,
   "metadata": {},
   "outputs": [
    {
     "name": "stdout",
     "output_type": "stream",
     "text": [
      "              precision    recall  f1-score   support\n",
      "\n",
      "           0       0.64      0.99      0.78      1691\n",
      "           1       0.47      0.02      0.03       938\n",
      "\n",
      "    accuracy                           0.64      2629\n",
      "   macro avg       0.56      0.50      0.41      2629\n",
      "weighted avg       0.58      0.64      0.51      2629\n",
      "\n"
     ]
    }
   ],
   "source": [
    "# checking the classification report\n",
    "print(classification_report(y_test, y_pred))"
   ]
  },
  {
   "cell_type": "code",
   "execution_count": 191,
   "metadata": {},
   "outputs": [
    {
     "data": {
      "image/png": "[encoded data removed]",
      "text/plain": [
       "<Figure size 1000x600 with 2 Axes>"
      ]
     },
     "metadata": {},
     "output_type": "display_data"
    }
   ],
   "source": [
    "# checking the confusion matrix\n",
    "confusion_matrix(y_test, y_pred)\n",
    "# plotting the confusion matrix\n",
    "plt.figure(figsize=(10, 6))\n",
    "sns.heatmap(confusion_matrix(y_test, y_pred), annot=True, fmt='d', cmap='viridis')\n",
    "plt.xlabel('Predicted')\n",
    "plt.ylabel('Actual')\n",
    "plt.title('Confusion Matrix of Heat Map')\n",
    "plt.show()"
   ]
  },
  {
   "cell_type": "markdown",
   "metadata": {},
   "source": [
    "---\n",
    "\n",
    "- confusion matrix shows the number of correct and incorrect predictions for each class.\n",
    "- it tells us the number of true positives, true negatives, false positives, and false negatives.\n",
    "- from the above results it is clear that model is not performing well on the testing set. As due to class imbalance it misclassifies the data.\n",
    "- As this model idetifies 920 records which is a larger number\n",
    "  \n",
    "---"
   ]
  },
  {
   "cell_type": "markdown",
   "metadata": {},
   "source": [
    "----\n",
    "\n",
    "### **Dealing with Class Imbalance**\n",
    "\n",
    "---"
   ]
  },
  {
   "cell_type": "code",
   "execution_count": 192,
   "metadata": {},
   "outputs": [
    {
     "data": {
      "application/vnd.microsoft.datawrangler.viewer.v0+json": {
       "columns": [
        {
         "name": "index",
         "rawType": "int64",
         "type": "integer"
        },
        {
         "name": "age",
         "rawType": "int64",
         "type": "integer"
        },
        {
         "name": "sex",
         "rawType": "object",
         "type": "string"
        },
        {
         "name": "cholesterol",
         "rawType": "int64",
         "type": "integer"
        },
        {
         "name": "heart_rate",
         "rawType": "int64",
         "type": "integer"
        },
        {
         "name": "diabetes",
         "rawType": "int64",
         "type": "integer"
        },
        {
         "name": "family_history",
         "rawType": "int64",
         "type": "integer"
        },
        {
         "name": "smoking",
         "rawType": "int64",
         "type": "integer"
        },
        {
         "name": "obesity",
         "rawType": "int64",
         "type": "integer"
        },
        {
         "name": "alcohol_consumption",
         "rawType": "int64",
         "type": "integer"
        },
        {
         "name": "exercise_hours_per_week",
         "rawType": "float64",
         "type": "float"
        },
        {
         "name": "diet",
         "rawType": "object",
         "type": "string"
        },
        {
         "name": "previous_heart_problems",
         "rawType": "int64",
         "type": "integer"
        },
        {
         "name": "medication_use",
         "rawType": "int64",
         "type": "integer"
        },
        {
         "name": "stress_level",
         "rawType": "int64",
         "type": "integer"
        },
        {
         "name": "sedentary_hours_per_day",
         "rawType": "float64",
         "type": "float"
        },
        {
         "name": "income",
         "rawType": "int64",
         "type": "integer"
        },
        {
         "name": "bmi",
         "rawType": "float64",
         "type": "float"
        },
        {
         "name": "triglycerides",
         "rawType": "int64",
         "type": "integer"
        },
        {
         "name": "physical_activity_days_per_week",
         "rawType": "int64",
         "type": "integer"
        },
        {
         "name": "sleep_hours_per_day",
         "rawType": "int64",
         "type": "integer"
        },
        {
         "name": "country",
         "rawType": "object",
         "type": "string"
        },
        {
         "name": "continent",
         "rawType": "object",
         "type": "string"
        },
        {
         "name": "hemisphere",
         "rawType": "object",
         "type": "string"
        },
        {
         "name": "heart_attack_risk",
         "rawType": "int64",
         "type": "integer"
        },
        {
         "name": "systolic",
         "rawType": "int64",
         "type": "integer"
        },
        {
         "name": "diastolic",
         "rawType": "Int64",
         "type": "integer"
        }
       ],
       "conversionMethod": "pd.DataFrame",
       "ref": "203c0a05-385f-4def-842c-c26d62d02ee5",
       "rows": [
        [
         "0",
         "67",
         "Male",
         "208",
         "72",
         "0",
         "0",
         "1",
         "0",
         "0",
         "4.17",
         "Average",
         "0",
         "0",
         "9",
         "6.62",
         "261404",
         "31.25",
         "286",
         "0",
         "6",
         "Argentina",
         "South America",
         "Southern Hemisphere",
         "0",
         "158",
         "88"
        ],
        [
         "1",
         "21",
         "Male",
         "389",
         "98",
         "1",
         "1",
         "1",
         "1",
         "1",
         "1.81",
         "Unhealthy",
         "1",
         "0",
         "1",
         "4.96",
         "285768",
         "27.19",
         "235",
         "1",
         "7",
         "Canada",
         "North America",
         "Northern Hemisphere",
         "0",
         "165",
         "93"
        ],
        [
         "2",
         "21",
         "Female",
         "324",
         "72",
         "1",
         "0",
         "0",
         "0",
         "0",
         "2.08",
         "Healthy",
         "1",
         "1",
         "9",
         "9.46",
         "235282",
         "28.18",
         "587",
         "4",
         "4",
         "France",
         "Europe",
         "Northern Hemisphere",
         "0",
         "174",
         "99"
        ],
        [
         "3",
         "84",
         "Male",
         "383",
         "73",
         "1",
         "1",
         "1",
         "0",
         "1",
         "9.83",
         "Average",
         "1",
         "0",
         "9",
         "7.65",
         "125640",
         "36.46",
         "378",
         "3",
         "4",
         "Canada",
         "North America",
         "Northern Hemisphere",
         "0",
         "163",
         "100"
        ],
        [
         "4",
         "66",
         "Male",
         "318",
         "93",
         "1",
         "1",
         "1",
         "1",
         "0",
         "5.8",
         "Unhealthy",
         "1",
         "0",
         "6",
         "1.51",
         "160555",
         "21.81",
         "231",
         "1",
         "5",
         "Thailand",
         "Asia",
         "Northern Hemisphere",
         "0",
         "91",
         "88"
        ]
       ],
       "shape": {
        "columns": 26,
        "rows": 5
       }
      },
      "text/html": [
       "<div>\n",
       "<style scoped>\n",
       "    .dataframe tbody tr th:only-of-type {\n",
       "        vertical-align: middle;\n",
       "    }\n",
       "\n",
       "    .dataframe tbody tr th {\n",
       "        vertical-align: top;\n",
       "    }\n",
       "\n",
       "    .dataframe thead th {\n",
       "        text-align: right;\n",
       "    }\n",
       "</style>\n",
       "<table border=\"1\" class=\"dataframe\">\n",
       "  <thead>\n",
       "    <tr style=\"text-align: right;\">\n",
       "      <th></th>\n",
       "      <th>age</th>\n",
       "      <th>sex</th>\n",
       "      <th>cholesterol</th>\n",
       "      <th>heart_rate</th>\n",
       "      <th>diabetes</th>\n",
       "      <th>family_history</th>\n",
       "      <th>smoking</th>\n",
       "      <th>obesity</th>\n",
       "      <th>alcohol_consumption</th>\n",
       "      <th>exercise_hours_per_week</th>\n",
       "      <th>diet</th>\n",
       "      <th>previous_heart_problems</th>\n",
       "      <th>medication_use</th>\n",
       "      <th>stress_level</th>\n",
       "      <th>sedentary_hours_per_day</th>\n",
       "      <th>income</th>\n",
       "      <th>bmi</th>\n",
       "      <th>triglycerides</th>\n",
       "      <th>physical_activity_days_per_week</th>\n",
       "      <th>sleep_hours_per_day</th>\n",
       "      <th>country</th>\n",
       "      <th>continent</th>\n",
       "      <th>hemisphere</th>\n",
       "      <th>heart_attack_risk</th>\n",
       "      <th>systolic</th>\n",
       "      <th>diastolic</th>\n",
       "    </tr>\n",
       "  </thead>\n",
       "  <tbody>\n",
       "    <tr>\n",
       "      <th>0</th>\n",
       "      <td>67</td>\n",
       "      <td>Male</td>\n",
       "      <td>208</td>\n",
       "      <td>72</td>\n",
       "      <td>0</td>\n",
       "      <td>0</td>\n",
       "      <td>1</td>\n",
       "      <td>0</td>\n",
       "      <td>0</td>\n",
       "      <td>4.17</td>\n",
       "      <td>Average</td>\n",
       "      <td>0</td>\n",
       "      <td>0</td>\n",
       "      <td>9</td>\n",
       "      <td>6.62</td>\n",
       "      <td>261404</td>\n",
       "      <td>31.25</td>\n",
       "      <td>286</td>\n",
       "      <td>0</td>\n",
       "      <td>6</td>\n",
       "      <td>Argentina</td>\n",
       "      <td>South America</td>\n",
       "      <td>Southern Hemisphere</td>\n",
       "      <td>0</td>\n",
       "      <td>158</td>\n",
       "      <td>88</td>\n",
       "    </tr>\n",
       "    <tr>\n",
       "      <th>1</th>\n",
       "      <td>21</td>\n",
       "      <td>Male</td>\n",
       "      <td>389</td>\n",
       "      <td>98</td>\n",
       "      <td>1</td>\n",
       "      <td>1</td>\n",
       "      <td>1</td>\n",
       "      <td>1</td>\n",
       "      <td>1</td>\n",
       "      <td>1.81</td>\n",
       "      <td>Unhealthy</td>\n",
       "      <td>1</td>\n",
       "      <td>0</td>\n",
       "      <td>1</td>\n",
       "      <td>4.96</td>\n",
       "      <td>285768</td>\n",
       "      <td>27.19</td>\n",
       "      <td>235</td>\n",
       "      <td>1</td>\n",
       "      <td>7</td>\n",
       "      <td>Canada</td>\n",
       "      <td>North America</td>\n",
       "      <td>Northern Hemisphere</td>\n",
       "      <td>0</td>\n",
       "      <td>165</td>\n",
       "      <td>93</td>\n",
       "    </tr>\n",
       "    <tr>\n",
       "      <th>2</th>\n",
       "      <td>21</td>\n",
       "      <td>Female</td>\n",
       "      <td>324</td>\n",
       "      <td>72</td>\n",
       "      <td>1</td>\n",
       "      <td>0</td>\n",
       "      <td>0</td>\n",
       "      <td>0</td>\n",
       "      <td>0</td>\n",
       "      <td>2.08</td>\n",
       "      <td>Healthy</td>\n",
       "      <td>1</td>\n",
       "      <td>1</td>\n",
       "      <td>9</td>\n",
       "      <td>9.46</td>\n",
       "      <td>235282</td>\n",
       "      <td>28.18</td>\n",
       "      <td>587</td>\n",
       "      <td>4</td>\n",
       "      <td>4</td>\n",
       "      <td>France</td>\n",
       "      <td>Europe</td>\n",
       "      <td>Northern Hemisphere</td>\n",
       "      <td>0</td>\n",
       "      <td>174</td>\n",
       "      <td>99</td>\n",
       "    </tr>\n",
       "    <tr>\n",
       "      <th>3</th>\n",
       "      <td>84</td>\n",
       "      <td>Male</td>\n",
       "      <td>383</td>\n",
       "      <td>73</td>\n",
       "      <td>1</td>\n",
       "      <td>1</td>\n",
       "      <td>1</td>\n",
       "      <td>0</td>\n",
       "      <td>1</td>\n",
       "      <td>9.83</td>\n",
       "      <td>Average</td>\n",
       "      <td>1</td>\n",
       "      <td>0</td>\n",
       "      <td>9</td>\n",
       "      <td>7.65</td>\n",
       "      <td>125640</td>\n",
       "      <td>36.46</td>\n",
       "      <td>378</td>\n",
       "      <td>3</td>\n",
       "      <td>4</td>\n",
       "      <td>Canada</td>\n",
       "      <td>North America</td>\n",
       "      <td>Northern Hemisphere</td>\n",
       "      <td>0</td>\n",
       "      <td>163</td>\n",
       "      <td>100</td>\n",
       "    </tr>\n",
       "    <tr>\n",
       "      <th>4</th>\n",
       "      <td>66</td>\n",
       "      <td>Male</td>\n",
       "      <td>318</td>\n",
       "      <td>93</td>\n",
       "      <td>1</td>\n",
       "      <td>1</td>\n",
       "      <td>1</td>\n",
       "      <td>1</td>\n",
       "      <td>0</td>\n",
       "      <td>5.80</td>\n",
       "      <td>Unhealthy</td>\n",
       "      <td>1</td>\n",
       "      <td>0</td>\n",
       "      <td>6</td>\n",
       "      <td>1.51</td>\n",
       "      <td>160555</td>\n",
       "      <td>21.81</td>\n",
       "      <td>231</td>\n",
       "      <td>1</td>\n",
       "      <td>5</td>\n",
       "      <td>Thailand</td>\n",
       "      <td>Asia</td>\n",
       "      <td>Northern Hemisphere</td>\n",
       "      <td>0</td>\n",
       "      <td>91</td>\n",
       "      <td>88</td>\n",
       "    </tr>\n",
       "  </tbody>\n",
       "</table>\n",
       "</div>"
      ],
      "text/plain": [
       "   age     sex  cholesterol  heart_rate  diabetes  family_history  smoking  \\\n",
       "0   67    Male          208          72         0               0        1   \n",
       "1   21    Male          389          98         1               1        1   \n",
       "2   21  Female          324          72         1               0        0   \n",
       "3   84    Male          383          73         1               1        1   \n",
       "4   66    Male          318          93         1               1        1   \n",
       "\n",
       "   obesity  alcohol_consumption  exercise_hours_per_week       diet  \\\n",
       "0        0                    0                     4.17    Average   \n",
       "1        1                    1                     1.81  Unhealthy   \n",
       "2        0                    0                     2.08    Healthy   \n",
       "3        0                    1                     9.83    Average   \n",
       "4        1                    0                     5.80  Unhealthy   \n",
       "\n",
       "   previous_heart_problems  medication_use  stress_level  \\\n",
       "0                        0               0             9   \n",
       "1                        1               0             1   \n",
       "2                        1               1             9   \n",
       "3                        1               0             9   \n",
       "4                        1               0             6   \n",
       "\n",
       "   sedentary_hours_per_day  income    bmi  triglycerides  \\\n",
       "0                     6.62  261404  31.25            286   \n",
       "1                     4.96  285768  27.19            235   \n",
       "2                     9.46  235282  28.18            587   \n",
       "3                     7.65  125640  36.46            378   \n",
       "4                     1.51  160555  21.81            231   \n",
       "\n",
       "   physical_activity_days_per_week  sleep_hours_per_day    country  \\\n",
       "0                                0                    6  Argentina   \n",
       "1                                1                    7     Canada   \n",
       "2                                4                    4     France   \n",
       "3                                3                    4     Canada   \n",
       "4                                1                    5   Thailand   \n",
       "\n",
       "       continent           hemisphere  heart_attack_risk  systolic  diastolic  \n",
       "0  South America  Southern Hemisphere                  0       158         88  \n",
       "1  North America  Northern Hemisphere                  0       165         93  \n",
       "2         Europe  Northern Hemisphere                  0       174         99  \n",
       "3  North America  Northern Hemisphere                  0       163        100  \n",
       "4           Asia  Northern Hemisphere                  0        91         88  "
      ]
     },
     "execution_count": 192,
     "metadata": {},
     "output_type": "execute_result"
    }
   ],
   "source": [
    "df.head()"
   ]
  },
  {
   "cell_type": "code",
   "execution_count": 193,
   "metadata": {},
   "outputs": [
    {
     "data": {
      "text/plain": [
       "age                                  int64\n",
       "sex                                 object\n",
       "cholesterol                          int64\n",
       "heart_rate                           int64\n",
       "diabetes                             int64\n",
       "family_history                       int64\n",
       "smoking                              int64\n",
       "obesity                              int64\n",
       "alcohol_consumption                  int64\n",
       "exercise_hours_per_week            float64\n",
       "diet                                object\n",
       "previous_heart_problems              int64\n",
       "medication_use                       int64\n",
       "stress_level                         int64\n",
       "sedentary_hours_per_day            float64\n",
       "income                               int64\n",
       "bmi                                float64\n",
       "triglycerides                        int64\n",
       "physical_activity_days_per_week      int64\n",
       "sleep_hours_per_day                  int64\n",
       "country                             object\n",
       "continent                           object\n",
       "hemisphere                          object\n",
       "heart_attack_risk                    int64\n",
       "systolic                             int64\n",
       "diastolic                            Int64\n",
       "dtype: object"
      ]
     },
     "execution_count": 193,
     "metadata": {},
     "output_type": "execute_result"
    }
   ],
   "source": [
    "df.dtypes"
   ]
  },
  {
   "cell_type": "markdown",
   "metadata": {},
   "source": [
    "### **Label Encoding**"
   ]
  },
  {
   "cell_type": "code",
   "execution_count": 194,
   "metadata": {},
   "outputs": [],
   "source": [
    "# selecting object columns from the dataset\n",
    "object_col = df.select_dtypes(include='object').columns\n",
    "# defining the label encoder\n",
    "le = LabelEncoder()\n",
    "# defining the for loop for label encoding\n",
    "for col in object_col:\n",
    "    df[col] = le.fit_transform(df[col])"
   ]
  },
  {
   "cell_type": "code",
   "execution_count": 195,
   "metadata": {},
   "outputs": [
    {
     "data": {
      "application/vnd.microsoft.datawrangler.viewer.v0+json": {
       "columns": [
        {
         "name": "index",
         "rawType": "int64",
         "type": "integer"
        },
        {
         "name": "age",
         "rawType": "int64",
         "type": "integer"
        },
        {
         "name": "sex",
         "rawType": "int32",
         "type": "integer"
        },
        {
         "name": "cholesterol",
         "rawType": "int64",
         "type": "integer"
        },
        {
         "name": "heart_rate",
         "rawType": "int64",
         "type": "integer"
        },
        {
         "name": "diabetes",
         "rawType": "int64",
         "type": "integer"
        },
        {
         "name": "family_history",
         "rawType": "int64",
         "type": "integer"
        },
        {
         "name": "smoking",
         "rawType": "int64",
         "type": "integer"
        },
        {
         "name": "obesity",
         "rawType": "int64",
         "type": "integer"
        },
        {
         "name": "alcohol_consumption",
         "rawType": "int64",
         "type": "integer"
        },
        {
         "name": "exercise_hours_per_week",
         "rawType": "float64",
         "type": "float"
        },
        {
         "name": "diet",
         "rawType": "int32",
         "type": "integer"
        },
        {
         "name": "previous_heart_problems",
         "rawType": "int64",
         "type": "integer"
        },
        {
         "name": "medication_use",
         "rawType": "int64",
         "type": "integer"
        },
        {
         "name": "stress_level",
         "rawType": "int64",
         "type": "integer"
        },
        {
         "name": "sedentary_hours_per_day",
         "rawType": "float64",
         "type": "float"
        },
        {
         "name": "income",
         "rawType": "int64",
         "type": "integer"
        },
        {
         "name": "bmi",
         "rawType": "float64",
         "type": "float"
        },
        {
         "name": "triglycerides",
         "rawType": "int64",
         "type": "integer"
        },
        {
         "name": "physical_activity_days_per_week",
         "rawType": "int64",
         "type": "integer"
        },
        {
         "name": "sleep_hours_per_day",
         "rawType": "int64",
         "type": "integer"
        },
        {
         "name": "country",
         "rawType": "int32",
         "type": "integer"
        },
        {
         "name": "continent",
         "rawType": "int32",
         "type": "integer"
        },
        {
         "name": "hemisphere",
         "rawType": "int32",
         "type": "integer"
        },
        {
         "name": "heart_attack_risk",
         "rawType": "int64",
         "type": "integer"
        },
        {
         "name": "systolic",
         "rawType": "int64",
         "type": "integer"
        },
        {
         "name": "diastolic",
         "rawType": "Int64",
         "type": "integer"
        }
       ],
       "conversionMethod": "pd.DataFrame",
       "ref": "eb10aa48-0801-4d45-b66b-46a45794ad04",
       "rows": [
        [
         "0",
         "67",
         "1",
         "208",
         "72",
         "0",
         "0",
         "1",
         "0",
         "0",
         "4.17",
         "0",
         "0",
         "0",
         "9",
         "6.62",
         "261404",
         "31.25",
         "286",
         "0",
         "6",
         "0",
         "5",
         "1",
         "0",
         "158",
         "88"
        ],
        [
         "1",
         "21",
         "1",
         "389",
         "98",
         "1",
         "1",
         "1",
         "1",
         "1",
         "1.81",
         "2",
         "1",
         "0",
         "1",
         "4.96",
         "285768",
         "27.19",
         "235",
         "1",
         "7",
         "3",
         "4",
         "0",
         "0",
         "165",
         "93"
        ],
        [
         "2",
         "21",
         "0",
         "324",
         "72",
         "1",
         "0",
         "0",
         "0",
         "0",
         "2.08",
         "1",
         "1",
         "1",
         "9",
         "9.46",
         "235282",
         "28.18",
         "587",
         "4",
         "4",
         "6",
         "3",
         "0",
         "0",
         "174",
         "99"
        ],
        [
         "3",
         "84",
         "1",
         "383",
         "73",
         "1",
         "1",
         "1",
         "0",
         "1",
         "9.83",
         "0",
         "1",
         "0",
         "9",
         "7.65",
         "125640",
         "36.46",
         "378",
         "3",
         "4",
         "3",
         "4",
         "0",
         "0",
         "163",
         "100"
        ],
        [
         "4",
         "66",
         "1",
         "318",
         "93",
         "1",
         "1",
         "1",
         "1",
         "0",
         "5.8",
         "2",
         "1",
         "0",
         "6",
         "1.51",
         "160555",
         "21.81",
         "231",
         "1",
         "5",
         "16",
         "1",
         "0",
         "0",
         "91",
         "88"
        ]
       ],
       "shape": {
        "columns": 26,
        "rows": 5
       }
      },
      "text/html": [
       "<div>\n",
       "<style scoped>\n",
       "    .dataframe tbody tr th:only-of-type {\n",
       "        vertical-align: middle;\n",
       "    }\n",
       "\n",
       "    .dataframe tbody tr th {\n",
       "        vertical-align: top;\n",
       "    }\n",
       "\n",
       "    .dataframe thead th {\n",
       "        text-align: right;\n",
       "    }\n",
       "</style>\n",
       "<table border=\"1\" class=\"dataframe\">\n",
       "  <thead>\n",
       "    <tr style=\"text-align: right;\">\n",
       "      <th></th>\n",
       "      <th>age</th>\n",
       "      <th>sex</th>\n",
       "      <th>cholesterol</th>\n",
       "      <th>heart_rate</th>\n",
       "      <th>diabetes</th>\n",
       "      <th>family_history</th>\n",
       "      <th>smoking</th>\n",
       "      <th>obesity</th>\n",
       "      <th>alcohol_consumption</th>\n",
       "      <th>exercise_hours_per_week</th>\n",
       "      <th>diet</th>\n",
       "      <th>previous_heart_problems</th>\n",
       "      <th>medication_use</th>\n",
       "      <th>stress_level</th>\n",
       "      <th>sedentary_hours_per_day</th>\n",
       "      <th>income</th>\n",
       "      <th>bmi</th>\n",
       "      <th>triglycerides</th>\n",
       "      <th>physical_activity_days_per_week</th>\n",
       "      <th>sleep_hours_per_day</th>\n",
       "      <th>country</th>\n",
       "      <th>continent</th>\n",
       "      <th>hemisphere</th>\n",
       "      <th>heart_attack_risk</th>\n",
       "      <th>systolic</th>\n",
       "      <th>diastolic</th>\n",
       "    </tr>\n",
       "  </thead>\n",
       "  <tbody>\n",
       "    <tr>\n",
       "      <th>0</th>\n",
       "      <td>67</td>\n",
       "      <td>1</td>\n",
       "      <td>208</td>\n",
       "      <td>72</td>\n",
       "      <td>0</td>\n",
       "      <td>0</td>\n",
       "      <td>1</td>\n",
       "      <td>0</td>\n",
       "      <td>0</td>\n",
       "      <td>4.17</td>\n",
       "      <td>0</td>\n",
       "      <td>0</td>\n",
       "      <td>0</td>\n",
       "      <td>9</td>\n",
       "      <td>6.62</td>\n",
       "      <td>261404</td>\n",
       "      <td>31.25</td>\n",
       "      <td>286</td>\n",
       "      <td>0</td>\n",
       "      <td>6</td>\n",
       "      <td>0</td>\n",
       "      <td>5</td>\n",
       "      <td>1</td>\n",
       "      <td>0</td>\n",
       "      <td>158</td>\n",
       "      <td>88</td>\n",
       "    </tr>\n",
       "    <tr>\n",
       "      <th>1</th>\n",
       "      <td>21</td>\n",
       "      <td>1</td>\n",
       "      <td>389</td>\n",
       "      <td>98</td>\n",
       "      <td>1</td>\n",
       "      <td>1</td>\n",
       "      <td>1</td>\n",
       "      <td>1</td>\n",
       "      <td>1</td>\n",
       "      <td>1.81</td>\n",
       "      <td>2</td>\n",
       "      <td>1</td>\n",
       "      <td>0</td>\n",
       "      <td>1</td>\n",
       "      <td>4.96</td>\n",
       "      <td>285768</td>\n",
       "      <td>27.19</td>\n",
       "      <td>235</td>\n",
       "      <td>1</td>\n",
       "      <td>7</td>\n",
       "      <td>3</td>\n",
       "      <td>4</td>\n",
       "      <td>0</td>\n",
       "      <td>0</td>\n",
       "      <td>165</td>\n",
       "      <td>93</td>\n",
       "    </tr>\n",
       "    <tr>\n",
       "      <th>2</th>\n",
       "      <td>21</td>\n",
       "      <td>0</td>\n",
       "      <td>324</td>\n",
       "      <td>72</td>\n",
       "      <td>1</td>\n",
       "      <td>0</td>\n",
       "      <td>0</td>\n",
       "      <td>0</td>\n",
       "      <td>0</td>\n",
       "      <td>2.08</td>\n",
       "      <td>1</td>\n",
       "      <td>1</td>\n",
       "      <td>1</td>\n",
       "      <td>9</td>\n",
       "      <td>9.46</td>\n",
       "      <td>235282</td>\n",
       "      <td>28.18</td>\n",
       "      <td>587</td>\n",
       "      <td>4</td>\n",
       "      <td>4</td>\n",
       "      <td>6</td>\n",
       "      <td>3</td>\n",
       "      <td>0</td>\n",
       "      <td>0</td>\n",
       "      <td>174</td>\n",
       "      <td>99</td>\n",
       "    </tr>\n",
       "    <tr>\n",
       "      <th>3</th>\n",
       "      <td>84</td>\n",
       "      <td>1</td>\n",
       "      <td>383</td>\n",
       "      <td>73</td>\n",
       "      <td>1</td>\n",
       "      <td>1</td>\n",
       "      <td>1</td>\n",
       "      <td>0</td>\n",
       "      <td>1</td>\n",
       "      <td>9.83</td>\n",
       "      <td>0</td>\n",
       "      <td>1</td>\n",
       "      <td>0</td>\n",
       "      <td>9</td>\n",
       "      <td>7.65</td>\n",
       "      <td>125640</td>\n",
       "      <td>36.46</td>\n",
       "      <td>378</td>\n",
       "      <td>3</td>\n",
       "      <td>4</td>\n",
       "      <td>3</td>\n",
       "      <td>4</td>\n",
       "      <td>0</td>\n",
       "      <td>0</td>\n",
       "      <td>163</td>\n",
       "      <td>100</td>\n",
       "    </tr>\n",
       "    <tr>\n",
       "      <th>4</th>\n",
       "      <td>66</td>\n",
       "      <td>1</td>\n",
       "      <td>318</td>\n",
       "      <td>93</td>\n",
       "      <td>1</td>\n",
       "      <td>1</td>\n",
       "      <td>1</td>\n",
       "      <td>1</td>\n",
       "      <td>0</td>\n",
       "      <td>5.80</td>\n",
       "      <td>2</td>\n",
       "      <td>1</td>\n",
       "      <td>0</td>\n",
       "      <td>6</td>\n",
       "      <td>1.51</td>\n",
       "      <td>160555</td>\n",
       "      <td>21.81</td>\n",
       "      <td>231</td>\n",
       "      <td>1</td>\n",
       "      <td>5</td>\n",
       "      <td>16</td>\n",
       "      <td>1</td>\n",
       "      <td>0</td>\n",
       "      <td>0</td>\n",
       "      <td>91</td>\n",
       "      <td>88</td>\n",
       "    </tr>\n",
       "  </tbody>\n",
       "</table>\n",
       "</div>"
      ],
      "text/plain": [
       "   age  sex  cholesterol  heart_rate  diabetes  family_history  smoking  \\\n",
       "0   67    1          208          72         0               0        1   \n",
       "1   21    1          389          98         1               1        1   \n",
       "2   21    0          324          72         1               0        0   \n",
       "3   84    1          383          73         1               1        1   \n",
       "4   66    1          318          93         1               1        1   \n",
       "\n",
       "   obesity  alcohol_consumption  exercise_hours_per_week  diet  \\\n",
       "0        0                    0                     4.17     0   \n",
       "1        1                    1                     1.81     2   \n",
       "2        0                    0                     2.08     1   \n",
       "3        0                    1                     9.83     0   \n",
       "4        1                    0                     5.80     2   \n",
       "\n",
       "   previous_heart_problems  medication_use  stress_level  \\\n",
       "0                        0               0             9   \n",
       "1                        1               0             1   \n",
       "2                        1               1             9   \n",
       "3                        1               0             9   \n",
       "4                        1               0             6   \n",
       "\n",
       "   sedentary_hours_per_day  income    bmi  triglycerides  \\\n",
       "0                     6.62  261404  31.25            286   \n",
       "1                     4.96  285768  27.19            235   \n",
       "2                     9.46  235282  28.18            587   \n",
       "3                     7.65  125640  36.46            378   \n",
       "4                     1.51  160555  21.81            231   \n",
       "\n",
       "   physical_activity_days_per_week  sleep_hours_per_day  country  continent  \\\n",
       "0                                0                    6        0          5   \n",
       "1                                1                    7        3          4   \n",
       "2                                4                    4        6          3   \n",
       "3                                3                    4        3          4   \n",
       "4                                1                    5       16          1   \n",
       "\n",
       "   hemisphere  heart_attack_risk  systolic  diastolic  \n",
       "0           1                  0       158         88  \n",
       "1           0                  0       165         93  \n",
       "2           0                  0       174         99  \n",
       "3           0                  0       163        100  \n",
       "4           0                  0        91         88  "
      ]
     },
     "execution_count": 195,
     "metadata": {},
     "output_type": "execute_result"
    }
   ],
   "source": [
    "df.head()"
   ]
  },
  {
   "cell_type": "markdown",
   "metadata": {},
   "source": [
    "### **Applying SMOTE to deal with class imbalance**"
   ]
  },
  {
   "cell_type": "code",
   "execution_count": 196,
   "metadata": {},
   "outputs": [],
   "source": [
    "\n",
    "# Define features and target\n",
    "X_resample = df.drop('heart_attack_risk', axis=1)\n",
    "y_resample = df['heart_attack_risk']\n",
    "\n",
    "# Ensure all columns are float64\n",
    "X_resample = X_resample.astype(float)\n",
    "\n",
    "# Split data\n",
    "X_train_resample, X_test_resample, y_train_resample, y_test_resample = train_test_split(\n",
    "    X_resample, y_resample, test_size=0.2, random_state=42\n",
    ")\n",
    "\n",
    "# Apply SMOTE\n",
    "smote = SMOTE(random_state=42)\n",
    "X_train_resample, y_train_resample = smote.fit_resample(X_train_resample, y_train_resample)\n"
   ]
  },
  {
   "cell_type": "code",
   "execution_count": 197,
   "metadata": {},
   "outputs": [
    {
     "data": {
      "image/png": "[encoded data removed]",
      "text/plain": [
       "<Figure size 640x480 with 1 Axes>"
      ]
     },
     "metadata": {},
     "output_type": "display_data"
    }
   ],
   "source": [
    "# plotting the count plot\n",
    "sns.countplot(x=y_train_resample , palette='Set2' , edgecolor='black' , linewidth=2 )\n",
    "plt.title('Count Plot of heart_attack_risk after Oversampling')\n",
    "plt.show()"
   ]
  },
  {
   "cell_type": "markdown",
   "metadata": {},
   "source": [
    "### Insights after oversampling"
   ]
  },
  {
   "cell_type": "code",
   "execution_count": 198,
   "metadata": {},
   "outputs": [
    {
     "name": "stdout",
     "output_type": "stream",
     "text": [
      "Number of rows before SMOTE: 8763 \n",
      "\n",
      "Number of rows after SMOTE: 10751 \n",
      "\n",
      "Increase in number of rows after SMOTE: 1988\n"
     ]
    }
   ],
   "source": [
    "before_sampling = X_resample.shape[0]\n",
    "print (f\"Number of rows before SMOTE: {before_sampling} \\n\")\n",
    "\n",
    "after_sampling = X_train_resample.shape[0] + X_test_resample.shape[0]\n",
    "\n",
    "print (f\"Number of rows after SMOTE: {after_sampling} \\n\")\n",
    "\n",
    "increase_in_rows =  after_sampling - before_sampling\n",
    "print(f\"Increase in number of rows after SMOTE: {increase_in_rows}\")"
   ]
  },
  {
   "cell_type": "markdown",
   "metadata": {},
   "source": [
    "### **Concatenating the data**"
   ]
  },
  {
   "cell_type": "code",
   "execution_count": 199,
   "metadata": {},
   "outputs": [],
   "source": [
    "\n",
    "# dropping highly correlated features from the independent resampled training & testing data\n",
    "X1 = X_train_resample\n",
    "X2 = X_test_resample\n",
    "\n",
    "# concatenating the independent testing and training data\n",
    "X_resampled = pd.concat([X1 , X2] , axis=0)\n",
    "\n",
    "# concatenating the dependent testing and training data\n",
    "y1 = y_train_resample\n",
    "y2 = y_test_resample\n",
    "\n",
    "y_resampled = pd.concat([y1 , y2] , axis=0)\n"
   ]
  },
  {
   "cell_type": "markdown",
   "metadata": {},
   "source": [
    "### **Again Applying Random Forest Classifier on the resampled data**"
   ]
  },
  {
   "cell_type": "code",
   "execution_count": 200,
   "metadata": {},
   "outputs": [],
   "source": [
    "\n",
    "# Splitting the resampled dataset into train and test sets\n",
    "X_train, X_test, y_train, y_test = train_test_split(X_resampled, y_resampled, test_size=0.2, random_state=42)\n",
    "\n",
    "# Initializing the Random Forest Classifier\n",
    "rf_classifier = RandomForestClassifier(random_state=42)\n",
    "\n",
    "# Training the model\n",
    "rf_classifier.fit(X_train, y_train)\n",
    "\n",
    "# Making predictions\n",
    "y_pred = rf_classifier.predict(X_test)\n"
   ]
  },
  {
   "cell_type": "code",
   "execution_count": 201,
   "metadata": {},
   "outputs": [
    {
     "name": "stdout",
     "output_type": "stream",
     "text": [
      "Accuracy Score:0.6978149697814969\n"
     ]
    }
   ],
   "source": [
    "# Evaluating the model\n",
    "print(f'Accuracy Score:{accuracy_score(y_test, y_pred)}')\n",
    "\n",
    "(confusion_matrix(y_test, y_pred))\n",
    "class_report = classification_report(y_test, y_pred)"
   ]
  },
  {
   "cell_type": "code",
   "execution_count": 202,
   "metadata": {},
   "outputs": [
    {
     "data": {
      "image/png": "[encoded data removed]",
      "text/plain": [
       "<Figure size 1000x600 with 2 Axes>"
      ]
     },
     "metadata": {},
     "output_type": "display_data"
    }
   ],
   "source": [
    "# plotting the confusion matrix\n",
    "plt.figure(figsize=(10, 6))\n",
    "sns.heatmap(confusion_matrix(y_test, y_pred), annot=True, fmt='d', cmap='viridis')\n",
    "plt.xlabel('Predicted')\n",
    "plt.ylabel('Actual')\n",
    "plt.title('Confusion Matrix')\n",
    "plt.show()"
   ]
  },
  {
   "cell_type": "markdown",
   "metadata": {},
   "source": [
    "### **Hyper Perameter Tunning**"
   ]
  },
  {
   "cell_type": "code",
   "execution_count": 203,
   "metadata": {},
   "outputs": [
    {
     "name": "stdout",
     "output_type": "stream",
     "text": [
      "Train accuracy: 0.7296511627906976\n",
      "Test accuracy: 0.694560669456067\n"
     ]
    }
   ],
   "source": [
    "# calling the random forest and adjusting the parameters\n",
    "model = RandomForestClassifier(\n",
    "    n_estimators=150,      # Number of trees\n",
    "    max_depth=10,          # Maximum depth of each tree\n",
    "    min_samples_split=10,  # Minimum samples required to split an internal node\n",
    "    min_samples_leaf=5,    # Minimum samples required to be at a leaf node\n",
    "    max_features=5,        # Number of features to consider when looking for the best split\n",
    "    criterion='entropy',   # Splitting criterion\n",
    "    random_state=42\n",
    ")\n",
    "\n",
    "# fitting the model\n",
    "model.fit(X_train, y_train)\n",
    "\n",
    "# calculating the train and test accuracy\n",
    "y_pred_train = model.predict(X_train)\n",
    "y_pred_test = model.predict(X_test)\n",
    "\n",
    "# printing the train and test accuracy\n",
    "print(f\"Train accuracy: {accuracy_score(y_train, y_pred_train)}\")\n",
    "print(f\"Test accuracy: {accuracy_score(y_test, y_pred_test)}\")"
   ]
  }
 ],
 "metadata": {
  "kernelspec": {
   "display_name": "6m_eda",
   "language": "python",
   "name": "python3"
  },
  "language_info": {
   "codemirror_mode": {
    "name": "ipython",
    "version": 3
   },
   "file_extension": ".py",
   "mimetype": "text/x-python",
   "name": "python",
   "nbconvert_exporter": "python",
   "pygments_lexer": "ipython3",
   "version": "3.11.7"
  }
 },
 "nbformat": 4,
 "nbformat_minor": 2
}
